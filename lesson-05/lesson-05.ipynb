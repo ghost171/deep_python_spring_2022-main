{
 "cells": [
  {
   "cell_type": "code",
   "execution_count": 39,
   "id": "6dd83d7c",
   "metadata": {},
   "outputs": [],
   "source": [
    "from abc import ABCMeta, ABC, abstractmethod\n",
    "\n",
    "\n",
    "# class C(metaclass=ABCMeta):\n",
    "class C(ABC):\n",
    "    @abstractmethod\n",
    "    def abs_method(self):\n",
    "        print('C.abs_meth')\n",
    "\n",
    "\n",
    "class Inht(C):\n",
    "    def abs_method(self):\n",
    "        super().abs_method()\n",
    "        print(\"Inhs.abs\")"
   ]
  },
  {
   "cell_type": "code",
   "execution_count": 37,
   "id": "d50797f5",
   "metadata": {},
   "outputs": [
    {
     "ename": "TypeError",
     "evalue": "Can't instantiate abstract class C with abstract method abs_method",
     "output_type": "error",
     "traceback": [
      "\u001b[0;31m---------------------------------------------------------------------------\u001b[0m",
      "\u001b[0;31mTypeError\u001b[0m                                 Traceback (most recent call last)",
      "Input \u001b[0;32mIn [37]\u001b[0m, in \u001b[0;36m<cell line: 1>\u001b[0;34m()\u001b[0m\n\u001b[0;32m----> 1\u001b[0m c \u001b[38;5;241m=\u001b[39m \u001b[43mC\u001b[49m\u001b[43m(\u001b[49m\u001b[43m)\u001b[49m\n",
      "\u001b[0;31mTypeError\u001b[0m: Can't instantiate abstract class C with abstract method abs_method"
     ]
    }
   ],
   "source": [
    "c = C()"
   ]
  },
  {
   "cell_type": "code",
   "execution_count": 38,
   "id": "78abc936",
   "metadata": {},
   "outputs": [
    {
     "name": "stdout",
     "output_type": "stream",
     "text": [
      "C.abs_meth\n",
      "Inhs.abs\n"
     ]
    }
   ],
   "source": [
    "i = Inht()\n",
    "i.abs_method()"
   ]
  },
  {
   "cell_type": "code",
   "execution_count": 40,
   "id": "4df91304",
   "metadata": {},
   "outputs": [],
   "source": [
    "from collections.abc import Hashable"
   ]
  },
  {
   "cell_type": "code",
   "execution_count": 41,
   "id": "3636836c",
   "metadata": {},
   "outputs": [
    {
     "data": {
      "text/plain": [
       "True"
      ]
     },
     "execution_count": 41,
     "metadata": {},
     "output_type": "execute_result"
    }
   ],
   "source": [
    "isinstance(\"1213\", Hashable)"
   ]
  },
  {
   "cell_type": "code",
   "execution_count": 42,
   "id": "7f9fa83f",
   "metadata": {},
   "outputs": [
    {
     "data": {
      "text/plain": [
       "False"
      ]
     },
     "execution_count": 42,
     "metadata": {},
     "output_type": "execute_result"
    }
   ],
   "source": [
    "isinstance({}, Hashable)"
   ]
  },
  {
   "cell_type": "code",
   "execution_count": 43,
   "id": "7b4d5b43",
   "metadata": {},
   "outputs": [
    {
     "data": {
      "text/plain": [
       "True"
      ]
     },
     "execution_count": 43,
     "metadata": {},
     "output_type": "execute_result"
    }
   ],
   "source": [
    "issubclass(str, Hashable)"
   ]
  },
  {
   "cell_type": "code",
   "execution_count": 44,
   "id": "a895ea09",
   "metadata": {},
   "outputs": [
    {
     "data": {
      "text/plain": [
       "False"
      ]
     },
     "execution_count": 44,
     "metadata": {},
     "output_type": "execute_result"
    }
   ],
   "source": [
    "issubclass(dict, Hashable)"
   ]
  },
  {
   "cell_type": "code",
   "execution_count": 45,
   "id": "69997ed9",
   "metadata": {},
   "outputs": [
    {
     "data": {
      "text/plain": [
       "(True, True)"
      ]
     },
     "execution_count": 45,
     "metadata": {},
     "output_type": "execute_result"
    }
   ],
   "source": [
    "isinstance(i, Hashable), issubclass(Inht, Hashable)"
   ]
  },
  {
   "cell_type": "code",
   "execution_count": 46,
   "id": "5dfb4738",
   "metadata": {},
   "outputs": [],
   "source": [
    "d = {}\n",
    "d[i] = 10"
   ]
  },
  {
   "cell_type": "code",
   "execution_count": 47,
   "id": "bc3b328c",
   "metadata": {},
   "outputs": [
    {
     "data": {
      "text/plain": [
       "{<__main__.Inht at 0x105e35ff0>: 10}"
      ]
     },
     "execution_count": 47,
     "metadata": {},
     "output_type": "execute_result"
    }
   ],
   "source": [
    "d"
   ]
  },
  {
   "cell_type": "code",
   "execution_count": 49,
   "id": "a6b68601",
   "metadata": {},
   "outputs": [
    {
     "data": {
      "text/plain": [
       "[__main__.Inht, __main__.C, abc.ABC, object]"
      ]
     },
     "execution_count": 49,
     "metadata": {},
     "output_type": "execute_result"
    }
   ],
   "source": [
    "Inht.mro()"
   ]
  },
  {
   "cell_type": "code",
   "execution_count": null,
   "id": "3a9416a9",
   "metadata": {},
   "outputs": [],
   "source": []
  },
  {
   "cell_type": "code",
   "execution_count": null,
   "id": "0967b708",
   "metadata": {},
   "outputs": [],
   "source": []
  },
  {
   "cell_type": "code",
   "execution_count": null,
   "id": "646fd74f",
   "metadata": {},
   "outputs": [],
   "source": []
  },
  {
   "cell_type": "code",
   "execution_count": 54,
   "id": "693f538d",
   "metadata": {},
   "outputs": [],
   "source": [
    "from abc import ABCMeta, abstractmethod\n",
    "\n",
    "\n",
    "class Predictable(metaclass=ABCMeta):\n",
    "\n",
    "    @classmethod\n",
    "    def __subclasshook__(cls, C):\n",
    "        print(\"HOOK\", cls, C)\n",
    "        if cls is Predictable:\n",
    "            return _check_method(C, \"predict\")\n",
    " \n",
    "        return NotImplemented\n",
    "\n",
    "\n",
    "def _check_method(C, method):\n",
    "    for B in C.__mro__:\n",
    "        if method in B.__dict__ and callable(B.__dict__[method]):\n",
    "            break\n",
    "    else:\n",
    "        return NotImplemented\n",
    "\n",
    "    return True\n",
    "\n",
    "\n",
    "class Tree:\n",
    "    def predict(self):\n",
    "        return [1 ,2, 3]\n",
    "    \n",
    "\n",
    "class FakeTree:\n",
    "    predict = 99"
   ]
  },
  {
   "cell_type": "code",
   "execution_count": null,
   "id": "5f91302b",
   "metadata": {},
   "outputs": [],
   "source": []
  },
  {
   "cell_type": "code",
   "execution_count": null,
   "id": "d7a0d8e1",
   "metadata": {},
   "outputs": [],
   "source": []
  },
  {
   "cell_type": "code",
   "execution_count": null,
   "id": "dcac1d93",
   "metadata": {},
   "outputs": [],
   "source": []
  },
  {
   "cell_type": "code",
   "execution_count": null,
   "id": "b7c11011",
   "metadata": {},
   "outputs": [],
   "source": []
  },
  {
   "cell_type": "code",
   "execution_count": null,
   "id": "2378b39c",
   "metadata": {},
   "outputs": [],
   "source": []
  },
  {
   "cell_type": "code",
   "execution_count": null,
   "id": "e15c44c9",
   "metadata": {},
   "outputs": [],
   "source": []
  },
  {
   "cell_type": "code",
   "execution_count": 56,
   "id": "cb2f7a1e",
   "metadata": {},
   "outputs": [],
   "source": [
    "t = Tree()\n",
    "fake = FakeTree()"
   ]
  },
  {
   "cell_type": "code",
   "execution_count": 57,
   "id": "d547ac4c",
   "metadata": {},
   "outputs": [
    {
     "name": "stdout",
     "output_type": "stream",
     "text": [
      "HOOK <class '__main__.Predictable'> <class '__main__.Tree'>\n"
     ]
    },
    {
     "data": {
      "text/plain": [
       "True"
      ]
     },
     "execution_count": 57,
     "metadata": {},
     "output_type": "execute_result"
    }
   ],
   "source": [
    "isinstance(t, Predictable)"
   ]
  },
  {
   "cell_type": "code",
   "execution_count": 58,
   "id": "21289545",
   "metadata": {},
   "outputs": [
    {
     "name": "stdout",
     "output_type": "stream",
     "text": [
      "HOOK <class '__main__.Predictable'> <class '__main__.FakeTree'>\n"
     ]
    },
    {
     "data": {
      "text/plain": [
       "False"
      ]
     },
     "execution_count": 58,
     "metadata": {},
     "output_type": "execute_result"
    }
   ],
   "source": [
    "isinstance(fake, Predictable)"
   ]
  },
  {
   "cell_type": "code",
   "execution_count": null,
   "id": "a7fa3c05",
   "metadata": {},
   "outputs": [],
   "source": []
  },
  {
   "cell_type": "code",
   "execution_count": null,
   "id": "daf6db7f",
   "metadata": {},
   "outputs": [],
   "source": []
  },
  {
   "cell_type": "code",
   "execution_count": null,
   "id": "467ac44d",
   "metadata": {},
   "outputs": [],
   "source": []
  },
  {
   "cell_type": "code",
   "execution_count": null,
   "id": "90bc5dbe",
   "metadata": {},
   "outputs": [],
   "source": []
  },
  {
   "cell_type": "code",
   "execution_count": null,
   "id": "0d7719a8",
   "metadata": {},
   "outputs": [],
   "source": []
  },
  {
   "cell_type": "code",
   "execution_count": null,
   "id": "6798e56f",
   "metadata": {},
   "outputs": [],
   "source": []
  },
  {
   "cell_type": "code",
   "execution_count": 65,
   "id": "8c8544d7",
   "metadata": {},
   "outputs": [
    {
     "data": {
      "text/plain": [
       "(6, 7, 8, 8)"
      ]
     },
     "execution_count": 65,
     "metadata": {},
     "output_type": "execute_result"
    }
   ],
   "source": [
    "round(6.5), round(6.6), round(7.5), round(7.6)"
   ]
  },
  {
   "cell_type": "code",
   "execution_count": 63,
   "id": "d7bf7da0",
   "metadata": {},
   "outputs": [
    {
     "data": {
      "text/plain": [
       "(-6, -7, -8, -8)"
      ]
     },
     "execution_count": 63,
     "metadata": {},
     "output_type": "execute_result"
    }
   ],
   "source": [
    "round(-6.5), round(-6.6), round(-7.5), round(-7.6)"
   ]
  },
  {
   "cell_type": "code",
   "execution_count": 61,
   "id": "d17404e8",
   "metadata": {},
   "outputs": [],
   "source": [
    "import math"
   ]
  },
  {
   "cell_type": "code",
   "execution_count": null,
   "id": "4c34f7f9",
   "metadata": {},
   "outputs": [],
   "source": []
  },
  {
   "cell_type": "code",
   "execution_count": 68,
   "id": "7aa9e791",
   "metadata": {},
   "outputs": [],
   "source": [
    "x = float(\"-inf\") + float(\"inf\")"
   ]
  },
  {
   "cell_type": "code",
   "execution_count": 69,
   "id": "eb1a9d8c",
   "metadata": {},
   "outputs": [],
   "source": [
    "y = float(\"-inf\") + float(\"inf\")"
   ]
  },
  {
   "cell_type": "code",
   "execution_count": 71,
   "id": "4a356604",
   "metadata": {},
   "outputs": [
    {
     "data": {
      "text/plain": [
       "False"
      ]
     },
     "execution_count": 71,
     "metadata": {},
     "output_type": "execute_result"
    }
   ],
   "source": [
    "x == y"
   ]
  },
  {
   "cell_type": "code",
   "execution_count": null,
   "id": "3a8210ab",
   "metadata": {},
   "outputs": [],
   "source": []
  },
  {
   "cell_type": "code",
   "execution_count": 72,
   "id": "acc231b9",
   "metadata": {},
   "outputs": [],
   "source": [
    "s = \"1122344\""
   ]
  },
  {
   "cell_type": "code",
   "execution_count": 73,
   "id": "514d7e16",
   "metadata": {},
   "outputs": [
    {
     "data": {
      "text/plain": [
       "False"
      ]
     },
     "execution_count": 73,
     "metadata": {},
     "output_type": "execute_result"
    }
   ],
   "source": [
    "s.isidentifier()"
   ]
  },
  {
   "cell_type": "code",
   "execution_count": 75,
   "id": "0d19f8f4",
   "metadata": {},
   "outputs": [
    {
     "data": {
      "text/plain": [
       "False"
      ]
     },
     "execution_count": 75,
     "metadata": {},
     "output_type": "execute_result"
    }
   ],
   "source": [
    "\"1s\".isidentifier()"
   ]
  },
  {
   "cell_type": "code",
   "execution_count": 76,
   "id": "98046846",
   "metadata": {},
   "outputs": [
    {
     "ename": "SyntaxError",
     "evalue": "invalid decimal literal (2121170943.py, line 1)",
     "output_type": "error",
     "traceback": [
      "\u001b[0;36m  Input \u001b[0;32mIn [76]\u001b[0;36m\u001b[0m\n\u001b[0;31m    1s = 10\u001b[0m\n\u001b[0m    ^\u001b[0m\n\u001b[0;31mSyntaxError\u001b[0m\u001b[0;31m:\u001b[0m invalid decimal literal\n"
     ]
    }
   ],
   "source": [
    "1s = 10"
   ]
  },
  {
   "cell_type": "code",
   "execution_count": 78,
   "id": "876f9f0c",
   "metadata": {},
   "outputs": [],
   "source": [
    "s = \"1¹²²³⁴⁴\""
   ]
  },
  {
   "cell_type": "code",
   "execution_count": 83,
   "id": "a3868e46",
   "metadata": {},
   "outputs": [
    {
     "data": {
      "text/plain": [
       "(True, True, True, False)"
      ]
     },
     "execution_count": 83,
     "metadata": {},
     "output_type": "execute_result"
    }
   ],
   "source": [
    "s.isalnum(), s.isdigit(), s.isnumeric(), s.isdecimal()"
   ]
  },
  {
   "cell_type": "code",
   "execution_count": 86,
   "id": "6946940f",
   "metadata": {},
   "outputs": [
    {
     "name": "stdout",
     "output_type": "stream",
     "text": [
      "ERRR\n"
     ]
    }
   ],
   "source": [
    "try:\n",
    "    int(s)\n",
    "except ValueError:\n",
    "    print('ERRR')"
   ]
  },
  {
   "cell_type": "code",
   "execution_count": null,
   "id": "d000b512",
   "metadata": {},
   "outputs": [],
   "source": []
  },
  {
   "cell_type": "code",
   "execution_count": null,
   "id": "40d1eeda",
   "metadata": {},
   "outputs": [],
   "source": []
  },
  {
   "cell_type": "code",
   "execution_count": 87,
   "id": "1cb2da81",
   "metadata": {},
   "outputs": [],
   "source": [
    "s = \"1234567\""
   ]
  },
  {
   "cell_type": "code",
   "execution_count": 89,
   "id": "d60ef612",
   "metadata": {},
   "outputs": [
    {
     "data": {
      "text/plain": [
       "(True, False, True, False)"
      ]
     },
     "execution_count": 89,
     "metadata": {},
     "output_type": "execute_result"
    }
   ],
   "source": [
    "s.startswith(\"123\"), s.startswith(\"312\"), s.endswith(\"1234567\"), s.startswith(\"467\")"
   ]
  },
  {
   "cell_type": "code",
   "execution_count": 90,
   "id": "4f769fba",
   "metadata": {},
   "outputs": [
    {
     "data": {
      "text/plain": [
       "'1234567'"
      ]
     },
     "execution_count": 90,
     "metadata": {},
     "output_type": "execute_result"
    }
   ],
   "source": [
    "s.upper()"
   ]
  },
  {
   "cell_type": "code",
   "execution_count": 91,
   "id": "d5d923f5",
   "metadata": {},
   "outputs": [],
   "source": [
    "s = \"лекция 1234567 в вк зконках\""
   ]
  },
  {
   "cell_type": "code",
   "execution_count": 92,
   "id": "7ac05b96",
   "metadata": {},
   "outputs": [
    {
     "data": {
      "text/plain": [
       "'Лекция 1234567 в вк зконках'"
      ]
     },
     "execution_count": 92,
     "metadata": {},
     "output_type": "execute_result"
    }
   ],
   "source": [
    "s.capitalize()"
   ]
  },
  {
   "cell_type": "code",
   "execution_count": 95,
   "id": "e45e980a",
   "metadata": {},
   "outputs": [
    {
     "data": {
      "text/plain": [
       "('ЛЕКЦИЯ 1234567 В ВК ЗКОНКАХ', True)"
      ]
     },
     "execution_count": 95,
     "metadata": {},
     "output_type": "execute_result"
    }
   ],
   "source": [
    "s.upper(), s.upper().isupper()"
   ]
  },
  {
   "cell_type": "code",
   "execution_count": 98,
   "id": "b210be84",
   "metadata": {},
   "outputs": [
    {
     "data": {
      "text/plain": [
       "('лекция 1234567 в вк зконках', True, True, False)"
      ]
     },
     "execution_count": 98,
     "metadata": {},
     "output_type": "execute_result"
    }
   ],
   "source": [
    "s.lower(), s.lower().islower(), s.islower(), \"Qwerty\".islower()"
   ]
  },
  {
   "cell_type": "code",
   "execution_count": 101,
   "id": "c6a6b815",
   "metadata": {},
   "outputs": [
    {
     "data": {
      "text/plain": [
       "('Лекция 1234567 В Вк Зконках', True, False)"
      ]
     },
     "execution_count": 101,
     "metadata": {},
     "output_type": "execute_result"
    }
   ],
   "source": [
    "s.title(), s.title().istitle(), s.istitle()"
   ]
  },
  {
   "cell_type": "code",
   "execution_count": 103,
   "id": "80c20132",
   "metadata": {},
   "outputs": [
    {
     "data": {
      "text/plain": [
       "'лЕКЦИЯ 1234567 в вК зКОНКАХ'"
      ]
     },
     "execution_count": 103,
     "metadata": {},
     "output_type": "execute_result"
    }
   ],
   "source": [
    "s.title().swapcase()"
   ]
  },
  {
   "cell_type": "code",
   "execution_count": 105,
   "id": "b5ca06ca",
   "metadata": {},
   "outputs": [
    {
     "data": {
      "text/plain": [
       "True"
      ]
     },
     "execution_count": 105,
     "metadata": {},
     "output_type": "execute_result"
    }
   ],
   "source": [
    "s.isprintable()"
   ]
  },
  {
   "cell_type": "code",
   "execution_count": 106,
   "id": "53664f81",
   "metadata": {},
   "outputs": [
    {
     "data": {
      "text/plain": [
       "(113, 'd')"
      ]
     },
     "execution_count": 106,
     "metadata": {},
     "output_type": "execute_result"
    }
   ],
   "source": [
    "ord(\"q\"), chr(100)"
   ]
  },
  {
   "cell_type": "code",
   "execution_count": 107,
   "id": "0c84ae8d",
   "metadata": {},
   "outputs": [
    {
     "data": {
      "text/plain": [
       "False"
      ]
     },
     "execution_count": 107,
     "metadata": {},
     "output_type": "execute_result"
    }
   ],
   "source": [
    "chr(1).isprintable()"
   ]
  },
  {
   "cell_type": "code",
   "execution_count": 108,
   "id": "ca9e1a4a",
   "metadata": {},
   "outputs": [
    {
     "data": {
      "text/plain": [
       "'\\x01'"
      ]
     },
     "execution_count": 108,
     "metadata": {},
     "output_type": "execute_result"
    }
   ],
   "source": [
    "chr(1)"
   ]
  },
  {
   "cell_type": "code",
   "execution_count": 111,
   "id": "34bf3f14",
   "metadata": {},
   "outputs": [
    {
     "data": {
      "text/plain": [
       "False"
      ]
     },
     "execution_count": 111,
     "metadata": {},
     "output_type": "execute_result"
    }
   ],
   "source": [
    "\"  \\t\\n  3\".isspace()"
   ]
  },
  {
   "cell_type": "code",
   "execution_count": 114,
   "id": "e451b44b",
   "metadata": {},
   "outputs": [],
   "source": [
    "s = 'лекция 1234567 в 123 вк зконках'"
   ]
  },
  {
   "cell_type": "code",
   "execution_count": 118,
   "id": "e80ff319",
   "metadata": {},
   "outputs": [
    {
     "data": {
      "text/plain": [
       "(2, 1)"
      ]
     },
     "execution_count": 118,
     "metadata": {},
     "output_type": "execute_result"
    }
   ],
   "source": [
    "s.count(\"123\"), s.count(\"1234\")"
   ]
  },
  {
   "cell_type": "code",
   "execution_count": 123,
   "id": "d6a0cb6d",
   "metadata": {},
   "outputs": [
    {
     "data": {
      "text/plain": [
       "(7, -1)"
      ]
     },
     "execution_count": 123,
     "metadata": {},
     "output_type": "execute_result"
    }
   ],
   "source": [
    "s.find(\"1234\"), s.find(\"12349\")"
   ]
  },
  {
   "cell_type": "code",
   "execution_count": 120,
   "id": "3970e9d6",
   "metadata": {},
   "outputs": [
    {
     "data": {
      "text/plain": [
       "'1234567 в 123 вк зконках'"
      ]
     },
     "execution_count": 120,
     "metadata": {},
     "output_type": "execute_result"
    }
   ],
   "source": [
    "s[7:]"
   ]
  },
  {
   "cell_type": "code",
   "execution_count": 125,
   "id": "91ae922b",
   "metadata": {},
   "outputs": [
    {
     "data": {
      "text/plain": [
       "7"
      ]
     },
     "execution_count": 125,
     "metadata": {},
     "output_type": "execute_result"
    }
   ],
   "source": [
    "s.index(\"1234\")"
   ]
  },
  {
   "cell_type": "code",
   "execution_count": 126,
   "id": "52f2045c",
   "metadata": {},
   "outputs": [
    {
     "ename": "ValueError",
     "evalue": "substring not found",
     "output_type": "error",
     "traceback": [
      "\u001b[0;31m---------------------------------------------------------------------------\u001b[0m",
      "\u001b[0;31mValueError\u001b[0m                                Traceback (most recent call last)",
      "Input \u001b[0;32mIn [126]\u001b[0m, in \u001b[0;36m<cell line: 1>\u001b[0;34m()\u001b[0m\n\u001b[0;32m----> 1\u001b[0m \u001b[43ms\u001b[49m\u001b[38;5;241;43m.\u001b[39;49m\u001b[43mindex\u001b[49m\u001b[43m(\u001b[49m\u001b[38;5;124;43m\"\u001b[39;49m\u001b[38;5;124;43m12349\u001b[39;49m\u001b[38;5;124;43m\"\u001b[39;49m\u001b[43m)\u001b[49m\n",
      "\u001b[0;31mValueError\u001b[0m: substring not found"
     ]
    }
   ],
   "source": [
    "s.index(\"12349\")"
   ]
  },
  {
   "cell_type": "code",
   "execution_count": 128,
   "id": "1596a127",
   "metadata": {},
   "outputs": [
    {
     "data": {
      "text/plain": [
       "(True, False)"
      ]
     },
     "execution_count": 128,
     "metadata": {},
     "output_type": "execute_result"
    }
   ],
   "source": [
    "\"123\" in s, \"1239\" in s"
   ]
  },
  {
   "cell_type": "code",
   "execution_count": 129,
   "id": "7fbcdf7d",
   "metadata": {},
   "outputs": [
    {
     "data": {
      "text/plain": [
       "True"
      ]
     },
     "execution_count": 129,
     "metadata": {},
     "output_type": "execute_result"
    }
   ],
   "source": [
    "\"123\" < \"124\""
   ]
  },
  {
   "cell_type": "code",
   "execution_count": 130,
   "id": "e8c45cd0",
   "metadata": {},
   "outputs": [
    {
     "data": {
      "text/plain": [
       "False"
      ]
     },
     "execution_count": 130,
     "metadata": {},
     "output_type": "execute_result"
    }
   ],
   "source": [
    "(1, 2, 4) < (1, 2, 3)"
   ]
  },
  {
   "cell_type": "code",
   "execution_count": 131,
   "id": "e57adae1",
   "metadata": {},
   "outputs": [
    {
     "data": {
      "text/plain": [
       "'лекция 1234567 в 123 вк зконках'"
      ]
     },
     "execution_count": 131,
     "metadata": {},
     "output_type": "execute_result"
    }
   ],
   "source": [
    "s"
   ]
  },
  {
   "cell_type": "code",
   "execution_count": 133,
   "id": "b0e58129",
   "metadata": {},
   "outputs": [
    {
     "data": {
      "text/plain": [
       "('лекция 3214567 в 321 вк зконках', 'лекция 3214567 в 123 вк зконках')"
      ]
     },
     "execution_count": 133,
     "metadata": {},
     "output_type": "execute_result"
    }
   ],
   "source": [
    "s.replace(\"123\", \"321\"), s.replace(\"123\", \"321\", 1)"
   ]
  },
  {
   "cell_type": "code",
   "execution_count": 138,
   "id": "f9cc080a",
   "metadata": {},
   "outputs": [
    {
     "data": {
      "text/plain": [
       "('qqqqqqqqqлекция 1234567 в 123 вк зконкахqqqqqqqqqq', 50)"
      ]
     },
     "execution_count": 138,
     "metadata": {},
     "output_type": "execute_result"
    }
   ],
   "source": [
    "s.center(50, \"q\"), len(s.center(50))"
   ]
  },
  {
   "cell_type": "code",
   "execution_count": 140,
   "id": "d3e22b8c",
   "metadata": {},
   "outputs": [
    {
     "data": {
      "text/plain": [
       "'                   лекция 1234567 в 123 вк зконках'"
      ]
     },
     "execution_count": 140,
     "metadata": {},
     "output_type": "execute_result"
    }
   ],
   "source": [
    "s.rjust(50)"
   ]
  },
  {
   "cell_type": "code",
   "execution_count": 141,
   "id": "900b44af",
   "metadata": {},
   "outputs": [
    {
     "data": {
      "text/plain": [
       "'лекция 1234567 в 123 вк зконках'"
      ]
     },
     "execution_count": 141,
     "metadata": {},
     "output_type": "execute_result"
    }
   ],
   "source": [
    "s"
   ]
  },
  {
   "cell_type": "code",
   "execution_count": 142,
   "id": "47b4e359",
   "metadata": {},
   "outputs": [
    {
     "data": {
      "text/plain": [
       "'лекция 1234567 в 123 вк зконках'"
      ]
     },
     "execution_count": 142,
     "metadata": {},
     "output_type": "execute_result"
    }
   ],
   "source": [
    "s.strip(\"123\")"
   ]
  },
  {
   "cell_type": "code",
   "execution_count": 149,
   "id": "07705a93",
   "metadata": {},
   "outputs": [
    {
     "data": {
      "text/plain": [
       "'кция 1234567 в 123 вк зконк'"
      ]
     },
     "execution_count": 149,
     "metadata": {},
     "output_type": "execute_result"
    }
   ],
   "source": [
    "s.strip(\"алеКх\")"
   ]
  },
  {
   "cell_type": "code",
   "execution_count": 145,
   "id": "2dd5280a",
   "metadata": {},
   "outputs": [
    {
     "data": {
      "text/plain": [
       "'45555554'"
      ]
     },
     "execution_count": 145,
     "metadata": {},
     "output_type": "execute_result"
    }
   ],
   "source": [
    "\"12345555554321\".strip(\"123\")"
   ]
  },
  {
   "cell_type": "code",
   "execution_count": 151,
   "id": "b074578a",
   "metadata": {},
   "outputs": [
    {
     "data": {
      "text/plain": [
       "'1233'"
      ]
     },
     "execution_count": 151,
     "metadata": {},
     "output_type": "execute_result"
    }
   ],
   "source": [
    "\"   1233    \\t\\n\\t\\n   \".strip()"
   ]
  },
  {
   "cell_type": "code",
   "execution_count": 152,
   "id": "29db387f",
   "metadata": {},
   "outputs": [
    {
     "data": {
      "text/plain": [
       "'лекция 1234567 в 123 вк зконках'"
      ]
     },
     "execution_count": 152,
     "metadata": {},
     "output_type": "execute_result"
    }
   ],
   "source": [
    "s"
   ]
  },
  {
   "cell_type": "code",
   "execution_count": 153,
   "id": "c28dfaac",
   "metadata": {},
   "outputs": [
    {
     "data": {
      "text/plain": [
       "['лекция ', '4567 в ', ' вк зконках']"
      ]
     },
     "execution_count": 153,
     "metadata": {},
     "output_type": "execute_result"
    }
   ],
   "source": [
    "s.split(\"123\")"
   ]
  },
  {
   "cell_type": "code",
   "execution_count": 154,
   "id": "e939a779",
   "metadata": {},
   "outputs": [
    {
     "data": {
      "text/plain": [
       "'лекция 1234567 в 123 вк зконках'"
      ]
     },
     "execution_count": 154,
     "metadata": {},
     "output_type": "execute_result"
    }
   ],
   "source": [
    "\"123\".join(s.split(\"123\"))"
   ]
  },
  {
   "cell_type": "code",
   "execution_count": 155,
   "id": "3b15fca3",
   "metadata": {},
   "outputs": [
    {
     "data": {
      "text/plain": [
       "'лекция ---4567 в --- вк зконках'"
      ]
     },
     "execution_count": 155,
     "metadata": {},
     "output_type": "execute_result"
    }
   ],
   "source": [
    "\"---\".join(s.split(\"123\"))"
   ]
  },
  {
   "cell_type": "code",
   "execution_count": 160,
   "id": "c6df7c08",
   "metadata": {},
   "outputs": [
    {
     "data": {
      "text/plain": [
       "('23', '23')"
      ]
     },
     "execution_count": 160,
     "metadata": {},
     "output_type": "execute_result"
    }
   ],
   "source": [
    "a = \"1\"\n",
    "b = \"2\"\n",
    "c = \"3\"\n",
    "\n",
    "for i in range(10000):\n",
    "    a += str(i)\n",
    "\n",
    "b + c, \"\".join([b, c])"
   ]
  },
  {
   "cell_type": "code",
   "execution_count": 161,
   "id": "93cd3702",
   "metadata": {},
   "outputs": [
    {
     "name": "stdout",
     "output_type": "stream",
     "text": [
      "2.66 ms ± 125 µs per loop (mean ± std. dev. of 7 runs, 100 loops each)\n"
     ]
    }
   ],
   "source": [
    "%%timeit\n",
    "\n",
    "a = \"\"\n",
    "for i in range(10000):\n",
    "    a += str(i)\n"
   ]
  },
  {
   "cell_type": "code",
   "execution_count": 162,
   "id": "2583de09",
   "metadata": {},
   "outputs": [
    {
     "name": "stdout",
     "output_type": "stream",
     "text": [
      "2.56 ms ± 335 µs per loop (mean ± std. dev. of 7 runs, 100 loops each)\n"
     ]
    }
   ],
   "source": [
    "%%timeit\n",
    "\n",
    "a = []\n",
    "for i in range(10000):\n",
    "    a.append(str(i))\n",
    "    \n",
    "a = \"\".join(a)\n",
    "\n"
   ]
  },
  {
   "cell_type": "code",
   "execution_count": 164,
   "id": "b091b929",
   "metadata": {},
   "outputs": [
    {
     "name": "stdout",
     "output_type": "stream",
     "text": [
      "1.89 ms ± 104 µs per loop (mean ± std. dev. of 7 runs, 100 loops each)\n"
     ]
    }
   ],
   "source": [
    "%%timeit\n",
    "\n",
    "a = \"\".join([str(i) for i in range(10000)])"
   ]
  },
  {
   "cell_type": "code",
   "execution_count": 165,
   "id": "aa3b3a24",
   "metadata": {},
   "outputs": [
    {
     "name": "stdout",
     "output_type": "stream",
     "text": [
      "2.06 ms ± 72.9 µs per loop (mean ± std. dev. of 7 runs, 100 loops each)\n"
     ]
    }
   ],
   "source": [
    "%%timeit\n",
    "\n",
    "a = \"\".join(str(i) for i in range(10000))"
   ]
  },
  {
   "cell_type": "code",
   "execution_count": 166,
   "id": "0d86c368",
   "metadata": {},
   "outputs": [
    {
     "data": {
      "text/plain": [
       "<generator object <genexpr> at 0x1070b8b30>"
      ]
     },
     "execution_count": 166,
     "metadata": {},
     "output_type": "execute_result"
    }
   ],
   "source": [
    "(str(i) for i in range(10000))"
   ]
  },
  {
   "cell_type": "code",
   "execution_count": 167,
   "id": "5ef4fae5",
   "metadata": {},
   "outputs": [
    {
     "data": {
      "text/plain": [
       "'лекция 1234567 в 123 вк зконках'"
      ]
     },
     "execution_count": 167,
     "metadata": {},
     "output_type": "execute_result"
    }
   ],
   "source": [
    "s"
   ]
  },
  {
   "cell_type": "code",
   "execution_count": 169,
   "id": "79548caf",
   "metadata": {},
   "outputs": [
    {
     "data": {
      "text/plain": [
       "('лекция 1234567 в ', '123', ' вк зконках')"
      ]
     },
     "execution_count": 169,
     "metadata": {},
     "output_type": "execute_result"
    }
   ],
   "source": [
    "s.rpartition(\"123\")"
   ]
  },
  {
   "cell_type": "code",
   "execution_count": 170,
   "id": "4d020cf1",
   "metadata": {},
   "outputs": [
    {
     "data": {
      "text/plain": [
       "['лекция ', '4567 в 123 вк зконках']"
      ]
     },
     "execution_count": 170,
     "metadata": {},
     "output_type": "execute_result"
    }
   ],
   "source": [
    "s.split(\"123\", 1)"
   ]
  },
  {
   "cell_type": "code",
   "execution_count": 171,
   "id": "95e0abf0",
   "metadata": {},
   "outputs": [
    {
     "data": {
      "text/plain": [
       "['a', 'b.c.d.ru']"
      ]
     },
     "execution_count": 171,
     "metadata": {},
     "output_type": "execute_result"
    }
   ],
   "source": [
    "\"a.b.c.d.ru\".split(\".\", 1)"
   ]
  },
  {
   "cell_type": "code",
   "execution_count": 172,
   "id": "1730401e",
   "metadata": {},
   "outputs": [
    {
     "data": {
      "text/plain": [
       "'0000000000000000000лекция 1234567 в 123 вк зконках'"
      ]
     },
     "execution_count": 172,
     "metadata": {},
     "output_type": "execute_result"
    }
   ],
   "source": [
    "s.zfill(50)"
   ]
  },
  {
   "cell_type": "code",
   "execution_count": 176,
   "id": "efacb8b1",
   "metadata": {},
   "outputs": [
    {
     "data": {
      "text/plain": [
       "('лекция 1234567 в 123 вк зконках', ' 1234567 в 123 вк зконках')"
      ]
     },
     "execution_count": 176,
     "metadata": {},
     "output_type": "execute_result"
    }
   ],
   "source": [
    "s.removeprefix(\"ялекци\"), s.removeprefix(\"лекция\")"
   ]
  },
  {
   "cell_type": "code",
   "execution_count": null,
   "id": "a4cf5e45",
   "metadata": {},
   "outputs": [],
   "source": []
  },
  {
   "cell_type": "code",
   "execution_count": 177,
   "id": "b23a3382",
   "metadata": {},
   "outputs": [],
   "source": [
    "import collections"
   ]
  },
  {
   "cell_type": "code",
   "execution_count": 185,
   "id": "6047a3c4",
   "metadata": {},
   "outputs": [],
   "source": [
    "dd = collections.defaultdict(lambda: [\"123\"])\n",
    "lst = [\"apple\", \"orange\", \"ananas\", \"ohra\", \"pear\"]"
   ]
  },
  {
   "cell_type": "code",
   "execution_count": 186,
   "id": "5da46564",
   "metadata": {},
   "outputs": [],
   "source": [
    "for fruit in lst:\n",
    "    dd[fruit[0]].append(fruit)"
   ]
  },
  {
   "cell_type": "code",
   "execution_count": 187,
   "id": "6622f3d5",
   "metadata": {},
   "outputs": [
    {
     "data": {
      "text/plain": [
       "defaultdict(<function __main__.<lambda>()>,\n",
       "            {'a': ['123', 'apple', 'ananas'],\n",
       "             'o': ['123', 'orange', 'ohra'],\n",
       "             'p': ['123', 'pear']})"
      ]
     },
     "execution_count": 187,
     "metadata": {},
     "output_type": "execute_result"
    }
   ],
   "source": [
    "dd"
   ]
  },
  {
   "cell_type": "code",
   "execution_count": 188,
   "id": "8fe2a71f",
   "metadata": {},
   "outputs": [
    {
     "name": "stdout",
     "output_type": "stream",
     "text": [
      "a ['123', 'apple', 'ananas']\n",
      "o ['123', 'orange', 'ohra']\n",
      "p ['123', 'pear']\n"
     ]
    }
   ],
   "source": [
    "for k, v in dd.items():\n",
    "    print(k, v)"
   ]
  },
  {
   "cell_type": "code",
   "execution_count": 184,
   "id": "307ac10b",
   "metadata": {},
   "outputs": [
    {
     "data": {
      "text/plain": [
       "True"
      ]
     },
     "execution_count": 184,
     "metadata": {},
     "output_type": "execute_result"
    }
   ],
   "source": [
    "isinstance(dd, dict)"
   ]
  },
  {
   "cell_type": "code",
   "execution_count": 189,
   "id": "85fcc69d",
   "metadata": {},
   "outputs": [],
   "source": [
    "lst = [\"apple\", \"orange\", \"ananas\", \"ohra\", \"pear\", \"ananas\", \"ohra\", \"pear\"]"
   ]
  },
  {
   "cell_type": "code",
   "execution_count": 190,
   "id": "8c4549b3",
   "metadata": {},
   "outputs": [],
   "source": [
    "c = collections.Counter(lst)"
   ]
  },
  {
   "cell_type": "code",
   "execution_count": 191,
   "id": "e8a9b20c",
   "metadata": {},
   "outputs": [
    {
     "data": {
      "text/plain": [
       "Counter({'apple': 1, 'orange': 1, 'ananas': 2, 'ohra': 2, 'pear': 2})"
      ]
     },
     "execution_count": 191,
     "metadata": {},
     "output_type": "execute_result"
    }
   ],
   "source": [
    "c"
   ]
  },
  {
   "cell_type": "code",
   "execution_count": 193,
   "id": "da41a565",
   "metadata": {},
   "outputs": [
    {
     "data": {
      "text/plain": [
       "['apple', 'orange', 'ananas', 'ananas', 'ohra', 'ohra', 'pear', 'pear']"
      ]
     },
     "execution_count": 193,
     "metadata": {},
     "output_type": "execute_result"
    }
   ],
   "source": [
    "list(c.elements())"
   ]
  },
  {
   "cell_type": "code",
   "execution_count": 196,
   "id": "5b4eb0d9",
   "metadata": {},
   "outputs": [
    {
     "data": {
      "text/plain": [
       "[('ananas', 2), ('ohra', 2), ('pear', 2), ('apple', 1)]"
      ]
     },
     "execution_count": 196,
     "metadata": {},
     "output_type": "execute_result"
    }
   ],
   "source": [
    "c.most_common(4)"
   ]
  },
  {
   "cell_type": "code",
   "execution_count": null,
   "id": "b59c7a1c",
   "metadata": {},
   "outputs": [],
   "source": []
  },
  {
   "cell_type": "code",
   "execution_count": 197,
   "id": "5fa6286c",
   "metadata": {},
   "outputs": [],
   "source": [
    "d = collections.deque()"
   ]
  },
  {
   "cell_type": "code",
   "execution_count": 198,
   "id": "1dce583e",
   "metadata": {},
   "outputs": [],
   "source": [
    "d.append(1)\n",
    "d.append(2)\n",
    "d.append(3)"
   ]
  },
  {
   "cell_type": "code",
   "execution_count": 199,
   "id": "21cd63a6",
   "metadata": {},
   "outputs": [
    {
     "data": {
      "text/plain": [
       "deque([1, 2, 3])"
      ]
     },
     "execution_count": 199,
     "metadata": {},
     "output_type": "execute_result"
    }
   ],
   "source": [
    "d"
   ]
  },
  {
   "cell_type": "code",
   "execution_count": 200,
   "id": "2d8c9be8",
   "metadata": {},
   "outputs": [],
   "source": [
    "d.appendleft(4)"
   ]
  },
  {
   "cell_type": "code",
   "execution_count": 201,
   "id": "c2c79556",
   "metadata": {},
   "outputs": [
    {
     "data": {
      "text/plain": [
       "deque([4, 1, 2, 3])"
      ]
     },
     "execution_count": 201,
     "metadata": {},
     "output_type": "execute_result"
    }
   ],
   "source": [
    "d"
   ]
  },
  {
   "cell_type": "code",
   "execution_count": 202,
   "id": "1a18e023",
   "metadata": {},
   "outputs": [],
   "source": [
    "d.extendleft([5, 6, 7])"
   ]
  },
  {
   "cell_type": "code",
   "execution_count": 203,
   "id": "c5589ae5",
   "metadata": {},
   "outputs": [
    {
     "data": {
      "text/plain": [
       "deque([7, 6, 5, 4, 1, 2, 3])"
      ]
     },
     "execution_count": 203,
     "metadata": {},
     "output_type": "execute_result"
    }
   ],
   "source": [
    "d"
   ]
  },
  {
   "cell_type": "code",
   "execution_count": 205,
   "id": "0e40ac37",
   "metadata": {},
   "outputs": [
    {
     "data": {
      "text/plain": [
       "(3, 7)"
      ]
     },
     "execution_count": 205,
     "metadata": {},
     "output_type": "execute_result"
    }
   ],
   "source": [
    "d.pop(), d.popleft()"
   ]
  },
  {
   "cell_type": "code",
   "execution_count": null,
   "id": "6039fa1f",
   "metadata": {},
   "outputs": [],
   "source": []
  },
  {
   "cell_type": "code",
   "execution_count": 206,
   "id": "dabedc33",
   "metadata": {},
   "outputs": [],
   "source": [
    "import functools"
   ]
  },
  {
   "cell_type": "code",
   "execution_count": 231,
   "id": "78c1faca",
   "metadata": {},
   "outputs": [],
   "source": [
    "# @functools.lru_cache(maxsize=2)\n",
    "def fib(n):\n",
    "    if n <= 1:\n",
    "        return n\n",
    "\n",
    "    return fib(n - 1) + fib(n - 2)\n",
    "\n",
    "fib = functools.lru_cache(maxsize=2)(fib)"
   ]
  },
  {
   "cell_type": "code",
   "execution_count": 221,
   "id": "fe24b017",
   "metadata": {},
   "outputs": [
    {
     "data": {
      "text/plain": [
       "(2, 3, 5, 8)"
      ]
     },
     "execution_count": 221,
     "metadata": {},
     "output_type": "execute_result"
    }
   ],
   "source": [
    "fib(3), fib(4), fib(5), fib(6)"
   ]
  },
  {
   "cell_type": "code",
   "execution_count": 232,
   "id": "35f629c1",
   "metadata": {},
   "outputs": [
    {
     "name": "stdout",
     "output_type": "stream",
     "text": [
      "CPU times: user 62.9 ms, sys: 3.75 ms, total: 66.6 ms\n",
      "Wall time: 69.8 ms\n"
     ]
    },
    {
     "data": {
      "text/plain": [
       "9227465"
      ]
     },
     "execution_count": 232,
     "metadata": {},
     "output_type": "execute_result"
    }
   ],
   "source": [
    "%%time\n",
    "\n",
    "fib(35)"
   ]
  },
  {
   "cell_type": "code",
   "execution_count": 233,
   "id": "65d60d6f",
   "metadata": {},
   "outputs": [],
   "source": [
    "import itertools"
   ]
  },
  {
   "cell_type": "code",
   "execution_count": null,
   "id": "27de71e3",
   "metadata": {},
   "outputs": [],
   "source": [
    "lst = []\n",
    "flag = True\n",
    "for i in range(10):\n",
    "    if flag and predicat(i)\n",
    "        l.append(i)\n",
    "    else:\n",
    "        flag = False\n",
    "\n",
    "[i for i i nrange(10) if predicat(i)]"
   ]
  },
  {
   "cell_type": "code",
   "execution_count": 234,
   "id": "6a82106f",
   "metadata": {},
   "outputs": [],
   "source": [
    "lst = [1, 2, 3, 4, 5, 6, 7]"
   ]
  },
  {
   "cell_type": "code",
   "execution_count": 237,
   "id": "eb575504",
   "metadata": {},
   "outputs": [
    {
     "data": {
      "text/plain": [
       "[1, 2, 6, 24, 120, 720, 5040]"
      ]
     },
     "execution_count": 237,
     "metadata": {},
     "output_type": "execute_result"
    }
   ],
   "source": [
    "import operator\n",
    "\n",
    "list(itertools.accumulate(lst, operator.mul))"
   ]
  },
  {
   "cell_type": "code",
   "execution_count": 238,
   "id": "2c921a14",
   "metadata": {},
   "outputs": [
    {
     "data": {
      "text/plain": [
       "[2, 3, 4, 5, 6, 7]"
      ]
     },
     "execution_count": 238,
     "metadata": {},
     "output_type": "execute_result"
    }
   ],
   "source": [
    "list(itertools.dropwhile(lambda x: x % 2, lst))"
   ]
  },
  {
   "cell_type": "code",
   "execution_count": 239,
   "id": "c8191770",
   "metadata": {},
   "outputs": [
    {
     "data": {
      "text/plain": [
       "[1]"
      ]
     },
     "execution_count": 239,
     "metadata": {},
     "output_type": "execute_result"
    }
   ],
   "source": [
    "list(itertools.takewhile(lambda x: x % 2, lst))"
   ]
  },
  {
   "cell_type": "code",
   "execution_count": 240,
   "id": "59ad9823",
   "metadata": {},
   "outputs": [],
   "source": [
    "lst = lst * 3"
   ]
  },
  {
   "cell_type": "code",
   "execution_count": 245,
   "id": "e4f8d250",
   "metadata": {},
   "outputs": [],
   "source": [
    "lst.sort()\n",
    "lst\n",
    "lst[2] = 99"
   ]
  },
  {
   "cell_type": "code",
   "execution_count": 246,
   "id": "bec65e53",
   "metadata": {},
   "outputs": [
    {
     "name": "stdout",
     "output_type": "stream",
     "text": [
      "1 [1, 1]\n",
      "99 [99]\n",
      "2 [2, 2, 2]\n",
      "3 [3, 3, 3]\n",
      "4 [4, 4, 4]\n",
      "5 [5, 5, 5]\n",
      "6 [6, 6, 6]\n",
      "7 [7, 7, 7]\n"
     ]
    }
   ],
   "source": [
    "for key, it in itertools.groupby(lst):\n",
    "    print(key, list(it))"
   ]
  },
  {
   "cell_type": "code",
   "execution_count": 248,
   "id": "5ef60763",
   "metadata": {},
   "outputs": [],
   "source": [
    "def gen(n):\n",
    "    for i in range(n):\n",
    "        yield i"
   ]
  },
  {
   "cell_type": "code",
   "execution_count": 249,
   "id": "ad19fac1",
   "metadata": {},
   "outputs": [
    {
     "data": {
      "text/plain": [
       "[0, 1, 2, 3, 4, 5, 6, 7, 8, 9]"
      ]
     },
     "execution_count": 249,
     "metadata": {},
     "output_type": "execute_result"
    }
   ],
   "source": [
    "list(gen(10))"
   ]
  },
  {
   "cell_type": "code",
   "execution_count": 250,
   "id": "007bf043",
   "metadata": {},
   "outputs": [
    {
     "ename": "TypeError",
     "evalue": "'generator' object is not subscriptable",
     "output_type": "error",
     "traceback": [
      "\u001b[0;31m---------------------------------------------------------------------------\u001b[0m",
      "\u001b[0;31mTypeError\u001b[0m                                 Traceback (most recent call last)",
      "Input \u001b[0;32mIn [250]\u001b[0m, in \u001b[0;36m<cell line: 1>\u001b[0;34m()\u001b[0m\n\u001b[0;32m----> 1\u001b[0m \u001b[43mgen\u001b[49m\u001b[43m(\u001b[49m\u001b[38;5;241;43m10\u001b[39;49m\u001b[43m)\u001b[49m\u001b[43m[\u001b[49m\u001b[43m:\u001b[49m\u001b[38;5;241;43m4\u001b[39;49m\u001b[43m]\u001b[49m\n",
      "\u001b[0;31mTypeError\u001b[0m: 'generator' object is not subscriptable"
     ]
    }
   ],
   "source": [
    "gen(10)[:4]"
   ]
  },
  {
   "cell_type": "code",
   "execution_count": 254,
   "id": "f783909d",
   "metadata": {},
   "outputs": [
    {
     "data": {
      "text/plain": [
       "[5, 7, 9]"
      ]
     },
     "execution_count": 254,
     "metadata": {},
     "output_type": "execute_result"
    }
   ],
   "source": [
    "list(itertools.islice(gen(10), 5, 10, 2))"
   ]
  },
  {
   "cell_type": "code",
   "execution_count": 255,
   "id": "48fd570d",
   "metadata": {},
   "outputs": [
    {
     "data": {
      "text/plain": [
       "[1, 1, 99, 2, 2, 2, 3, 3, 3, 4, 4, 4, 5, 5, 5, 6, 6, 6, 7, 7, 7]"
      ]
     },
     "execution_count": 255,
     "metadata": {},
     "output_type": "execute_result"
    }
   ],
   "source": [
    "lst"
   ]
  },
  {
   "cell_type": "code",
   "execution_count": 257,
   "id": "d6976541",
   "metadata": {},
   "outputs": [],
   "source": [
    "it1, it2, it3 = itertools.tee(lst, 3)"
   ]
  },
  {
   "cell_type": "code",
   "execution_count": 258,
   "id": "064779af",
   "metadata": {},
   "outputs": [
    {
     "data": {
      "text/plain": [
       "[1, 1, 99, 2, 2, 2, 3, 3, 3, 4, 4, 4, 5, 5, 5, 6, 6, 6, 7, 7, 7]"
      ]
     },
     "execution_count": 258,
     "metadata": {},
     "output_type": "execute_result"
    }
   ],
   "source": [
    "list(it1)"
   ]
  },
  {
   "cell_type": "code",
   "execution_count": 259,
   "id": "70b09bf7",
   "metadata": {},
   "outputs": [
    {
     "data": {
      "text/plain": [
       "[]"
      ]
     },
     "execution_count": 259,
     "metadata": {},
     "output_type": "execute_result"
    }
   ],
   "source": [
    "list(it1)"
   ]
  },
  {
   "cell_type": "code",
   "execution_count": 260,
   "id": "5a63bdaf",
   "metadata": {},
   "outputs": [
    {
     "data": {
      "text/plain": [
       "([1, 1, 99, 2, 2, 2, 3, 3, 3, 4, 4, 4, 5, 5, 5, 6, 6, 6, 7, 7, 7],\n",
       " [1, 1, 99, 2, 2, 2, 3, 3, 3, 4, 4, 4, 5, 5, 5, 6, 6, 6, 7, 7, 7])"
      ]
     },
     "execution_count": 260,
     "metadata": {},
     "output_type": "execute_result"
    }
   ],
   "source": [
    "list(it2), list(it3)"
   ]
  },
  {
   "cell_type": "code",
   "execution_count": 261,
   "id": "4583abc9",
   "metadata": {},
   "outputs": [
    {
     "data": {
      "text/plain": [
       "([], [])"
      ]
     },
     "execution_count": 261,
     "metadata": {},
     "output_type": "execute_result"
    }
   ],
   "source": [
    "list(it2), list(it3)"
   ]
  },
  {
   "cell_type": "code",
   "execution_count": null,
   "id": "7526f506",
   "metadata": {},
   "outputs": [],
   "source": []
  }
 ],
 "metadata": {
  "kernelspec": {
   "display_name": "Python 3 (ipykernel)",
   "language": "python",
   "name": "python3"
  },
  "language_info": {
   "codemirror_mode": {
    "name": "ipython",
    "version": 3
   },
   "file_extension": ".py",
   "mimetype": "text/x-python",
   "name": "python",
   "nbconvert_exporter": "python",
   "pygments_lexer": "ipython3",
   "version": "3.10.2"
  }
 },
 "nbformat": 4,
 "nbformat_minor": 5
}
