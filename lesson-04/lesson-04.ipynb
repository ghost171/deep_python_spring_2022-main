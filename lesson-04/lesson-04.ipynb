{
 "cells": [
  {
   "cell_type": "markdown",
   "id": "594a9bfb",
   "metadata": {},
   "source": [
    "# tuple as a key in set"
   ]
  },
  {
   "cell_type": "code",
   "execution_count": 1,
   "id": "201db69e",
   "metadata": {},
   "outputs": [],
   "source": [
    "lst = [3, 4]\n",
    "key = (1, 2, lst)"
   ]
  },
  {
   "cell_type": "code",
   "execution_count": 2,
   "id": "f8ff6677",
   "metadata": {},
   "outputs": [
    {
     "data": {
      "text/plain": [
       "(1, 2, [3, 4])"
      ]
     },
     "execution_count": 2,
     "metadata": {},
     "output_type": "execute_result"
    }
   ],
   "source": [
    "key"
   ]
  },
  {
   "cell_type": "code",
   "execution_count": 3,
   "id": "c23d02eb",
   "metadata": {},
   "outputs": [
    {
     "ename": "TypeError",
     "evalue": "unhashable type: 'list'",
     "output_type": "error",
     "traceback": [
      "\u001b[0;31m---------------------------------------------------------------------------\u001b[0m",
      "\u001b[0;31mTypeError\u001b[0m                                 Traceback (most recent call last)",
      "Input \u001b[0;32mIn [3]\u001b[0m, in \u001b[0;36m<cell line: 2>\u001b[0;34m()\u001b[0m\n\u001b[1;32m      1\u001b[0m s \u001b[38;5;241m=\u001b[39m \u001b[38;5;28mset\u001b[39m()\n\u001b[0;32m----> 2\u001b[0m \u001b[43ms\u001b[49m\u001b[38;5;241;43m.\u001b[39;49m\u001b[43madd\u001b[49m\u001b[43m(\u001b[49m\u001b[43mkey\u001b[49m\u001b[43m)\u001b[49m\n",
      "\u001b[0;31mTypeError\u001b[0m: unhashable type: 'list'"
     ]
    }
   ],
   "source": [
    "s = set()\n",
    "s.add(key)"
   ]
  },
  {
   "cell_type": "code",
   "execution_count": 5,
   "id": "c5ecfd2f",
   "metadata": {},
   "outputs": [
    {
     "ename": "TypeError",
     "evalue": "'tuple' object does not support item assignment",
     "output_type": "error",
     "traceback": [
      "\u001b[0;31m---------------------------------------------------------------------------\u001b[0m",
      "\u001b[0;31mTypeError\u001b[0m                                 Traceback (most recent call last)",
      "Input \u001b[0;32mIn [5]\u001b[0m, in \u001b[0;36m<cell line: 1>\u001b[0;34m()\u001b[0m\n\u001b[0;32m----> 1\u001b[0m key[\u001b[38;5;241m0\u001b[39m] \u001b[38;5;241m=\u001b[39m \u001b[38;5;241m3\u001b[39m\n",
      "\u001b[0;31mTypeError\u001b[0m: 'tuple' object does not support item assignment"
     ]
    }
   ],
   "source": [
    "key[0] = 3"
   ]
  },
  {
   "cell_type": "code",
   "execution_count": 7,
   "id": "16293bfb",
   "metadata": {},
   "outputs": [],
   "source": [
    "key[2][0] = 99"
   ]
  },
  {
   "cell_type": "code",
   "execution_count": 8,
   "id": "0673fdef",
   "metadata": {},
   "outputs": [
    {
     "data": {
      "text/plain": [
       "(1, 2, [99, 4])"
      ]
     },
     "execution_count": 8,
     "metadata": {},
     "output_type": "execute_result"
    }
   ],
   "source": [
    "key"
   ]
  },
  {
   "cell_type": "code",
   "execution_count": 9,
   "id": "ae77e727",
   "metadata": {},
   "outputs": [
    {
     "data": {
      "text/plain": [
       "[99, 4]"
      ]
     },
     "execution_count": 9,
     "metadata": {},
     "output_type": "execute_result"
    }
   ],
   "source": [
    "lst"
   ]
  },
  {
   "cell_type": "code",
   "execution_count": 10,
   "id": "4c5c8a02",
   "metadata": {},
   "outputs": [],
   "source": [
    "lst[1] += 50"
   ]
  },
  {
   "cell_type": "code",
   "execution_count": 11,
   "id": "f153022c",
   "metadata": {},
   "outputs": [
    {
     "data": {
      "text/plain": [
       "[99, 54]"
      ]
     },
     "execution_count": 11,
     "metadata": {},
     "output_type": "execute_result"
    }
   ],
   "source": [
    "lst"
   ]
  },
  {
   "cell_type": "code",
   "execution_count": 14,
   "id": "115d74ac",
   "metadata": {},
   "outputs": [
    {
     "ename": "TypeError",
     "evalue": "'tuple' object does not support item assignment",
     "output_type": "error",
     "traceback": [
      "\u001b[0;31m---------------------------------------------------------------------------\u001b[0m",
      "\u001b[0;31mTypeError\u001b[0m                                 Traceback (most recent call last)",
      "Input \u001b[0;32mIn [14]\u001b[0m, in \u001b[0;36m<cell line: 1>\u001b[0;34m()\u001b[0m\n\u001b[0;32m----> 1\u001b[0m key[\u001b[38;5;241m2\u001b[39m] \u001b[38;5;241m+\u001b[39m\u001b[38;5;241m=\u001b[39m [\u001b[38;5;241m50\u001b[39m]\n",
      "\u001b[0;31mTypeError\u001b[0m: 'tuple' object does not support item assignment"
     ]
    }
   ],
   "source": [
    "key[2] += [50]"
   ]
  },
  {
   "cell_type": "code",
   "execution_count": 13,
   "id": "1877722f",
   "metadata": {},
   "outputs": [
    {
     "data": {
      "text/plain": [
       "(1, 2, [99, 104])"
      ]
     },
     "execution_count": 13,
     "metadata": {},
     "output_type": "execute_result"
    }
   ],
   "source": [
    "key"
   ]
  },
  {
   "cell_type": "code",
   "execution_count": 15,
   "id": "dbcabab6",
   "metadata": {},
   "outputs": [],
   "source": [
    "key[2].append(4)"
   ]
  },
  {
   "cell_type": "code",
   "execution_count": 16,
   "id": "30dd6bd8",
   "metadata": {},
   "outputs": [
    {
     "data": {
      "text/plain": [
       "(1, 2, [99, 104, 50, 4])"
      ]
     },
     "execution_count": 16,
     "metadata": {},
     "output_type": "execute_result"
    }
   ],
   "source": [
    "key"
   ]
  },
  {
   "cell_type": "code",
   "execution_count": 17,
   "id": "b6080a83",
   "metadata": {},
   "outputs": [
    {
     "ename": "TypeError",
     "evalue": "'tuple' object does not support item assignment",
     "output_type": "error",
     "traceback": [
      "\u001b[0;31m---------------------------------------------------------------------------\u001b[0m",
      "\u001b[0;31mTypeError\u001b[0m                                 Traceback (most recent call last)",
      "Input \u001b[0;32mIn [17]\u001b[0m, in \u001b[0;36m<cell line: 1>\u001b[0;34m()\u001b[0m\n\u001b[0;32m----> 1\u001b[0m key[\u001b[38;5;241m2\u001b[39m] \u001b[38;5;241m+\u001b[39m\u001b[38;5;241m=\u001b[39m [\u001b[38;5;241m50\u001b[39m]\n",
      "\u001b[0;31mTypeError\u001b[0m: 'tuple' object does not support item assignment"
     ]
    }
   ],
   "source": [
    "key[2] += [50]"
   ]
  },
  {
   "cell_type": "code",
   "execution_count": 18,
   "id": "33dc32ea",
   "metadata": {},
   "outputs": [
    {
     "data": {
      "text/plain": [
       "(1, 2, [99, 104, 50, 4, 50])"
      ]
     },
     "execution_count": 18,
     "metadata": {},
     "output_type": "execute_result"
    }
   ],
   "source": [
    "key"
   ]
  },
  {
   "cell_type": "code",
   "execution_count": 19,
   "id": "f5a2aa76",
   "metadata": {},
   "outputs": [
    {
     "data": {
      "text/plain": [
       "[99, 104, 50, 4, 50]"
      ]
     },
     "execution_count": 19,
     "metadata": {},
     "output_type": "execute_result"
    }
   ],
   "source": [
    "lst"
   ]
  },
  {
   "cell_type": "code",
   "execution_count": null,
   "id": "7037137a",
   "metadata": {},
   "outputs": [],
   "source": []
  },
  {
   "cell_type": "code",
   "execution_count": null,
   "id": "91677f0d",
   "metadata": {},
   "outputs": [],
   "source": []
  },
  {
   "cell_type": "markdown",
   "id": "1716e255",
   "metadata": {},
   "source": [
    "# slots"
   ]
  },
  {
   "cell_type": "code",
   "execution_count": 42,
   "id": "e818ac89",
   "metadata": {},
   "outputs": [],
   "source": [
    "class Point:\n",
    "    __slots__ = (\"x\", \"y\")\n",
    "\n",
    "    def __init__(self, x, y):\n",
    "        self.x = x\n",
    "        self.y = y\n",
    "\n",
    "    def print_val(self):\n",
    "        print(\"P\", self.x, self.y)"
   ]
  },
  {
   "cell_type": "code",
   "execution_count": 43,
   "id": "03e7fdc6",
   "metadata": {},
   "outputs": [],
   "source": [
    "p = Point(10, 20)"
   ]
  },
  {
   "cell_type": "code",
   "execution_count": 44,
   "id": "ef2e1e79",
   "metadata": {},
   "outputs": [
    {
     "data": {
      "text/plain": [
       "(10, 20)"
      ]
     },
     "execution_count": 44,
     "metadata": {},
     "output_type": "execute_result"
    }
   ],
   "source": [
    "p.x, p.y"
   ]
  },
  {
   "cell_type": "code",
   "execution_count": 45,
   "id": "86ba21a8",
   "metadata": {},
   "outputs": [
    {
     "name": "stdout",
     "output_type": "stream",
     "text": [
      "P 10 20\n"
     ]
    }
   ],
   "source": [
    "p.print_val()"
   ]
  },
  {
   "cell_type": "code",
   "execution_count": 27,
   "id": "907e9140",
   "metadata": {},
   "outputs": [
    {
     "ename": "AttributeError",
     "evalue": "'Point' object has no attribute 'z'",
     "output_type": "error",
     "traceback": [
      "\u001b[0;31m---------------------------------------------------------------------------\u001b[0m",
      "\u001b[0;31mAttributeError\u001b[0m                            Traceback (most recent call last)",
      "Input \u001b[0;32mIn [27]\u001b[0m, in \u001b[0;36m<cell line: 1>\u001b[0;34m()\u001b[0m\n\u001b[0;32m----> 1\u001b[0m p\u001b[38;5;241m.\u001b[39mz \u001b[38;5;241m=\u001b[39m \u001b[38;5;124m\"\u001b[39m\u001b[38;5;124m123\u001b[39m\u001b[38;5;124m\"\u001b[39m\n",
      "\u001b[0;31mAttributeError\u001b[0m: 'Point' object has no attribute 'z'"
     ]
    }
   ],
   "source": [
    "p.z = \"123\""
   ]
  },
  {
   "cell_type": "code",
   "execution_count": null,
   "id": "183fb343",
   "metadata": {},
   "outputs": [],
   "source": []
  },
  {
   "cell_type": "code",
   "execution_count": null,
   "id": "0b87c46e",
   "metadata": {},
   "outputs": [],
   "source": []
  },
  {
   "cell_type": "markdown",
   "id": "34683d94",
   "metadata": {},
   "source": [
    "# namedtuple"
   ]
  },
  {
   "cell_type": "code",
   "execution_count": 46,
   "id": "6a4ba205",
   "metadata": {},
   "outputs": [],
   "source": [
    "from collections import namedtuple"
   ]
  },
  {
   "cell_type": "code",
   "execution_count": 47,
   "id": "45243c97",
   "metadata": {},
   "outputs": [],
   "source": [
    "Point3d = namedtuple(\"Point3d\", \"x y z\")"
   ]
  },
  {
   "cell_type": "code",
   "execution_count": 49,
   "id": "65a98b30",
   "metadata": {},
   "outputs": [],
   "source": [
    "p1 = Point3d(1, y=2, z=3)"
   ]
  },
  {
   "cell_type": "code",
   "execution_count": 50,
   "id": "d811b425",
   "metadata": {},
   "outputs": [
    {
     "data": {
      "text/plain": [
       "Point3d(x=1, y=2, z=3)"
      ]
     },
     "execution_count": 50,
     "metadata": {},
     "output_type": "execute_result"
    }
   ],
   "source": [
    "p1"
   ]
  },
  {
   "cell_type": "code",
   "execution_count": 51,
   "id": "8956613e",
   "metadata": {},
   "outputs": [],
   "source": [
    "x, y, z = p1"
   ]
  },
  {
   "cell_type": "code",
   "execution_count": 52,
   "id": "5c5e1126",
   "metadata": {},
   "outputs": [
    {
     "data": {
      "text/plain": [
       "(1, 2, 3)"
      ]
     },
     "execution_count": 52,
     "metadata": {},
     "output_type": "execute_result"
    }
   ],
   "source": [
    "x, y, z"
   ]
  },
  {
   "cell_type": "code",
   "execution_count": 54,
   "id": "bdd21b1e",
   "metadata": {},
   "outputs": [
    {
     "ename": "AttributeError",
     "evalue": "can't set attribute",
     "output_type": "error",
     "traceback": [
      "\u001b[0;31m---------------------------------------------------------------------------\u001b[0m",
      "\u001b[0;31mAttributeError\u001b[0m                            Traceback (most recent call last)",
      "Input \u001b[0;32mIn [54]\u001b[0m, in \u001b[0;36m<cell line: 1>\u001b[0;34m()\u001b[0m\n\u001b[0;32m----> 1\u001b[0m p1\u001b[38;5;241m.\u001b[39mx \u001b[38;5;241m=\u001b[39m \u001b[38;5;241m10\u001b[39m\n",
      "\u001b[0;31mAttributeError\u001b[0m: can't set attribute"
     ]
    }
   ],
   "source": [
    "p1.x = 10"
   ]
  },
  {
   "cell_type": "code",
   "execution_count": 55,
   "id": "102072b2",
   "metadata": {},
   "outputs": [
    {
     "ename": "AttributeError",
     "evalue": "'Point3d' object has no attribute 'w'",
     "output_type": "error",
     "traceback": [
      "\u001b[0;31m---------------------------------------------------------------------------\u001b[0m",
      "\u001b[0;31mAttributeError\u001b[0m                            Traceback (most recent call last)",
      "Input \u001b[0;32mIn [55]\u001b[0m, in \u001b[0;36m<cell line: 1>\u001b[0;34m()\u001b[0m\n\u001b[0;32m----> 1\u001b[0m p1\u001b[38;5;241m.\u001b[39mw \u001b[38;5;241m=\u001b[39m \u001b[38;5;241m12\u001b[39m\n",
      "\u001b[0;31mAttributeError\u001b[0m: 'Point3d' object has no attribute 'w'"
     ]
    }
   ],
   "source": [
    "p1.w = 12"
   ]
  },
  {
   "cell_type": "code",
   "execution_count": 56,
   "id": "d536809e",
   "metadata": {},
   "outputs": [
    {
     "data": {
      "text/plain": [
       "{'x': 1, 'y': 2, 'z': 3}"
      ]
     },
     "execution_count": 56,
     "metadata": {},
     "output_type": "execute_result"
    }
   ],
   "source": [
    "p1._asdict()"
   ]
  },
  {
   "cell_type": "code",
   "execution_count": null,
   "id": "aa31fef8",
   "metadata": {},
   "outputs": [],
   "source": []
  },
  {
   "cell_type": "code",
   "execution_count": null,
   "id": "bed06e99",
   "metadata": {},
   "outputs": [],
   "source": []
  },
  {
   "cell_type": "markdown",
   "id": "1549631f",
   "metadata": {},
   "source": [
    "# Enum"
   ]
  },
  {
   "cell_type": "code",
   "execution_count": 57,
   "id": "932d5544",
   "metadata": {},
   "outputs": [],
   "source": [
    "from enum import Enum\n",
    "\n",
    "class StatusCode(Enum):\n",
    "    OK = 200\n",
    "    NOT_FOUND = 404\n",
    "    ERROR = 500\n",
    "    \n",
    "    @classmethod\n",
    "    def _missing_(cls, code):\n",
    "        print(\"MISSED\", code)\n",
    "        return cls.OK"
   ]
  },
  {
   "cell_type": "code",
   "execution_count": 59,
   "id": "3306ba4d",
   "metadata": {},
   "outputs": [
    {
     "data": {
      "text/plain": [
       "('OK', 200)"
      ]
     },
     "execution_count": 59,
     "metadata": {},
     "output_type": "execute_result"
    }
   ],
   "source": [
    "StatusCode.OK.name, StatusCode.OK.value"
   ]
  },
  {
   "cell_type": "code",
   "execution_count": 74,
   "id": "2d012978",
   "metadata": {},
   "outputs": [
    {
     "name": "stdout",
     "output_type": "stream",
     "text": [
      "MISSED 99\n"
     ]
    }
   ],
   "source": [
    "errro = StatusCode(99)"
   ]
  },
  {
   "cell_type": "code",
   "execution_count": 75,
   "id": "77467986",
   "metadata": {},
   "outputs": [
    {
     "data": {
      "text/plain": [
       "<StatusCode.OK: 200>"
      ]
     },
     "execution_count": 75,
     "metadata": {},
     "output_type": "execute_result"
    }
   ],
   "source": [
    "errro"
   ]
  },
  {
   "cell_type": "code",
   "execution_count": 62,
   "id": "51fcdccc",
   "metadata": {},
   "outputs": [],
   "source": [
    "xxx = StatusCode[\"ERROR\"]"
   ]
  },
  {
   "cell_type": "code",
   "execution_count": 63,
   "id": "f13949f2",
   "metadata": {},
   "outputs": [
    {
     "data": {
      "text/plain": [
       "<StatusCode.ERROR: 500>"
      ]
     },
     "execution_count": 63,
     "metadata": {},
     "output_type": "execute_result"
    }
   ],
   "source": [
    "xxx"
   ]
  },
  {
   "cell_type": "code",
   "execution_count": 66,
   "id": "ee5b33fd",
   "metadata": {},
   "outputs": [
    {
     "data": {
      "text/plain": [
       "True"
      ]
     },
     "execution_count": 66,
     "metadata": {},
     "output_type": "execute_result"
    }
   ],
   "source": [
    "xxx is StatusCode.ERROR"
   ]
  },
  {
   "cell_type": "code",
   "execution_count": 67,
   "id": "aa96c8d5",
   "metadata": {},
   "outputs": [
    {
     "ename": "AttributeError",
     "evalue": "Cannot reassign members.",
     "output_type": "error",
     "traceback": [
      "\u001b[0;31m---------------------------------------------------------------------------\u001b[0m",
      "\u001b[0;31mAttributeError\u001b[0m                            Traceback (most recent call last)",
      "Input \u001b[0;32mIn [67]\u001b[0m, in \u001b[0;36m<cell line: 1>\u001b[0;34m()\u001b[0m\n\u001b[0;32m----> 1\u001b[0m StatusCode\u001b[38;5;241m.\u001b[39mOK \u001b[38;5;241m=\u001b[39m \u001b[38;5;241m500\u001b[39m\n",
      "File \u001b[0;32m/Library/Frameworks/Python.framework/Versions/3.10/lib/python3.10/enum.py:480\u001b[0m, in \u001b[0;36mEnumMeta.__setattr__\u001b[0;34m(cls, name, value)\u001b[0m\n\u001b[1;32m    478\u001b[0m member_map \u001b[38;5;241m=\u001b[39m \u001b[38;5;28mcls\u001b[39m\u001b[38;5;241m.\u001b[39m\u001b[38;5;18m__dict__\u001b[39m\u001b[38;5;241m.\u001b[39mget(\u001b[38;5;124m'\u001b[39m\u001b[38;5;124m_member_map_\u001b[39m\u001b[38;5;124m'\u001b[39m, {})\n\u001b[1;32m    479\u001b[0m \u001b[38;5;28;01mif\u001b[39;00m name \u001b[38;5;129;01min\u001b[39;00m member_map:\n\u001b[0;32m--> 480\u001b[0m     \u001b[38;5;28;01mraise\u001b[39;00m \u001b[38;5;167;01mAttributeError\u001b[39;00m(\u001b[38;5;124m'\u001b[39m\u001b[38;5;124mCannot reassign members.\u001b[39m\u001b[38;5;124m'\u001b[39m)\n\u001b[1;32m    481\u001b[0m \u001b[38;5;28msuper\u001b[39m()\u001b[38;5;241m.\u001b[39m\u001b[38;5;21m__setattr__\u001b[39m(name, value)\n",
      "\u001b[0;31mAttributeError\u001b[0m: Cannot reassign members."
     ]
    }
   ],
   "source": [
    "StatusCode.OK = 500"
   ]
  },
  {
   "cell_type": "code",
   "execution_count": 71,
   "id": "4b41a220",
   "metadata": {},
   "outputs": [],
   "source": [
    "class StatusCodes:\n",
    "    OK = 200\n",
    "    ERR = 500"
   ]
  },
  {
   "cell_type": "code",
   "execution_count": 73,
   "id": "f9becb82",
   "metadata": {},
   "outputs": [],
   "source": [
    "StatusCodes.OK = 500"
   ]
  },
  {
   "cell_type": "code",
   "execution_count": 88,
   "id": "2fe19a4e",
   "metadata": {},
   "outputs": [],
   "source": [
    "class Sources(str, Enum):\n",
    "    DB = \"db\"\n",
    "    WEB = \"web\""
   ]
  },
  {
   "cell_type": "code",
   "execution_count": 85,
   "id": "8b0731dc",
   "metadata": {},
   "outputs": [
    {
     "name": "stdout",
     "output_type": "stream",
     "text": [
      "Sources.DB\n"
     ]
    }
   ],
   "source": [
    "print(Sources.DB)"
   ]
  },
  {
   "cell_type": "code",
   "execution_count": 86,
   "id": "0f85cee1",
   "metadata": {},
   "outputs": [],
   "source": [
    "d = Sources(\"db\")"
   ]
  },
  {
   "cell_type": "code",
   "execution_count": 87,
   "id": "3b192c11",
   "metadata": {},
   "outputs": [
    {
     "data": {
      "text/plain": [
       "True"
      ]
     },
     "execution_count": 87,
     "metadata": {},
     "output_type": "execute_result"
    }
   ],
   "source": [
    "d is Sources.DB"
   ]
  },
  {
   "cell_type": "code",
   "execution_count": null,
   "id": "c0ae6d27",
   "metadata": {},
   "outputs": [],
   "source": []
  },
  {
   "cell_type": "code",
   "execution_count": null,
   "id": "e9192351",
   "metadata": {},
   "outputs": [],
   "source": []
  },
  {
   "cell_type": "markdown",
   "id": "a1c2103f",
   "metadata": {},
   "source": [
    "# ООП"
   ]
  },
  {
   "cell_type": "code",
   "execution_count": null,
   "id": "5db93194",
   "metadata": {},
   "outputs": [],
   "source": [
    "class Timing:\n",
    "    def __init__(self, start, end):\n",
    "        self.start = start\n",
    "        self.end = end\n",
    "    def duration(self):\n",
    "        print(\"Timing.duration\")\n",
    "        return self.end - self.start\n",
    "    \n",
    "class MinuteTiming(Timing):\n",
    "    def duration(self):\n",
    "        print(\"MinuteTiming.duration\")\n",
    "        seconds = super().duration()\n",
    "        return seconds / 60"
   ]
  },
  {
   "cell_type": "code",
   "execution_count": 111,
   "id": "64183aa4",
   "metadata": {},
   "outputs": [
    {
     "name": "stdout",
     "output_type": "stream",
     "text": [
      "SUBCLASS <class '__main__.ColoredShape'>\n",
      "SUBCLASS <class '__main__.BoldShape'>\n",
      "SUBCLASS <class '__main__.BoldColoredShape'>\n"
     ]
    }
   ],
   "source": [
    "class Shape:\n",
    "    def __init__(self, name):\n",
    "        self.name = name\n",
    "        self.points = []\n",
    "    \n",
    "    def draw(self):\n",
    "        print(\"Shape.draw\")\n",
    "        \n",
    "    def __init_subclass__(cls):\n",
    "        print('SUBCLASS', cls)\n",
    "\n",
    "\n",
    "class ColoredShape(Shape):\n",
    "    def __init__(self, color, *args, **kwargs):\n",
    "        super().__init__(*args, **kwargs)\n",
    "        \n",
    "        self.color = color\n",
    "    \n",
    "    def draw(self):\n",
    "        print(\"ColoredShape\", self.color)\n",
    "        super().draw()\n",
    "\n",
    "\n",
    "class BoldShape(Shape):\n",
    "    def __init__(self, width, *args, **kwargs):\n",
    "        super().__init__(*args, **kwargs)\n",
    "        \n",
    "        self.width = width\n",
    "    \n",
    "    def draw(self):\n",
    "        print(\"BoldShape\", self.width)\n",
    "        super().draw()\n",
    "    \n",
    "\n",
    "class BoldColoredShape(BoldShape, ColoredShape):\n",
    "#     def __init__(self, *args, **kwargs):\n",
    "#         super().__init__(*args, **kwargs)\n",
    "    \n",
    "    def draw(self):\n",
    "        print(\"BoldColoredShape\", self.width, self.color)\n",
    "        super().draw()"
   ]
  },
  {
   "cell_type": "code",
   "execution_count": 107,
   "id": "9d5746c3",
   "metadata": {},
   "outputs": [],
   "source": [
    "bold = BoldColoredShape(color=\"green\", width=99, name=\"circle\")"
   ]
  },
  {
   "cell_type": "code",
   "execution_count": 108,
   "id": "73cb0f8c",
   "metadata": {},
   "outputs": [
    {
     "name": "stdout",
     "output_type": "stream",
     "text": [
      "BoldColoredShape 99 green\n",
      "BoldShape 99\n",
      "ColoredShape green\n",
      "Shape.draw\n"
     ]
    }
   ],
   "source": [
    "bold.draw()"
   ]
  },
  {
   "cell_type": "code",
   "execution_count": 112,
   "id": "a356ed3f",
   "metadata": {},
   "outputs": [
    {
     "data": {
      "text/plain": [
       "[__main__.BoldColoredShape,\n",
       " __main__.BoldShape,\n",
       " __main__.ColoredShape,\n",
       " __main__.Shape,\n",
       " object]"
      ]
     },
     "execution_count": 112,
     "metadata": {},
     "output_type": "execute_result"
    }
   ],
   "source": [
    "BoldColoredShape.mro()"
   ]
  },
  {
   "cell_type": "code",
   "execution_count": 109,
   "id": "7307f6b2",
   "metadata": {},
   "outputs": [
    {
     "data": {
      "text/plain": [
       "{'name': 'circle', 'points': [], 'color': 'green', 'width': 99}"
      ]
     },
     "execution_count": 109,
     "metadata": {},
     "output_type": "execute_result"
    }
   ],
   "source": [
    "bold.__dict__"
   ]
  },
  {
   "cell_type": "code",
   "execution_count": 92,
   "id": "34d46a63",
   "metadata": {},
   "outputs": [],
   "source": [
    "col = ColoredShape(\"green\", \"circle\")"
   ]
  },
  {
   "cell_type": "code",
   "execution_count": 94,
   "id": "fd7ea7c3",
   "metadata": {},
   "outputs": [
    {
     "name": "stdout",
     "output_type": "stream",
     "text": [
      "ColoredShape green\n",
      "Shape.draw\n"
     ]
    }
   ],
   "source": [
    "col.draw()"
   ]
  },
  {
   "cell_type": "code",
   "execution_count": 95,
   "id": "a86f22ad",
   "metadata": {},
   "outputs": [
    {
     "data": {
      "text/plain": [
       "[__main__.ColoredShape, __main__.Shape, object]"
      ]
     },
     "execution_count": 95,
     "metadata": {},
     "output_type": "execute_result"
    }
   ],
   "source": [
    "ColoredShape.mro()"
   ]
  },
  {
   "cell_type": "code",
   "execution_count": null,
   "id": "27be01d6",
   "metadata": {},
   "outputs": [],
   "source": []
  },
  {
   "cell_type": "code",
   "execution_count": null,
   "id": "338d7cca",
   "metadata": {},
   "outputs": [],
   "source": []
  },
  {
   "cell_type": "code",
   "execution_count": null,
   "id": "ac2f237d",
   "metadata": {},
   "outputs": [],
   "source": []
  },
  {
   "cell_type": "markdown",
   "id": "e84916c0",
   "metadata": {},
   "source": [
    "# Дескрипторы"
   ]
  },
  {
   "cell_type": "code",
   "execution_count": 188,
   "id": "bcf37119",
   "metadata": {},
   "outputs": [],
   "source": [
    "class MyDescriptor:\n",
    "    def __init__(self, name, field_name):\n",
    "        self.name = name\n",
    "        self.field_name = field_name\n",
    "\n",
    "    def __get__(self, obj, objtype):\n",
    "        print(f\"get {obj} cls={objtype}\")\n",
    "\n",
    "        return getattr(obj, self.field_name)\n",
    "\n",
    "    def __set__(self, obj, val):\n",
    "        print(f\"set {val} for {obj}\")\n",
    "        if val > 0:\n",
    "            setattr(obj, self.field_name, val)\n",
    "        else:\n",
    "            raise Exception(\"not positive int\")\n",
    "\n",
    "\n",
    "class MyClass:\n",
    "    age = MyDescriptor()\n",
    "    \n",
    "    def __init__(self, age):\n",
    "        self.age = age\n",
    "\n",
    "    def print_val(self):\n",
    "        print(\"MyClass.val\")"
   ]
  },
  {
   "cell_type": "code",
   "execution_count": 189,
   "id": "2aa58a78",
   "metadata": {},
   "outputs": [
    {
     "name": "stdout",
     "output_type": "stream",
     "text": [
      "set -9 for <__main__.MyClass object at 0x10dc52110>\n"
     ]
    },
    {
     "ename": "Exception",
     "evalue": "not positive int",
     "output_type": "error",
     "traceback": [
      "\u001b[0;31m---------------------------------------------------------------------------\u001b[0m",
      "\u001b[0;31mException\u001b[0m                                 Traceback (most recent call last)",
      "Input \u001b[0;32mIn [189]\u001b[0m, in \u001b[0;36m<cell line: 1>\u001b[0;34m()\u001b[0m\n\u001b[0;32m----> 1\u001b[0m my \u001b[38;5;241m=\u001b[39m \u001b[43mMyClass\u001b[49m\u001b[43m(\u001b[49m\u001b[38;5;241;43m-\u001b[39;49m\u001b[38;5;241;43m9\u001b[39;49m\u001b[43m)\u001b[49m\n",
      "Input \u001b[0;32mIn [188]\u001b[0m, in \u001b[0;36mMyClass.__init__\u001b[0;34m(self, age)\u001b[0m\n\u001b[1;32m     22\u001b[0m \u001b[38;5;28;01mdef\u001b[39;00m \u001b[38;5;21m__init__\u001b[39m(\u001b[38;5;28mself\u001b[39m, age):\n\u001b[0;32m---> 23\u001b[0m     \u001b[38;5;28mself\u001b[39m\u001b[38;5;241m.\u001b[39mage \u001b[38;5;241m=\u001b[39m age\n",
      "Input \u001b[0;32mIn [188]\u001b[0m, in \u001b[0;36mMyDescriptor.__set__\u001b[0;34m(self, obj, val)\u001b[0m\n\u001b[1;32m     14\u001b[0m     \u001b[38;5;28msetattr\u001b[39m(obj, \u001b[38;5;28mself\u001b[39m\u001b[38;5;241m.\u001b[39mfield_name, val)\n\u001b[1;32m     15\u001b[0m \u001b[38;5;28;01melse\u001b[39;00m:\n\u001b[0;32m---> 16\u001b[0m     \u001b[38;5;28;01mraise\u001b[39;00m \u001b[38;5;167;01mException\u001b[39;00m(\u001b[38;5;124m\"\u001b[39m\u001b[38;5;124mnot positive int\u001b[39m\u001b[38;5;124m\"\u001b[39m)\n",
      "\u001b[0;31mException\u001b[0m: not positive int"
     ]
    }
   ],
   "source": [
    "my = MyClass(-9)"
   ]
  },
  {
   "cell_type": "code",
   "execution_count": 186,
   "id": "6353836d",
   "metadata": {},
   "outputs": [
    {
     "data": {
      "text/plain": [
       "{'_age': -9}"
      ]
     },
     "execution_count": 186,
     "metadata": {},
     "output_type": "execute_result"
    }
   ],
   "source": [
    "my.__dict__"
   ]
  },
  {
   "cell_type": "code",
   "execution_count": 187,
   "id": "9bf6b8db",
   "metadata": {},
   "outputs": [
    {
     "name": "stdout",
     "output_type": "stream",
     "text": [
      "get <__main__.MyClass object at 0x10e873730> cls=<class '__main__.MyClass'>\n"
     ]
    },
    {
     "data": {
      "text/plain": [
       "-9"
      ]
     },
     "execution_count": 187,
     "metadata": {},
     "output_type": "execute_result"
    }
   ],
   "source": [
    "my.age"
   ]
  },
  {
   "cell_type": "code",
   "execution_count": 179,
   "id": "43de0c44",
   "metadata": {},
   "outputs": [
    {
     "name": "stdout",
     "output_type": "stream",
     "text": [
      "set 3138 for <__main__.MyClass object at 0x10de6b2e0>\n"
     ]
    }
   ],
   "source": [
    "my.age = 3138"
   ]
  },
  {
   "cell_type": "code",
   "execution_count": 176,
   "id": "404f7043",
   "metadata": {},
   "outputs": [
    {
     "data": {
      "text/plain": [
       "{'_age': 99}"
      ]
     },
     "execution_count": 176,
     "metadata": {},
     "output_type": "execute_result"
    }
   ],
   "source": [
    "my.__dict__"
   ]
  },
  {
   "cell_type": "code",
   "execution_count": 133,
   "id": "4068b88c",
   "metadata": {},
   "outputs": [],
   "source": [
    "my.print_val = 99"
   ]
  },
  {
   "cell_type": "code",
   "execution_count": 136,
   "id": "6598e812",
   "metadata": {},
   "outputs": [
    {
     "data": {
      "text/plain": [
       "99"
      ]
     },
     "execution_count": 136,
     "metadata": {},
     "output_type": "execute_result"
    }
   ],
   "source": [
    "my.print_val"
   ]
  },
  {
   "cell_type": "code",
   "execution_count": 139,
   "id": "63f1c6c4",
   "metadata": {},
   "outputs": [],
   "source": [
    "del my.print_val"
   ]
  },
  {
   "cell_type": "code",
   "execution_count": 142,
   "id": "a5779de4",
   "metadata": {},
   "outputs": [
    {
     "name": "stdout",
     "output_type": "stream",
     "text": [
      "MyClass.val\n"
     ]
    }
   ],
   "source": [
    "my.print_val()"
   ]
  },
  {
   "cell_type": "code",
   "execution_count": 141,
   "id": "02691517",
   "metadata": {},
   "outputs": [
    {
     "data": {
      "text/plain": [
       "{}"
      ]
     },
     "execution_count": 141,
     "metadata": {},
     "output_type": "execute_result"
    }
   ],
   "source": [
    "my.__dict__"
   ]
  },
  {
   "cell_type": "code",
   "execution_count": null,
   "id": "c8fe43a5",
   "metadata": {},
   "outputs": [],
   "source": []
  },
  {
   "cell_type": "code",
   "execution_count": null,
   "id": "0d2e5cff",
   "metadata": {},
   "outputs": [],
   "source": []
  },
  {
   "cell_type": "markdown",
   "id": "892a05fe",
   "metadata": {},
   "source": [
    "# Метаклассы"
   ]
  },
  {
   "cell_type": "code",
   "execution_count": 195,
   "id": "03e564ed",
   "metadata": {},
   "outputs": [],
   "source": [
    "class Meta(type):\n",
    "    pass\n",
    "\n",
    "class Boo(metaclass=Meta):\n",
    "    pass"
   ]
  },
  {
   "cell_type": "code",
   "execution_count": 198,
   "id": "6793420d",
   "metadata": {},
   "outputs": [
    {
     "data": {
      "text/plain": [
       "(True, True)"
      ]
     },
     "execution_count": 198,
     "metadata": {},
     "output_type": "execute_result"
    }
   ],
   "source": [
    "isinstance(Boo, Meta), isinstance(Boo, type)"
   ]
  },
  {
   "cell_type": "code",
   "execution_count": 205,
   "id": "5cd44777",
   "metadata": {},
   "outputs": [],
   "source": [
    "def print_val(self):\n",
    "    print('Chair.val', self.num)\n",
    "\n",
    "Chair = type(\"Chair\", (Foo, Boo), {\"num\": 99, \"print_val\": print_val})\n",
    "\n",
    "\n",
    "class Chair1(Boo, Foo):\n",
    "    num = 50\n",
    "    def print_va(): pass"
   ]
  },
  {
   "cell_type": "code",
   "execution_count": 206,
   "id": "4328350f",
   "metadata": {},
   "outputs": [],
   "source": [
    "c = Chair()"
   ]
  },
  {
   "cell_type": "code",
   "execution_count": 207,
   "id": "12c2d079",
   "metadata": {},
   "outputs": [
    {
     "data": {
      "text/plain": [
       "(99, 99)"
      ]
     },
     "execution_count": 207,
     "metadata": {},
     "output_type": "execute_result"
    }
   ],
   "source": [
    "c.num, Chair.num"
   ]
  },
  {
   "cell_type": "code",
   "execution_count": 211,
   "id": "2898c55e",
   "metadata": {},
   "outputs": [
    {
     "name": "stdout",
     "output_type": "stream",
     "text": [
      "Chair.val 55\n"
     ]
    }
   ],
   "source": [
    "c.print_val()"
   ]
  },
  {
   "cell_type": "code",
   "execution_count": 209,
   "id": "59ac8f51",
   "metadata": {},
   "outputs": [],
   "source": [
    "c.num = 55"
   ]
  },
  {
   "cell_type": "code",
   "execution_count": 210,
   "id": "f2dcc945",
   "metadata": {},
   "outputs": [
    {
     "data": {
      "text/plain": [
       "(55, 99)"
      ]
     },
     "execution_count": 210,
     "metadata": {},
     "output_type": "execute_result"
    }
   ],
   "source": [
    "c.num, Chair.num"
   ]
  },
  {
   "cell_type": "code",
   "execution_count": 204,
   "id": "811cc794",
   "metadata": {},
   "outputs": [
    {
     "data": {
      "text/plain": [
       "({'num': 55},\n",
       " mappingproxy({'num': 99, '__module__': '__main__', '__doc__': None}))"
      ]
     },
     "execution_count": 204,
     "metadata": {},
     "output_type": "execute_result"
    }
   ],
   "source": [
    "c.__dict__, Chair.__dict__"
   ]
  },
  {
   "cell_type": "code",
   "execution_count": null,
   "id": "9a2fda1e",
   "metadata": {},
   "outputs": [],
   "source": []
  },
  {
   "cell_type": "code",
   "execution_count": 214,
   "id": "dd3c4dd8",
   "metadata": {},
   "outputs": [],
   "source": [
    "class AMeta(type):\n",
    "    def __new__(mcs, name, bases, classdict, **kwargs):\n",
    "        cls = super().__new__(mcs, name, bases, classdict)\n",
    "        print('Meta __new__', cls)\n",
    "        return cls\n",
    "\n",
    "    def __init__(cls, name, bases, classdict, **kwargs):\n",
    "        print('Meta __init__', cls)\n",
    "        super().__init__(name, bases, classdict, **kwargs)\n",
    "\n",
    "    def __call__(cls, *args, **kwargs):\n",
    "        print('Meta __call__', cls)\n",
    "        return super().__call__(*args, **kwargs)\n",
    "\n",
    "    @classmethod\n",
    "    def __prepare__(mcs, name, bases, **kwargs):\n",
    "        print('Meta __prepare__', **kwargs)\n",
    "        return {'b': 2, 'a': 2}\n",
    "    \n",
    "\n"
   ]
  },
  {
   "cell_type": "code",
   "execution_count": 220,
   "id": "420aa37f",
   "metadata": {},
   "outputs": [
    {
     "name": "stdout",
     "output_type": "stream",
     "text": [
      "Meta __prepare__\n",
      "Meta __new__ <class '__main__.Chair'>\n",
      "Meta __init__ <class '__main__.Chair'>\n"
     ]
    }
   ],
   "source": [
    "class Chair(metaclass=AMeta):\n",
    "    a = 99\n",
    "    \n",
    "#     def __call__(self):\n",
    "#         print(\"chair call\")"
   ]
  },
  {
   "cell_type": "code",
   "execution_count": 225,
   "id": "a9f845a6",
   "metadata": {},
   "outputs": [
    {
     "data": {
      "text/plain": [
       "mappingproxy({'b': 2,\n",
       "              'a': 99,\n",
       "              '__module__': '__main__',\n",
       "              '__dict__': <attribute '__dict__' of 'Chair' objects>,\n",
       "              '__weakref__': <attribute '__weakref__' of 'Chair' objects>,\n",
       "              '__doc__': None})"
      ]
     },
     "execution_count": 225,
     "metadata": {},
     "output_type": "execute_result"
    }
   ],
   "source": [
    "Chair.__dict__"
   ]
  },
  {
   "cell_type": "code",
   "execution_count": 222,
   "id": "719c08f7",
   "metadata": {},
   "outputs": [
    {
     "ename": "TypeError",
     "evalue": "'Chair' object is not callable",
     "output_type": "error",
     "traceback": [
      "\u001b[0;31m---------------------------------------------------------------------------\u001b[0m",
      "\u001b[0;31mTypeError\u001b[0m                                 Traceback (most recent call last)",
      "Input \u001b[0;32mIn [222]\u001b[0m, in \u001b[0;36m<cell line: 1>\u001b[0;34m()\u001b[0m\n\u001b[0;32m----> 1\u001b[0m \u001b[43mch\u001b[49m\u001b[43m(\u001b[49m\u001b[43m)\u001b[49m\n",
      "\u001b[0;31mTypeError\u001b[0m: 'Chair' object is not callable"
     ]
    }
   ],
   "source": [
    "ch()"
   ]
  },
  {
   "cell_type": "code",
   "execution_count": null,
   "id": "4904881f",
   "metadata": {},
   "outputs": [],
   "source": []
  },
  {
   "cell_type": "code",
   "execution_count": 261,
   "id": "f0ea82f4",
   "metadata": {},
   "outputs": [],
   "source": [
    "class Singleton(type):\n",
    "    _instances = {}\n",
    "\n",
    "    def __call__(cls, *args, **kwargs):\n",
    "        print(\"META\", cls._instances, cls, args, kwargs)\n",
    "        if cls not in cls._instances:\n",
    "            cls._instances[cls] = super().__call__(*args, **kwargs)\n",
    "        return cls._instances[cls]\n",
    "    \n",
    "\n",
    "class SingleChair(metaclass=Singleton):\n",
    "\n",
    "    def __init__(self, num):\n",
    "        print(\"init SingleChair\")\n",
    "        self.num = num\n",
    "    \n",
    "    def __call__(self, s):\n",
    "        print(\"SingleChair\", self, s)\n",
    "        \n",
    "\n",
    "class TwoChair(metaclass=Singleton):\n",
    "    pass"
   ]
  },
  {
   "cell_type": "code",
   "execution_count": 262,
   "id": "e1ca3a15",
   "metadata": {},
   "outputs": [
    {
     "name": "stdout",
     "output_type": "stream",
     "text": [
      "META {} <class '__main__.SingleChair'> (10,) {}\n",
      "init SingleChair\n"
     ]
    }
   ],
   "source": [
    "s1 = SingleChair(10)"
   ]
  },
  {
   "cell_type": "code",
   "execution_count": 263,
   "id": "afbd4a0b",
   "metadata": {},
   "outputs": [
    {
     "name": "stdout",
     "output_type": "stream",
     "text": [
      "SingleChair <__main__.SingleChair object at 0x10e971a80> 10\n"
     ]
    }
   ],
   "source": [
    "s1(10)"
   ]
  },
  {
   "cell_type": "code",
   "execution_count": 256,
   "id": "635c7348",
   "metadata": {},
   "outputs": [
    {
     "name": "stdout",
     "output_type": "stream",
     "text": [
      "META {<class '__main__.SingleChair'>: <__main__.SingleChair object at 0x10e872500>} <class '__main__.SingleChair'> (10,) {}\n"
     ]
    }
   ],
   "source": [
    "s2 = SingleChair(10)"
   ]
  },
  {
   "cell_type": "code",
   "execution_count": 247,
   "id": "eb0bc67f",
   "metadata": {},
   "outputs": [
    {
     "data": {
      "text/plain": [
       "True"
      ]
     },
     "execution_count": 247,
     "metadata": {},
     "output_type": "execute_result"
    }
   ],
   "source": [
    "s1 is s2"
   ]
  },
  {
   "cell_type": "code",
   "execution_count": 257,
   "id": "3b665412",
   "metadata": {},
   "outputs": [
    {
     "name": "stdout",
     "output_type": "stream",
     "text": [
      "META {<class '__main__.SingleChair'>: <__main__.SingleChair object at 0x10e872500>} <class '__main__.TwoChair'> () {}\n",
      "META {<class '__main__.SingleChair'>: <__main__.SingleChair object at 0x10e872500>, <class '__main__.TwoChair'>: <__main__.TwoChair object at 0x10e9c17e0>} <class '__main__.TwoChair'> () {}\n"
     ]
    }
   ],
   "source": [
    "c1 = TwoChair()\n",
    "c2 = TwoChair()"
   ]
  },
  {
   "cell_type": "code",
   "execution_count": 253,
   "id": "8ad8b678",
   "metadata": {},
   "outputs": [
    {
     "data": {
      "text/plain": [
       "True"
      ]
     },
     "execution_count": 253,
     "metadata": {},
     "output_type": "execute_result"
    }
   ],
   "source": [
    "c1 is c2"
   ]
  },
  {
   "cell_type": "code",
   "execution_count": 250,
   "id": "5c3af339",
   "metadata": {},
   "outputs": [
    {
     "name": "stdout",
     "output_type": "stream",
     "text": [
      "META {<class '__main__.SingleChair'>: <__main__.SingleChair object at 0x10d47ca00>} (10,) {}\n"
     ]
    }
   ],
   "source": [
    "s3 = SingleChair(10)"
   ]
  },
  {
   "cell_type": "code",
   "execution_count": 251,
   "id": "69634104",
   "metadata": {},
   "outputs": [
    {
     "data": {
      "text/plain": [
       "True"
      ]
     },
     "execution_count": 251,
     "metadata": {},
     "output_type": "execute_result"
    }
   ],
   "source": [
    "s1 is s3"
   ]
  },
  {
   "cell_type": "code",
   "execution_count": null,
   "id": "51b5a651",
   "metadata": {},
   "outputs": [],
   "source": []
  }
 ],
 "metadata": {
  "kernelspec": {
   "display_name": "Python 3 (ipykernel)",
   "language": "python",
   "name": "python3"
  },
  "language_info": {
   "codemirror_mode": {
    "name": "ipython",
    "version": 3
   },
   "file_extension": ".py",
   "mimetype": "text/x-python",
   "name": "python",
   "nbconvert_exporter": "python",
   "pygments_lexer": "ipython3",
   "version": "3.10.2"
  }
 },
 "nbformat": 4,
 "nbformat_minor": 5
}
