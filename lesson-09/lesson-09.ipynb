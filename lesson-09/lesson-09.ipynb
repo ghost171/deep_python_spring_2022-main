{
 "cells": [
  {
   "cell_type": "code",
   "execution_count": 1,
   "id": "4165fc89",
   "metadata": {},
   "outputs": [],
   "source": []
  },
  {
   "cell_type": "code",
   "execution_count": 1,
   "id": "1890d1b6",
   "metadata": {},
   "outputs": [],
   "source": [
    "import logging\n",
    "\n",
    "\n",
    "logging.basicConfig(\n",
    "    filename=\"example.log\",\n",
    "    level=logging.INFO,\n",
    "    format=\"%(asctime)s\\t%(levelname)s\\t%(message)s\",\n",
    ")\n",
    "logging.debug(\"This message should go to the log file\")\n",
    "logging.info(\"So should this\")\n",
    "logging.warning(\"And this, too\")\n",
    "\n",
    "logger = logging.getLogger()\n",
    "logger.error(\"FAILED TO DO===========\")"
   ]
  },
  {
   "cell_type": "code",
   "execution_count": null,
   "id": "805b081f",
   "metadata": {},
   "outputs": [],
   "source": []
  },
  {
   "cell_type": "code",
   "execution_count": 2,
   "id": "0c93d7a6",
   "metadata": {},
   "outputs": [
    {
     "name": "stdout",
     "output_type": "stream",
     "text": [
      "2022-05-11 18:46:57,291\tINFO\tSo should this\r\n",
      "2022-05-11 18:46:57,291\tWARNING\tAnd this, too\r\n",
      "2022-05-11 18:46:57,291\tERROR\tFAILED TO DO===========\r\n"
     ]
    }
   ],
   "source": [
    "!cat example.log"
   ]
  },
  {
   "cell_type": "code",
   "execution_count": 3,
   "id": "edffc968",
   "metadata": {},
   "outputs": [],
   "source": [
    "!rm example.log"
   ]
  },
  {
   "cell_type": "code",
   "execution_count": null,
   "id": "b020bbb5",
   "metadata": {},
   "outputs": [],
   "source": []
  },
  {
   "cell_type": "code",
   "execution_count": null,
   "id": "46773d26",
   "metadata": {},
   "outputs": [],
   "source": []
  },
  {
   "cell_type": "code",
   "execution_count": 2,
   "id": "f1b9570b",
   "metadata": {},
   "outputs": [
    {
     "data": {
      "text/plain": [
       "<module 'logging.handlers' from '/Library/Frameworks/Python.framework/Versions/3.10/lib/python3.10/logging/handlers.py'>"
      ]
     },
     "execution_count": 2,
     "metadata": {},
     "output_type": "execute_result"
    }
   ],
   "source": [
    "logging.FileHandler"
   ]
  },
  {
   "cell_type": "code",
   "execution_count": 4,
   "id": "14a76b50",
   "metadata": {},
   "outputs": [],
   "source": [
    "import logging.config"
   ]
  },
  {
   "cell_type": "code",
   "execution_count": 6,
   "id": "9f162669",
   "metadata": {},
   "outputs": [],
   "source": [
    "logging.config.dictConfig"
   ]
  },
  {
   "cell_type": "code",
   "execution_count": 1,
   "id": "8b74c439",
   "metadata": {},
   "outputs": [],
   "source": [
    "import logging\n",
    "import logging.config\n",
    "\n",
    "\n",
    "log_config = {\n",
    "    \"version\": 1,\n",
    "    \"formatters\": {\n",
    "        \"simple\": {\n",
    "            \"format\": \"%(levelname)s\\t%(message)s\",\n",
    "        },\n",
    "        \"dated\": {\n",
    "            \"format\": \"%(asctime)s\\t%(name)s\\t%(levelname)s\\t%(message)s\",\n",
    "        },\n",
    "    },\n",
    "    \"handlers\": {\n",
    "        \"custom_file\": {\n",
    "            \"level\": \"INFO\",\n",
    "            \"class\": \"logging.FileHandler\",\n",
    "            \"filename\": \"custom.log\",\n",
    "            \"formatter\": \"dated\",\n",
    "        },\n",
    "        \"default_file\": {\n",
    "            \"level\": \"INFO\",\n",
    "            \"class\": \"logging.FileHandler\",\n",
    "            \"filename\": \"default_file.log\",\n",
    "            \"formatter\": \"simple\",\n",
    "        },\n",
    "    },\n",
    "    \"loggers\": {\n",
    "        \"root\": {\n",
    "            \"level\": \"INFO\",\n",
    "            \"handlers\": [\"custom_file\", \"default_file\"],\n",
    "        },\n",
    "        \"system\": {\n",
    "            \"level\": \"ERROR\",\n",
    "            \"handlers\": [\"custom_file\"],\n",
    "        },\n",
    "    },\n",
    "}\n",
    "\n",
    "logging.config.dictConfig(log_config)\n",
    "\n",
    "root_logger = logging.getLogger()\n",
    "custom_logger = logging.getLogger(\"system.x.y.q\")\n",
    "\n",
    "root_logger.error(\"error_in_root\")\n",
    "root_logger.info(\"info_in_root\")\n",
    "root_logger.debug(\"debug_in_root\")\n",
    "\n",
    "custom_logger.error(\"error_in_custom\")\n",
    "custom_logger.info(\"info_in_custom\")\n",
    "custom_logger.debug(\"debug_in_custom\")"
   ]
  },
  {
   "cell_type": "code",
   "execution_count": 2,
   "id": "1a98e8bd",
   "metadata": {},
   "outputs": [
    {
     "name": "stdout",
     "output_type": "stream",
     "text": [
      "-rw-r--r--   1 g.kandaurov  staff    704 May 11 19:10 custom.\u001b[01;31m\u001b[Klog\u001b[m\u001b[K\r\n",
      "-rw-r--r--   1 g.kandaurov  staff    196 May 11 19:10 default_file.\u001b[01;31m\u001b[Klog\u001b[m\u001b[K\r\n"
     ]
    }
   ],
   "source": [
    "!ls -al | grep log"
   ]
  },
  {
   "cell_type": "code",
   "execution_count": 2,
   "id": "f29b0a2b",
   "metadata": {},
   "outputs": [
    {
     "name": "stdout",
     "output_type": "stream",
     "text": [
      "2022-05-11 19:06:06,406\troot\tERROR\terror_in_root\r\n",
      "2022-05-11 19:06:06,408\troot\tINFO\tinfo_in_root\r\n",
      "2022-05-11 19:06:06,408\tcustom\tERROR\terror_in_custom\r\n",
      "2022-05-11 19:06:06,408\tcustom\tERROR\terror_in_custom\r\n",
      "2022-05-11 19:06:06,408\tcustom\tINFO\tinfo_in_custom\r\n",
      "2022-05-11 19:06:06,408\tcustom\tINFO\tinfo_in_custom\r\n",
      "2022-05-11 19:08:12,566\troot\tERROR\terror_in_root\r\n",
      "2022-05-11 19:08:12,568\troot\tINFO\tinfo_in_root\r\n",
      "2022-05-11 19:08:12,568\tcustom\tERROR\terror_in_custom\r\n",
      "2022-05-11 19:08:12,568\tcustom\tINFO\tinfo_in_custom\r\n",
      "2022-05-11 19:10:02,459\troot\tERROR\terror_in_root\r\n",
      "2022-05-11 19:10:02,459\troot\tINFO\tinfo_in_root\r\n",
      "2022-05-11 19:10:02,459\tcustom\tERROR\terror_in_custom\r\n",
      "2022-05-11 19:10:02,459\tcustom\tINFO\tinfo_in_custom\r\n",
      "2022-05-11 19:11:42,167\troot\tERROR\terror_in_root\r\n",
      "2022-05-11 19:11:42,167\troot\tINFO\tinfo_in_root\r\n",
      "2022-05-11 19:11:42,167\tsystem\tERROR\terror_in_custom\r\n",
      "2022-05-11 19:11:42,167\tsystem\tERROR\terror_in_custom\r\n"
     ]
    }
   ],
   "source": [
    "!cat  custom.log"
   ]
  },
  {
   "cell_type": "code",
   "execution_count": 3,
   "id": "de1c12f3",
   "metadata": {},
   "outputs": [
    {
     "name": "stdout",
     "output_type": "stream",
     "text": [
      "error_in_root\r\n",
      "info_in_root\r\n",
      "error_in_custom\r\n",
      "info_in_custom\r\n",
      "error_in_root\r\n",
      "info_in_root\r\n",
      "error_in_custom\r\n",
      "info_in_custom\r\n",
      "ERROR\terror_in_root\r\n",
      "INFO\tinfo_in_root\r\n",
      "ERROR\terror_in_custom\r\n",
      "INFO\tinfo_in_custom\r\n",
      "ERROR\terror_in_root\r\n",
      "INFO\tinfo_in_root\r\n",
      "ERROR\terror_in_custom\r\n"
     ]
    }
   ],
   "source": [
    "!cat default_file.log"
   ]
  },
  {
   "cell_type": "code",
   "execution_count": null,
   "id": "8a88a752",
   "metadata": {},
   "outputs": [],
   "source": []
  },
  {
   "cell_type": "code",
   "execution_count": 4,
   "id": "fe90c457",
   "metadata": {},
   "outputs": [],
   "source": [
    "class StubFilter(logging.Filter):\n",
    "    def filter(self, record):\n",
    "        print('RECORD', record)\n",
    "        # return \"in_custom\" in record\n",
    "        return True"
   ]
  },
  {
   "cell_type": "code",
   "execution_count": 1,
   "id": "b55c347a",
   "metadata": {},
   "outputs": [
    {
     "name": "stdout",
     "output_type": "stream",
     "text": [
      "RECORD <LogRecord: stub, 20, /var/folders/c1/9wdb7dps2x332c6l1y2hrqkh0000gp/T/ipykernel_24610/545875182.py, 23, \"info_in_stub\">\n",
      "RECORD <LogRecord: stub, 40, /var/folders/c1/9wdb7dps2x332c6l1y2hrqkh0000gp/T/ipykernel_24610/545875182.py, 24, \"error_stub\">\n"
     ]
    }
   ],
   "source": [
    "import logging\n",
    "\n",
    "\n",
    "class StubFilter(logging.Filter):\n",
    "    def filter(self, record):\n",
    "        print('RECORD', record)\n",
    "        return \"in_stub\" in record.msg\n",
    "\n",
    "\n",
    "logger = logging.getLogger(\"stub\")\n",
    "logger.setLevel(logging.INFO)\n",
    "\n",
    "handler = logging.FileHandler(filename=\"stub.log\")\n",
    "handler.addFilter(StubFilter())\n",
    "\n",
    "formatter = logging.Formatter(\"%(asctime)s\\t%(name)s\\t%(levelname)s\\t%(message)s\")\n",
    "handler.setFormatter(formatter)\n",
    "handler.setLevel(logging.INFO)\n",
    "\n",
    "logger.addHandler(handler)\n",
    "\n",
    "\n",
    "logger.info(\"info_in_stub\")\n",
    "logger.error(\"error_stub\")"
   ]
  },
  {
   "cell_type": "code",
   "execution_count": 2,
   "id": "488c2a38",
   "metadata": {},
   "outputs": [
    {
     "name": "stdout",
     "output_type": "stream",
     "text": [
      "%(asctime)s\t%(name)s\t%(levelname)s\t%(message)s\r\n",
      "%(asctime)s\t%(name)s\t%(levelname)s\t%(message)s\r\n",
      "%(asctime)s\t%(name)s\t%(levelname)s\t%(message)s\r\n",
      "%(asctime)s\t%(name)s\t%(levelname)s\t%(message)s\r\n",
      "%(asctime)s\t%(name)s\t%(levelname)s\t%(message)s\r\n",
      "2022-05-11 19:26:59,708\tstub\tERROR\terror_stub\r\n",
      "2022-05-11 19:27:48,198\tstub\tINFO\tinfo_in_stub\r\n",
      "2022-05-11 19:27:48,198\tstub\tERROR\terror_stub\r\n",
      "2022-05-11 19:28:56,798\tstub\tINFO\tinfo_in_stub\r\n"
     ]
    }
   ],
   "source": [
    "!cat stub.log"
   ]
  },
  {
   "cell_type": "code",
   "execution_count": null,
   "id": "bb6e7190",
   "metadata": {},
   "outputs": [],
   "source": []
  },
  {
   "cell_type": "code",
   "execution_count": 3,
   "id": "267425d7",
   "metadata": {},
   "outputs": [
    {
     "data": {
      "text/plain": [
       "(True, False)"
      ]
     },
     "execution_count": 3,
     "metadata": {},
     "output_type": "execute_result"
    }
   ],
   "source": [
    "\"in_stub\" in \"info_in_stub\", \"in_stub\" in \"error_stub\""
   ]
  },
  {
   "cell_type": "code",
   "execution_count": 7,
   "id": "c81a8c8a",
   "metadata": {},
   "outputs": [],
   "source": [
    "logging.StreamHandler?"
   ]
  },
  {
   "cell_type": "code",
   "execution_count": null,
   "id": "f7d4e819",
   "metadata": {},
   "outputs": [],
   "source": [
    "log\n",
    "log.1\n",
    "log.2\n",
    "\n",
    "log -> log.1\n",
    "log!\n",
    "log.1 -> log.2"
   ]
  },
  {
   "cell_type": "code",
   "execution_count": null,
   "id": "1de837c5",
   "metadata": {},
   "outputs": [],
   "source": []
  },
  {
   "cell_type": "code",
   "execution_count": null,
   "id": "e3204168",
   "metadata": {},
   "outputs": [],
   "source": []
  },
  {
   "cell_type": "code",
   "execution_count": 15,
   "id": "8b49b14c",
   "metadata": {},
   "outputs": [
    {
     "data": {
      "text/plain": [
       "[17, 7]"
      ]
     },
     "execution_count": 15,
     "metadata": {},
     "output_type": "execute_result"
    }
   ],
   "source": [
    "def do_action(num):\n",
    "    y = num + 10\n",
    "    z = (y, num)\n",
    "    res = map(lambda x: x - 3, z)\n",
    "    res = [i for i in res]\n",
    "\n",
    "    return res\n",
    "\n",
    "\n",
    "def do_gen(num):\n",
    "    yield num\n",
    "\n",
    "\n",
    "do_action(10)"
   ]
  },
  {
   "cell_type": "code",
   "execution_count": 12,
   "id": "f5d7ec7c",
   "metadata": {},
   "outputs": [
    {
     "name": "stdout",
     "output_type": "stream",
     "text": [
      "  2           0 LOAD_FAST                0 (num)\n",
      "              2 LOAD_CONST               1 (10)\n",
      "              4 BINARY_ADD\n",
      "              6 STORE_FAST               1 (y)\n",
      "\n",
      "  3           8 LOAD_FAST                1 (y)\n",
      "             10 LOAD_FAST                0 (num)\n",
      "             12 BUILD_TUPLE              2\n",
      "             14 STORE_FAST               2 (z)\n",
      "\n",
      "  4          16 LOAD_GLOBAL              0 (map)\n",
      "             18 LOAD_CONST               2 (<code object <lambda> at 0x10aa18190, file \"/var/folders/c1/9wdb7dps2x332c6l1y2hrqkh0000gp/T/ipykernel_24610/1849879994.py\", line 4>)\n",
      "             20 LOAD_CONST               3 ('do_action.<locals>.<lambda>')\n",
      "             22 MAKE_FUNCTION            0\n",
      "             24 LOAD_FAST                2 (z)\n",
      "             26 CALL_FUNCTION            2\n",
      "             28 STORE_FAST               3 (res)\n",
      "\n",
      "  5          30 LOAD_CONST               4 (<code object <listcomp> at 0x10aa1bc00, file \"/var/folders/c1/9wdb7dps2x332c6l1y2hrqkh0000gp/T/ipykernel_24610/1849879994.py\", line 5>)\n",
      "             32 LOAD_CONST               5 ('do_action.<locals>.<listcomp>')\n",
      "             34 MAKE_FUNCTION            0\n",
      "             36 LOAD_FAST                3 (res)\n",
      "             38 GET_ITER\n",
      "             40 CALL_FUNCTION            1\n",
      "             42 STORE_FAST               3 (res)\n",
      "\n",
      "  7          44 LOAD_FAST                3 (res)\n",
      "             46 RETURN_VALUE\n",
      "\n",
      "Disassembly of <code object <lambda> at 0x10aa18190, file \"/var/folders/c1/9wdb7dps2x332c6l1y2hrqkh0000gp/T/ipykernel_24610/1849879994.py\", line 4>:\n",
      "  4           0 LOAD_FAST                0 (x)\n",
      "              2 LOAD_CONST               1 (3)\n",
      "              4 BINARY_SUBTRACT\n",
      "              6 RETURN_VALUE\n",
      "\n",
      "Disassembly of <code object <listcomp> at 0x10aa1bc00, file \"/var/folders/c1/9wdb7dps2x332c6l1y2hrqkh0000gp/T/ipykernel_24610/1849879994.py\", line 5>:\n",
      "  5           0 BUILD_LIST               0\n",
      "              2 LOAD_FAST                0 (.0)\n",
      "        >>    4 FOR_ITER                 4 (to 14)\n",
      "              6 STORE_FAST               1 (i)\n",
      "              8 LOAD_FAST                1 (i)\n",
      "             10 LIST_APPEND              2\n",
      "             12 JUMP_ABSOLUTE            2 (to 4)\n",
      "        >>   14 RETURN_VALUE\n"
     ]
    }
   ],
   "source": [
    "import dis\n",
    "\n",
    "\n",
    "dis.dis(do_action)"
   ]
  },
  {
   "cell_type": "code",
   "execution_count": 16,
   "id": "d8db2347",
   "metadata": {},
   "outputs": [
    {
     "name": "stdout",
     "output_type": "stream",
     "text": [
      "              0 GEN_START                0\n",
      "\n",
      " 11           2 LOAD_FAST                0 (num)\n",
      "              4 YIELD_VALUE\n",
      "              6 POP_TOP\n",
      "              8 LOAD_CONST               0 (None)\n",
      "             10 RETURN_VALUE\n"
     ]
    }
   ],
   "source": [
    "dis.dis(do_gen)"
   ]
  },
  {
   "cell_type": "code",
   "execution_count": 17,
   "id": "d23f03c9",
   "metadata": {},
   "outputs": [
    {
     "name": "stdout",
     "output_type": "stream",
     "text": [
      "  1           0 LOAD_CONST               0 (99)\n",
      "              2 STORE_NAME               0 (x)\n",
      "              4 LOAD_CONST               1 (None)\n",
      "              6 RETURN_VALUE\n"
     ]
    }
   ],
   "source": [
    "dis.dis(\"x = 99\")"
   ]
  },
  {
   "cell_type": "code",
   "execution_count": 18,
   "id": "8d12d876",
   "metadata": {},
   "outputs": [
    {
     "name": "stdout",
     "output_type": "stream",
     "text": [
      "Name:              do_gen\n",
      "Filename:          /var/folders/c1/9wdb7dps2x332c6l1y2hrqkh0000gp/T/ipykernel_24610/2808529748.py\n",
      "Argument count:    1\n",
      "Positional-only arguments: 0\n",
      "Kw-only arguments: 0\n",
      "Number of locals:  1\n",
      "Stack size:        1\n",
      "Flags:             OPTIMIZED, NEWLOCALS, GENERATOR, NOFREE\n",
      "Constants:\n",
      "   0: None\n",
      "Variable names:\n",
      "   0: num\n"
     ]
    }
   ],
   "source": [
    "dis.show_code(do_gen)"
   ]
  },
  {
   "cell_type": "code",
   "execution_count": 19,
   "id": "6b051be8",
   "metadata": {},
   "outputs": [
    {
     "name": "stdout",
     "output_type": "stream",
     "text": [
      "Name:              do_action\n",
      "Filename:          /var/folders/c1/9wdb7dps2x332c6l1y2hrqkh0000gp/T/ipykernel_24610/2808529748.py\n",
      "Argument count:    1\n",
      "Positional-only arguments: 0\n",
      "Kw-only arguments: 0\n",
      "Number of locals:  4\n",
      "Stack size:        3\n",
      "Flags:             OPTIMIZED, NEWLOCALS, NOFREE\n",
      "Constants:\n",
      "   0: None\n",
      "   1: 10\n",
      "   2: <code object <lambda> at 0x108b340e0, file \"/var/folders/c1/9wdb7dps2x332c6l1y2hrqkh0000gp/T/ipykernel_24610/2808529748.py\", line 4>\n",
      "   3: 'do_action.<locals>.<lambda>'\n",
      "   4: <code object <listcomp> at 0x108b373c0, file \"/var/folders/c1/9wdb7dps2x332c6l1y2hrqkh0000gp/T/ipykernel_24610/2808529748.py\", line 5>\n",
      "   5: 'do_action.<locals>.<listcomp>'\n",
      "Names:\n",
      "   0: map\n",
      "Variable names:\n",
      "   0: num\n",
      "   1: y\n",
      "   2: z\n",
      "   3: res\n"
     ]
    }
   ],
   "source": [
    "dis.show_code(do_action)"
   ]
  },
  {
   "cell_type": "code",
   "execution_count": null,
   "id": "15dedb99",
   "metadata": {},
   "outputs": [],
   "source": []
  },
  {
   "cell_type": "code",
   "execution_count": null,
   "id": "8425ebd5",
   "metadata": {},
   "outputs": [],
   "source": []
  },
  {
   "cell_type": "code",
   "execution_count": 16,
   "id": "35b9372a",
   "metadata": {},
   "outputs": [],
   "source": [
    "def do_some(n):\n",
    "    return n + 5\n",
    "\n",
    "\n",
    "def do_action(num: int) -> list[int]:\n",
    "    # import pdb; pdb.set_trace()\n",
    "\n",
    "    apple_count = num + 10\n",
    "    some1 = do_some(y)\n",
    "    some2 = do_some(y + 1)\n",
    "    garden_gates_height = (y, num, some1)\n",
    "    res = map(lambda x: x - 3, z)\n",
    "    res = [i for i in res]\n",
    "\n",
    "    return res"
   ]
  },
  {
   "cell_type": "code",
   "execution_count": 7,
   "id": "68d8948d",
   "metadata": {},
   "outputs": [
    {
     "data": {
      "text/plain": [
       "[106, 96, 111]"
      ]
     },
     "execution_count": 7,
     "metadata": {},
     "output_type": "execute_result"
    }
   ],
   "source": [
    "do_action(99)"
   ]
  },
  {
   "cell_type": "code",
   "execution_count": 9,
   "id": "915c0e3b",
   "metadata": {},
   "outputs": [],
   "source": [
    "import inspect"
   ]
  },
  {
   "cell_type": "code",
   "execution_count": 11,
   "id": "798285a6",
   "metadata": {},
   "outputs": [
    {
     "data": {
      "text/plain": [
       "[('__class__', object),\n",
       " ('__delattr__',\n",
       "  <method-wrapper '__delattr__' of object object at 0x10fa2d380>),\n",
       " ('__dir__', <function object.__dir__()>),\n",
       " ('__doc__',\n",
       "  'The base class of the class hierarchy.\\n\\nWhen called, it accepts no arguments and returns a new featureless\\ninstance that has no instance attributes and cannot be given any.\\n'),\n",
       " ('__eq__', <method-wrapper '__eq__' of object object at 0x10fa2d380>),\n",
       " ('__format__', <function object.__format__(format_spec, /)>),\n",
       " ('__ge__', <method-wrapper '__ge__' of object object at 0x10fa2d380>),\n",
       " ('__getattribute__',\n",
       "  <method-wrapper '__getattribute__' of object object at 0x10fa2d380>),\n",
       " ('__gt__', <method-wrapper '__gt__' of object object at 0x10fa2d380>),\n",
       " ('__hash__', <method-wrapper '__hash__' of object object at 0x10fa2d380>),\n",
       " ('__init__', <method-wrapper '__init__' of object object at 0x10fa2d380>),\n",
       " ('__init_subclass__', <function object.__init_subclass__>),\n",
       " ('__le__', <method-wrapper '__le__' of object object at 0x10fa2d380>),\n",
       " ('__lt__', <method-wrapper '__lt__' of object object at 0x10fa2d380>),\n",
       " ('__ne__', <method-wrapper '__ne__' of object object at 0x10fa2d380>),\n",
       " ('__new__', <function object.__new__(*args, **kwargs)>),\n",
       " ('__reduce__', <function object.__reduce__()>),\n",
       " ('__reduce_ex__', <function object.__reduce_ex__(protocol, /)>),\n",
       " ('__repr__', <method-wrapper '__repr__' of object object at 0x10fa2d380>),\n",
       " ('__setattr__',\n",
       "  <method-wrapper '__setattr__' of object object at 0x10fa2d380>),\n",
       " ('__sizeof__', <function object.__sizeof__()>),\n",
       " ('__str__', <method-wrapper '__str__' of object object at 0x10fa2d380>),\n",
       " ('__subclasshook__', <function object.__subclasshook__>)]"
      ]
     },
     "execution_count": 11,
     "metadata": {},
     "output_type": "execute_result"
    }
   ],
   "source": [
    "obj = object()\n",
    "\n",
    "inspect.getmembers(obj)"
   ]
  },
  {
   "cell_type": "code",
   "execution_count": 17,
   "id": "10735dea",
   "metadata": {},
   "outputs": [
    {
     "data": {
      "text/plain": [
       "{'num': int, 'return': list[int]}"
      ]
     },
     "execution_count": 17,
     "metadata": {},
     "output_type": "execute_result"
    }
   ],
   "source": [
    "inspect.get_annotations(do_action)"
   ]
  },
  {
   "cell_type": "code",
   "execution_count": 22,
   "id": "d7eae410",
   "metadata": {},
   "outputs": [
    {
     "data": {
      "text/plain": [
       "(<module '__main__'>,\n",
       " <module 'collections' from '/Library/Frameworks/Python.framework/Versions/3.10/lib/python3.10/collections/__init__.py'>)"
      ]
     },
     "execution_count": 22,
     "metadata": {},
     "output_type": "execute_result"
    }
   ],
   "source": [
    "import collections\n",
    "\n",
    "inspect.getmodule(do_action), inspect.getmodule(collections.deque)"
   ]
  },
  {
   "cell_type": "code",
   "execution_count": 23,
   "id": "2e28c3ae",
   "metadata": {},
   "outputs": [
    {
     "data": {
      "text/plain": [
       "'collections'"
      ]
     },
     "execution_count": 23,
     "metadata": {},
     "output_type": "execute_result"
    }
   ],
   "source": [
    "collections.deque.__module__"
   ]
  },
  {
   "cell_type": "code",
   "execution_count": 24,
   "id": "18c92c01",
   "metadata": {},
   "outputs": [
    {
     "data": {
      "text/plain": [
       "<Signature (num: int) -> list[int]>"
      ]
     },
     "execution_count": 24,
     "metadata": {},
     "output_type": "execute_result"
    }
   ],
   "source": [
    "inspect.signature(do_action)"
   ]
  },
  {
   "cell_type": "code",
   "execution_count": 25,
   "id": "b7712a4a",
   "metadata": {},
   "outputs": [
    {
     "data": {
      "text/plain": [
       "'(num: int) -> list[int]'"
      ]
     },
     "execution_count": 25,
     "metadata": {},
     "output_type": "execute_result"
    }
   ],
   "source": [
    "str(inspect.signature(do_action))"
   ]
  },
  {
   "cell_type": "code",
   "execution_count": 26,
   "id": "47308a41",
   "metadata": {},
   "outputs": [
    {
     "data": {
      "text/plain": [
       "'(n)'"
      ]
     },
     "execution_count": 26,
     "metadata": {},
     "output_type": "execute_result"
    }
   ],
   "source": [
    "str(inspect.signature(do_some))"
   ]
  },
  {
   "cell_type": "code",
   "execution_count": 35,
   "id": "8419b8a6",
   "metadata": {},
   "outputs": [
    {
     "data": {
      "text/plain": [
       "(False, True, True, False)"
      ]
     },
     "execution_count": 35,
     "metadata": {},
     "output_type": "execute_result"
    }
   ],
   "source": [
    "def do_gen(num):\n",
    "    yield num\n",
    "\n",
    "\n",
    "(\n",
    "    inspect.isgenerator(do_some), \n",
    "    inspect.isgenerator(do_gen(10)),\n",
    "    inspect.isgeneratorfunction(do_gen),\n",
    "    inspect.isgeneratorfunction(do_gen(4)),\n",
    ")"
   ]
  },
  {
   "cell_type": "code",
   "execution_count": 36,
   "id": "9b853a40",
   "metadata": {},
   "outputs": [
    {
     "data": {
      "text/plain": [
       "<frame at 0x7f88835542c0, file '/var/folders/c1/9wdb7dps2x332c6l1y2hrqkh0000gp/T/ipykernel_28656/3468241129.py', line 1, code <cell line: 1>>"
      ]
     },
     "execution_count": 36,
     "metadata": {},
     "output_type": "execute_result"
    }
   ],
   "source": [
    "inspect.currentframe()"
   ]
  },
  {
   "cell_type": "code",
   "execution_count": 38,
   "id": "002c0dea",
   "metadata": {},
   "outputs": [
    {
     "data": {
      "text/plain": [
       "Traceback(filename='/var/folders/c1/9wdb7dps2x332c6l1y2hrqkh0000gp/T/ipykernel_28656/2154058773.py', lineno=1, function='<cell line: 1>', code_context=['inspect.getframeinfo(inspect.currentframe())\\n'], index=0)"
      ]
     },
     "execution_count": 38,
     "metadata": {},
     "output_type": "execute_result"
    }
   ],
   "source": [
    "inspect.getframeinfo(inspect.currentframe())"
   ]
  },
  {
   "cell_type": "code",
   "execution_count": 41,
   "id": "77c11588",
   "metadata": {},
   "outputs": [
    {
     "data": {
      "text/plain": [
       "[FrameInfo(frame=<frame at 0x7f888346ba10, file '/var/folders/c1/9wdb7dps2x332c6l1y2hrqkh0000gp/T/ipykernel_28656/2581835196.py', line 1, code <cell line: 1>>, filename='/var/folders/c1/9wdb7dps2x332c6l1y2hrqkh0000gp/T/ipykernel_28656/2581835196.py', lineno=1, function='<cell line: 1>', code_context=['inspect.stack()\\n'], index=0),\n",
       " FrameInfo(frame=<frame at 0x7f8883550eb0, file '/Users/g.kandaurov/venv_education/vk_edx/lib/python3.10/site-packages/IPython/core/interactiveshell.py', line 3361, code run_code>, filename='/Users/g.kandaurov/venv_education/vk_edx/lib/python3.10/site-packages/IPython/core/interactiveshell.py', lineno=3361, function='run_code', code_context=['                    exec(code_obj, self.user_global_ns, self.user_ns)\\n'], index=0),\n",
       " FrameInfo(frame=<frame at 0x7f8883466d90, file '/Users/g.kandaurov/venv_education/vk_edx/lib/python3.10/site-packages/IPython/core/interactiveshell.py', line 3301, code run_ast_nodes>, filename='/Users/g.kandaurov/venv_education/vk_edx/lib/python3.10/site-packages/IPython/core/interactiveshell.py', lineno=3301, function='run_ast_nodes', code_context=['                if await self.run_code(code, result, async_=asy):\\n'], index=0),\n",
       " FrameInfo(frame=<frame at 0x7f88833264a0, file '/Users/g.kandaurov/venv_education/vk_edx/lib/python3.10/site-packages/IPython/core/interactiveshell.py', line 3098, code run_cell_async>, filename='/Users/g.kandaurov/venv_education/vk_edx/lib/python3.10/site-packages/IPython/core/interactiveshell.py', lineno=3098, function='run_cell_async', code_context=['                has_raised = await self.run_ast_nodes(code_ast.body, cell_name,\\n'], index=0),\n",
       " FrameInfo(frame=<frame at 0x7f8883709cd0, file '/Users/g.kandaurov/venv_education/vk_edx/lib/python3.10/site-packages/IPython/core/async_helpers.py', line 129, code _pseudo_sync_runner>, filename='/Users/g.kandaurov/venv_education/vk_edx/lib/python3.10/site-packages/IPython/core/async_helpers.py', lineno=129, function='_pseudo_sync_runner', code_context=['        coro.send(None)\\n'], index=0),\n",
       " FrameInfo(frame=<frame at 0x7f88834646e0, file '/Users/g.kandaurov/venv_education/vk_edx/lib/python3.10/site-packages/IPython/core/interactiveshell.py', line 2900, code _run_cell>, filename='/Users/g.kandaurov/venv_education/vk_edx/lib/python3.10/site-packages/IPython/core/interactiveshell.py', lineno=2900, function='_run_cell', code_context=['            return runner(coro)\\n'], index=0),\n",
       " FrameInfo(frame=<frame at 0x7f88836541b0, file '/Users/g.kandaurov/venv_education/vk_edx/lib/python3.10/site-packages/IPython/core/interactiveshell.py', line 2854, code run_cell>, filename='/Users/g.kandaurov/venv_education/vk_edx/lib/python3.10/site-packages/IPython/core/interactiveshell.py', lineno=2854, function='run_cell', code_context=['            result = self._run_cell(\\n'], index=0),\n",
       " FrameInfo(frame=<frame at 0x7f88835501a0, file '/Users/g.kandaurov/venv_education/vk_edx/lib/python3.10/site-packages/ipykernel/zmqshell.py', line 532, code run_cell>, filename='/Users/g.kandaurov/venv_education/vk_edx/lib/python3.10/site-packages/ipykernel/zmqshell.py', lineno=532, function='run_cell', code_context=['        return super().run_cell(*args, **kwargs)\\n'], index=0),\n",
       " FrameInfo(frame=<frame at 0x7f888354fe00, file '/Users/g.kandaurov/venv_education/vk_edx/lib/python3.10/site-packages/ipykernel/ipkernel.py', line 360, code do_execute>, filename='/Users/g.kandaurov/venv_education/vk_edx/lib/python3.10/site-packages/ipykernel/ipkernel.py', lineno=360, function='do_execute', code_context=['                res = shell.run_cell(code, store_history=store_history, silent=silent)\\n'], index=0),\n",
       " FrameInfo(frame=<frame at 0x7f88805f8270, file '/Users/g.kandaurov/venv_education/vk_edx/lib/python3.10/site-packages/ipykernel/kernelbase.py', line 662, code execute_request>, filename='/Users/g.kandaurov/venv_education/vk_edx/lib/python3.10/site-packages/ipykernel/kernelbase.py', lineno=662, function='execute_request', code_context=['            reply_content = await reply_content\\n'], index=0),\n",
       " FrameInfo(frame=<frame at 0x7f8883708130, file '/Users/g.kandaurov/venv_education/vk_edx/lib/python3.10/site-packages/ipykernel/kernelbase.py', line 367, code dispatch_shell>, filename='/Users/g.kandaurov/venv_education/vk_edx/lib/python3.10/site-packages/ipykernel/kernelbase.py', lineno=367, function='dispatch_shell', code_context=['                    await result\\n'], index=0),\n",
       " FrameInfo(frame=<frame at 0x7f8883250a70, file '/Users/g.kandaurov/venv_education/vk_edx/lib/python3.10/site-packages/ipykernel/kernelbase.py', line 460, code process_one>, filename='/Users/g.kandaurov/venv_education/vk_edx/lib/python3.10/site-packages/ipykernel/kernelbase.py', lineno=460, function='process_one', code_context=['        await dispatch(*args)\\n'], index=0),\n",
       " FrameInfo(frame=<frame at 0x10db90ac0, file '/Users/g.kandaurov/venv_education/vk_edx/lib/python3.10/site-packages/ipykernel/kernelbase.py', line 471, code dispatch_queue>, filename='/Users/g.kandaurov/venv_education/vk_edx/lib/python3.10/site-packages/ipykernel/kernelbase.py', lineno=471, function='dispatch_queue', code_context=['                await self.process_one()\\n'], index=0),\n",
       " FrameInfo(frame=<frame at 0x7f8883514ea0, file '/Library/Frameworks/Python.framework/Versions/3.10/lib/python3.10/asyncio/events.py', line 80, code _run>, filename='/Library/Frameworks/Python.framework/Versions/3.10/lib/python3.10/asyncio/events.py', lineno=80, function='_run', code_context=['            self._context.run(self._callback, *self._args)\\n'], index=0),\n",
       " FrameInfo(frame=<frame at 0x7f8883464da0, file '/Library/Frameworks/Python.framework/Versions/3.10/lib/python3.10/asyncio/base_events.py', line 1881, code _run_once>, filename='/Library/Frameworks/Python.framework/Versions/3.10/lib/python3.10/asyncio/base_events.py', lineno=1881, function='_run_once', code_context=['                handle._run()\\n'], index=0),\n",
       " FrameInfo(frame=<frame at 0x10db9c3e0, file '/Library/Frameworks/Python.framework/Versions/3.10/lib/python3.10/asyncio/base_events.py', line 595, code run_forever>, filename='/Library/Frameworks/Python.framework/Versions/3.10/lib/python3.10/asyncio/base_events.py', lineno=595, function='run_forever', code_context=['                self._run_once()\\n'], index=0),\n",
       " FrameInfo(frame=<frame at 0x10db9c210, file '/Users/g.kandaurov/venv_education/vk_edx/lib/python3.10/site-packages/tornado/platform/asyncio.py', line 199, code start>, filename='/Users/g.kandaurov/venv_education/vk_edx/lib/python3.10/site-packages/tornado/platform/asyncio.py', lineno=199, function='start', code_context=['            self.asyncio_loop.run_forever()\\n'], index=0),\n",
       " FrameInfo(frame=<frame at 0x10d82df40, file '/Users/g.kandaurov/venv_education/vk_edx/lib/python3.10/site-packages/ipykernel/kernelapp.py', line 677, code start>, filename='/Users/g.kandaurov/venv_education/vk_edx/lib/python3.10/site-packages/ipykernel/kernelapp.py', lineno=677, function='start', code_context=['                self.io_loop.start()\\n'], index=0),\n",
       " FrameInfo(frame=<frame at 0x7f8880755410, file '/Users/g.kandaurov/venv_education/vk_edx/lib/python3.10/site-packages/traitlets/config/application.py', line 846, code launch_instance>, filename='/Users/g.kandaurov/venv_education/vk_edx/lib/python3.10/site-packages/traitlets/config/application.py', lineno=846, function='launch_instance', code_context=['        app.start()\\n'], index=0),\n",
       " FrameInfo(frame=<frame at 0x10ac71cf0, file '/Users/g.kandaurov/venv_education/vk_edx/lib/python3.10/site-packages/ipykernel_launcher.py', line 16, code <module>>, filename='/Users/g.kandaurov/venv_education/vk_edx/lib/python3.10/site-packages/ipykernel_launcher.py', lineno=16, function='<module>', code_context=['    app.launch_new_instance()\\n'], index=0),\n",
       " FrameInfo(frame=<frame at 0x7f8880709610, file '/Library/Frameworks/Python.framework/Versions/3.10/lib/python3.10/runpy.py', line 86, code _run_code>, filename='/Library/Frameworks/Python.framework/Versions/3.10/lib/python3.10/runpy.py', lineno=86, function='_run_code', code_context=['    exec(code, run_globals)\\n'], index=0),\n",
       " FrameInfo(frame=<frame at 0x10ac57a40, file '/Library/Frameworks/Python.framework/Versions/3.10/lib/python3.10/runpy.py', line 196, code _run_module_as_main>, filename='/Library/Frameworks/Python.framework/Versions/3.10/lib/python3.10/runpy.py', lineno=196, function='_run_module_as_main', code_context=['    return _run_code(code, main_globals, None,\\n'], index=0)]"
      ]
     },
     "execution_count": 41,
     "metadata": {},
     "output_type": "execute_result"
    }
   ],
   "source": [
    "inspect.stack()"
   ]
  },
  {
   "cell_type": "code",
   "execution_count": null,
   "id": "ebcd68bb",
   "metadata": {},
   "outputs": [],
   "source": []
  },
  {
   "cell_type": "code",
   "execution_count": null,
   "id": "4b130627",
   "metadata": {},
   "outputs": [],
   "source": [
    "def do_some():\n",
    "    pass\n",
    "\n",
    "\n",
    "class CamelCase:\n",
    "    def do_some(self):\n",
    "        pass"
   ]
  },
  {
   "cell_type": "code",
   "execution_count": null,
   "id": "bc273a65",
   "metadata": {},
   "outputs": [],
   "source": [
    "self.do_action_xxx_yyyy(\n",
    "    xxxxx=\"dlkwdwjdlwdlwdlk_update\",\n",
    "    yyyyy=\"dwkjdwhdjwhdhwjjdhwjhdwj\",\n",
    "    zzzzzz=\"dwjhdjwgjwhwjdhjwhdwjdhwjdhwjh\",\n",
    ")\n",
    "\n",
    "if (\n",
    "    xxxxx == \"dlkwdwjdlwdlwdlk_update\"\n",
    "    and yyyyy == \"dwkjdwhdjwhdhwjjdhwjhdwj\" \n",
    "    and zzzzzz == \"dwjhdjwgjwhwjdhjwhdwjdhwjdhwjh\"\n",
    "):\n",
    "    pass\n",
    "\n",
    "\n",
    "with open(\"filename1kdwjkwjdkdwjdkwkwj\") as f1, \\\n",
    "     open(\"filename2kdwkdwkdjwkdjw\") as f2:\n",
    "    pass\n",
    "\n",
    "\n",
    "with open(\n",
    "    \"filename1kdwjkwjdkdwjdkwkwj\"\n",
    ") as f1, open(\n",
    "    \"filename2kdwkdwkdjwkdjw\"\n",
    ") as f2:\n",
    "    pass"
   ]
  }
 ],
 "metadata": {
  "kernelspec": {
   "display_name": "Python 3 (ipykernel)",
   "language": "python",
   "name": "python3"
  },
  "language_info": {
   "codemirror_mode": {
    "name": "ipython",
    "version": 3
   },
   "file_extension": ".py",
   "mimetype": "text/x-python",
   "name": "python",
   "nbconvert_exporter": "python",
   "pygments_lexer": "ipython3",
   "version": "3.10.2"
  }
 },
 "nbformat": 4,
 "nbformat_minor": 5
}
