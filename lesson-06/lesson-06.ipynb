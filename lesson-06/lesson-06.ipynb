{
 "cells": [
  {
   "cell_type": "code",
   "execution_count": 1,
   "id": "bb95baa0",
   "metadata": {},
   "outputs": [],
   "source": [
    "import threading"
   ]
  },
  {
   "cell_type": "code",
   "execution_count": 16,
   "id": "cdb189a5",
   "metadata": {},
   "outputs": [
    {
     "data": {
      "text/plain": [
       "(8,\n",
       " <_MainThread(MainThread, started 4725466560)>,\n",
       " [<_MainThread(MainThread, started 4725466560)>,\n",
       "  <Thread(IOPub, started daemon 123145333313536)>,\n",
       "  <Heartbeat(Heartbeat, started daemon 123145350103040)>,\n",
       "  <Thread(Thread-3 (_watch_pipe_fd), started daemon 123145367965696)>,\n",
       "  <Thread(Thread-4 (_watch_pipe_fd), started daemon 123145384755200)>,\n",
       "  <ControlThread(Control, started daemon 123145401544704)>,\n",
       "  <HistorySavingThread(IPythonHistorySavingThread, started 123145418334208)>,\n",
       "  <ParentPollerUnix(Thread-2, started daemon 123145436196864)>])"
      ]
     },
     "execution_count": 16,
     "metadata": {},
     "output_type": "execute_result"
    }
   ],
   "source": [
    "threading.active_count(), threading.current_thread(), threading.enumerate()"
   ]
  },
  {
   "cell_type": "code",
   "execution_count": 6,
   "id": "5d05e070",
   "metadata": {},
   "outputs": [
    {
     "data": {
      "text/plain": [
       "(4725466560, 381600)"
      ]
     },
     "execution_count": 6,
     "metadata": {},
     "output_type": "execute_result"
    }
   ],
   "source": [
    "threading.get_ident(), threading.get_native_id()"
   ]
  },
  {
   "cell_type": "code",
   "execution_count": 29,
   "id": "9adc6233",
   "metadata": {},
   "outputs": [],
   "source": [
    "N = 10 ** 6\n",
    "TIMES = 100\n",
    "\n",
    "def count(n):\n",
    "    while n >= 0:\n",
    "        n -= 1\n",
    "\n",
    "\n",
    "def count_times(n, times=1):\n",
    "    curr = threading.current_thread()\n",
    "#     print(f\"{threading.active_count()=}, {curr.name=}, {curr.native_id=}\\n\", end=\"\")\n",
    "    for _ in range(times):\n",
    "        count(n)"
   ]
  },
  {
   "cell_type": "code",
   "execution_count": 10,
   "id": "b97a1ad7",
   "metadata": {},
   "outputs": [
    {
     "name": "stdout",
     "output_type": "stream",
     "text": [
      "CPU times: user 5.74 s, sys: 52.7 ms, total: 5.79 s\n",
      "Wall time: 6.43 s\n"
     ]
    }
   ],
   "source": [
    "%%time\n",
    "\n",
    "count_times(N, TIMES)"
   ]
  },
  {
   "cell_type": "code",
   "execution_count": 23,
   "id": "aeb69272",
   "metadata": {},
   "outputs": [
    {
     "name": "stdout",
     "output_type": "stream",
     "text": [
      "threading.active_count()=9, curr.name='th_1', curr.native_id=410576\n",
      "CPU times: user 551 ms, sys: 5.66 ms, total: 556 ms\n",
      "Wall time: 621 ms\n"
     ]
    }
   ],
   "source": [
    "%%time\n",
    "\n",
    "th = threading.Thread(target=count_times, name=\"th_1\", args=(N, TIMES))\n",
    "th.start()\n",
    "th.join()"
   ]
  },
  {
   "cell_type": "code",
   "execution_count": 30,
   "id": "5be2800a",
   "metadata": {},
   "outputs": [
    {
     "name": "stdout",
     "output_type": "stream",
     "text": [
      "CPU times: user 7.09 s, sys: 163 ms, total: 7.26 s\n",
      "Wall time: 7.47 s\n"
     ]
    }
   ],
   "source": [
    "%%time\n",
    "\n",
    "\n",
    "threads = [\n",
    "    threading.Thread(target=count_times, name=f\"th_{i}\", args=(N, 1))\n",
    "    for i in range(TIMES)\n",
    "]\n",
    "\n",
    "for th in threads:\n",
    "    th.start()\n",
    "\n",
    "for th in threads:\n",
    "    th.join()"
   ]
  },
  {
   "cell_type": "code",
   "execution_count": null,
   "id": "f74832fb",
   "metadata": {},
   "outputs": [],
   "source": []
  },
  {
   "cell_type": "code",
   "execution_count": null,
   "id": "fbb8de2d",
   "metadata": {},
   "outputs": [],
   "source": []
  },
  {
   "cell_type": "code",
   "execution_count": 46,
   "id": "95bfd32e",
   "metadata": {},
   "outputs": [],
   "source": [
    "from urllib.request import urlopen\n",
    "\n",
    "URL = \"https://ru.wikipedia.org/wiki/Python\"\n",
    "URL_TIMES = 50\n",
    "\n",
    "\n",
    "def fetch_url(url, results):\n",
    "    resp = urlopen(url)\n",
    "    results.append(resp.getcode())\n",
    "    return resp\n",
    "\n",
    "\n",
    "def fetch_url_times(url, results, times):\n",
    "    for _ in range(times):\n",
    "        fetch_url(url, results)\n",
    "    return 99\n",
    "    "
   ]
  },
  {
   "cell_type": "code",
   "execution_count": 37,
   "id": "c7a16bfc",
   "metadata": {},
   "outputs": [],
   "source": [
    "r = fetch_url(URL)"
   ]
  },
  {
   "cell_type": "code",
   "execution_count": 39,
   "id": "510a7022",
   "metadata": {},
   "outputs": [],
   "source": [
    "r.getcode(), r.read().decode()"
   ]
  },
  {
   "cell_type": "code",
   "execution_count": null,
   "id": "a807a28f",
   "metadata": {},
   "outputs": [],
   "source": []
  },
  {
   "cell_type": "code",
   "execution_count": 60,
   "id": "30c98584",
   "metadata": {},
   "outputs": [
    {
     "name": "stdout",
     "output_type": "stream",
     "text": [
      "CPU times: user 742 ms, sys: 52.7 ms, total: 794 ms\n",
      "Wall time: 8.35 s\n"
     ]
    }
   ],
   "source": [
    "%%time\n",
    "\n",
    "results = []\n",
    "\n",
    "th = threading.Thread(target=fetch_url_times, name=\"th_1\", args=(URL, results, URL_TIMES))\n",
    "\n",
    "th.start()\n",
    "\n",
    "th.join()"
   ]
  },
  {
   "cell_type": "code",
   "execution_count": 61,
   "id": "a1d95a32",
   "metadata": {},
   "outputs": [
    {
     "name": "stdout",
     "output_type": "stream",
     "text": [
      "awaitong&&&\n",
      "awaitong&&&\n",
      "awaitong&&&\n",
      "awaitong&&&\n",
      "awaitong&&&\n",
      "awaitong&&&\n",
      "awaitong&&&\n",
      "awaitong&&&\n",
      "awaitong&&&\n",
      "CPU times: user 794 ms, sys: 51.7 ms, total: 846 ms\n",
      "Wall time: 9.06 s\n"
     ]
    }
   ],
   "source": [
    "%%time\n",
    "\n",
    "import time\n",
    "\n",
    "results = []\n",
    "\n",
    "th = threading.Thread(target=fetch_url_times, name=\"th_1\", args=(URL, results, URL_TIMES))\n",
    "\n",
    "th.start()\n",
    "\n",
    "while th.is_alive():\n",
    "    print(\"awaitong&&&\")\n",
    "    time.sleep(1)\n",
    "    \n",
    "\n",
    "# th.join()"
   ]
  },
  {
   "cell_type": "code",
   "execution_count": 59,
   "id": "0290c1ec",
   "metadata": {},
   "outputs": [
    {
     "name": "stdout",
     "output_type": "stream",
     "text": [
      "50 [200, 200, 200, 200, 200, 200, 200, 200, 200, 200, 200, 200, 200, 200, 200, 200, 200, 200, 200, 200, 200, 200, 200, 200, 200, 200, 200, 200, 200, 200, 200, 200, 200, 200, 200, 200, 200, 200, 200, 200, 200, 200, 200, 200, 200, 200, 200, 200, 200, 200]\n",
      "CPU times: user 814 ms, sys: 78.5 ms, total: 893 ms\n",
      "Wall time: 893 ms\n"
     ]
    }
   ],
   "source": [
    "%%time\n",
    "\n",
    "results = []\n",
    "\n",
    "\n",
    "threads = [\n",
    "    threading.Thread(target=fetch_url_times, name=f\"th_{i}\", args=(URL, results, 1))\n",
    "    for i in range(URL_TIMES)\n",
    "]\n",
    "\n",
    "for th in threads:\n",
    "    th.start()\n",
    "\n",
    "for th in threads:\n",
    "    th.join()\n",
    "    \n",
    "print(len(results), results)"
   ]
  },
  {
   "cell_type": "code",
   "execution_count": null,
   "id": "31bdce06",
   "metadata": {},
   "outputs": [],
   "source": [
    "socket.send(b\"dwdwd\")"
   ]
  },
  {
   "cell_type": "code",
   "execution_count": null,
   "id": "de34d98a",
   "metadata": {},
   "outputs": [],
   "source": []
  },
  {
   "cell_type": "code",
   "execution_count": null,
   "id": "b2f428e7",
   "metadata": {},
   "outputs": [],
   "source": []
  },
  {
   "cell_type": "code",
   "execution_count": 51,
   "id": "78bab824",
   "metadata": {},
   "outputs": [],
   "source": [
    "class ResultThread(threading.Thread):\n",
    "    def __init__(self, *args, **kwargs):\n",
    "        super().__init__(*args, **kwargs)\n",
    "        \n",
    "        self.fetch_result = None\n",
    "        \n",
    "    def run(self):\n",
    "        self.fetch_result = self._target(*self._args, **self._kwargs)"
   ]
  },
  {
   "cell_type": "code",
   "execution_count": 54,
   "id": "f8d3a76e",
   "metadata": {},
   "outputs": [
    {
     "data": {
      "text/plain": [
       "99"
      ]
     },
     "execution_count": 54,
     "metadata": {},
     "output_type": "execute_result"
    }
   ],
   "source": [
    "th = ResultThread(target=fetch_url_times, name=\"th_1\", args=(URL, results, URL_TIMES))\n",
    "th.start()\n",
    "th.join()\n",
    "\n",
    "th.fetch_result"
   ]
  },
  {
   "cell_type": "code",
   "execution_count": null,
   "id": "1ac46892",
   "metadata": {},
   "outputs": [],
   "source": []
  },
  {
   "cell_type": "code",
   "execution_count": null,
   "id": "1f316ce1",
   "metadata": {},
   "outputs": [],
   "source": []
  },
  {
   "cell_type": "code",
   "execution_count": 62,
   "id": "4eb1dd39",
   "metadata": {},
   "outputs": [
    {
     "name": "stdout",
     "output_type": "stream",
     "text": [
      "50 [200, 200, 200, 200, 200, 200, 200, 200, 200, 200, 200, 200, 200, 200, 200, 200, 200, 200, 200, 200, 200, 200, 200, 200, 200, 200, 200, 200, 200, 200, 200, 200, 200, 200, 200, 200, 200, 200, 200, 200, 200, 200, 200, 200, 200, 200, 200, 200, 200, 200]\n",
      "CPU times: user 1.02 s, sys: 65.1 ms, total: 1.09 s\n",
      "Wall time: 8.73 s\n"
     ]
    }
   ],
   "source": [
    "%%time\n",
    "\n",
    "\n",
    "URL = \"https://ru.wikipedia.org/wiki/Python\"\n",
    "URL_TIMES = 50\n",
    "\n",
    "\n",
    "def fetch_url(url, results):\n",
    "    resp = urlopen(url)\n",
    "    results.append(resp.getcode())\n",
    "    return resp\n",
    "\n",
    "\n",
    "def fetch_url_times(url, results, times, lock):\n",
    "    for _ in range(times):\n",
    "        lock.acquire()\n",
    "        try:\n",
    "            fetch_url(url, results)\n",
    "        finally:\n",
    "            lock.release()\n",
    "\n",
    "    return 99\n",
    "    \n",
    "\n",
    "results = []\n",
    "lock = threading.Lock()\n",
    "\n",
    "\n",
    "threads = [\n",
    "    threading.Thread(target=fetch_url_times, name=f\"th_{i}\", args=(URL, results, 1, lock))\n",
    "    for i in range(URL_TIMES)\n",
    "]\n",
    "\n",
    "for th in threads:\n",
    "    th.start()\n",
    "\n",
    "for th in threads:\n",
    "    th.join()\n",
    "    \n",
    "print(len(results), results)"
   ]
  },
  {
   "cell_type": "code",
   "execution_count": 78,
   "id": "25e09812",
   "metadata": {},
   "outputs": [
    {
     "name": "stdout",
     "output_type": "stream",
     "text": [
      "50 [200, 200, 200, 200, 200, 200, 200, 200, 200, 200, 200, 200, 200, 200, 200, 200, 200, 200, 200, 200, 200, 200, 200, 200, 200, 200, 200, 200, 200, 200, 200, 200, 200, 200, 200, 200, 200, 200, 200, 200, 200, 200, 200, 200, 200, 200, 200, 200, 200, 200]\n",
      "CPU times: user 711 ms, sys: 100 ms, total: 812 ms\n",
      "Wall time: 2.11 s\n"
     ]
    }
   ],
   "source": [
    "%%time\n",
    "\n",
    "\n",
    "URL = \"https://ru.wikipedia.org/wiki/Python\"\n",
    "URL_TIMES = 50\n",
    "\n",
    "\n",
    "def fetch_url(url, results):\n",
    "    resp = urlopen(url)\n",
    "    results.append(resp.getcode())\n",
    "    return resp\n",
    "\n",
    "\n",
    "def fetch_url_times(url, results, times, lock):\n",
    "    for _ in range(times):\n",
    "        with lock:\n",
    "            fetch_url(url, results)\n",
    "#         lock.acquire()\n",
    "#         try:\n",
    "#             fetch_url(url, results)\n",
    "#         finally:\n",
    "#             lock.release()\n",
    "\n",
    "    return 99\n",
    "    \n",
    "\n",
    "results = []\n",
    "lock = threading.Semaphore(5)\n",
    "\n",
    "\n",
    "threads = [\n",
    "    threading.Thread(target=fetch_url_times, name=f\"th_{i}\", args=(URL, results, 1, lock))\n",
    "    for i in range(URL_TIMES)\n",
    "]\n",
    "\n",
    "for th in threads:\n",
    "    th.start()\n",
    "\n",
    "for th in threads:\n",
    "    th.join()\n",
    "    \n",
    "print(len(results), results)"
   ]
  },
  {
   "cell_type": "code",
   "execution_count": 79,
   "id": "60116521",
   "metadata": {},
   "outputs": [
    {
     "name": "stdout",
     "output_type": "stream",
     "text": [
      "COUNT 9\n",
      "COUNT 8\n",
      "COUNT 7\n",
      "COUNT 6\n",
      "COUNT 5\n",
      "COUNT 4\n",
      "COUNT 3\n",
      "COUNT 2\n",
      "COUNT 1\n",
      "COUNT 9\n",
      "COUNT 9\n",
      "COUNT 8\n",
      "COUNT 7\n",
      "COUNT 6\n",
      "COUNT 5\n",
      "COUNT 4\n",
      "COUNT 3\n",
      "COUNT 2\n",
      "COUNT 9\n",
      "COUNT 8\n",
      "COUNT 7\n",
      "COUNT 6\n",
      "COUNT 5\n",
      "COUNT 9\n",
      "COUNT 8\n",
      "COUNT 7\n",
      "COUNT 6\n",
      "COUNT 5\n",
      "COUNT 4\n",
      "COUNT 3\n",
      "COUNT 2\n",
      "COUNT 1\n",
      "COUNT 9\n",
      "COUNT 8\n",
      "COUNT 7\n",
      "COUNT 6\n",
      "COUNT 5\n",
      "COUNT 4\n",
      "COUNT 3\n",
      "COUNT 2\n",
      "COUNT 1\n",
      "COUNT 8\n",
      "COUNT 7\n",
      "COUNT 6\n",
      "COUNT 5\n",
      "COUNT 4\n",
      "COUNT 3\n",
      "COUNT 2\n",
      "COUNT 1\n",
      "COUNT 0\n",
      "50 [200, 200, 200, 200, 200, 200, 200, 200, 200, 200, 200, 200, 200, 200, 200, 200, 200, 200, 200, 200, 200, 200, 200, 200, 200, 200, 200, 200, 200, 200, 200, 200, 200, 200, 200, 200, 200, 200, 200, 200, 200, 200, 200, 200, 200, 200, 200, 200, 200, 200]\n",
      "CPU times: user 593 ms, sys: 116 ms, total: 709 ms\n",
      "Wall time: 636 ms\n"
     ]
    }
   ],
   "source": [
    "%%time\n",
    "\n",
    "from queue import Queue\n",
    "import threading\n",
    "\n",
    "\n",
    "URL = \"https://ru.wikipedia.org/wiki/Python\"\n",
    "URL_TIMES = 50\n",
    "\n",
    "\n",
    "\n",
    "def fetch_url(url, results):\n",
    "    resp = urlopen(url)\n",
    "    results.append(resp.getcode())\n",
    "    return resp\n",
    "\n",
    "\n",
    "def fetch_url_times(url, results, times, q):\n",
    "    while True:\n",
    "        try:\n",
    "            elem = q.get(timeout=1)\n",
    "            print(f\"COUNT {q.qsize()}\\n\", end=\"\")\n",
    "            fetch_url(elem, results)\n",
    "            q.task_done()\n",
    "        except Exception:\n",
    "            pass\n",
    "    \n",
    "\n",
    "results = []\n",
    "q = Queue(10)\n",
    "\n",
    "\n",
    "threads = [\n",
    "    threading.Thread(target=fetch_url_times, name=f\"th_{i}\", args=(URL, results, 1, q), daemon=True)\n",
    "    for i in range(URL_TIMES)\n",
    "]\n",
    "\n",
    "for th in threads:\n",
    "    th.start()\n",
    "    \n",
    "    \n",
    "for _ in range(URL_TIMES):\n",
    "    q.put(URL)\n",
    "\n",
    "\n",
    "# for th in threads:\n",
    "#     th.join()\n",
    "\n",
    "q.join()\n",
    "    \n",
    "print(len(results), results)"
   ]
  },
  {
   "cell_type": "code",
   "execution_count": null,
   "id": "9658e740",
   "metadata": {},
   "outputs": [],
   "source": []
  },
  {
   "cell_type": "code",
   "execution_count": null,
   "id": "71f4a2f3",
   "metadata": {},
   "outputs": [],
   "source": []
  }
 ],
 "metadata": {
  "kernelspec": {
   "display_name": "Python 3 (ipykernel)",
   "language": "python",
   "name": "python3"
  },
  "language_info": {
   "codemirror_mode": {
    "name": "ipython",
    "version": 3
   },
   "file_extension": ".py",
   "mimetype": "text/x-python",
   "name": "python",
   "nbconvert_exporter": "python",
   "pygments_lexer": "ipython3",
   "version": "3.10.2"
  }
 },
 "nbformat": 4,
 "nbformat_minor": 5
}
