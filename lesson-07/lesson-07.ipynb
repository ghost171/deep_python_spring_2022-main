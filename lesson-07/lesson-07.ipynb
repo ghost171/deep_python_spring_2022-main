{
 "cells": [
  {
   "cell_type": "code",
   "execution_count": 1,
   "id": "c47cdab5",
   "metadata": {},
   "outputs": [],
   "source": [
    "def grep(pattern):\n",
    "    print(\"start grep for\", pattern)\n",
    "    i = 0\n",
    "    while True:\n",
    "        s = yield i\n",
    "        i += 1\n",
    "        if pattern in s:\n",
    "            print(\"found!\", s)\n",
    "        else:\n",
    "            print(\"no %s in %s\" % (pattern, s))"
   ]
  },
  {
   "cell_type": "code",
   "execution_count": 2,
   "id": "2bad6c79",
   "metadata": {},
   "outputs": [],
   "source": [
    "g = grep(\"python\")"
   ]
  },
  {
   "cell_type": "code",
   "execution_count": 3,
   "id": "c986b421",
   "metadata": {},
   "outputs": [
    {
     "data": {
      "text/plain": [
       "<generator object grep at 0x1041995b0>"
      ]
     },
     "execution_count": 3,
     "metadata": {},
     "output_type": "execute_result"
    }
   ],
   "source": [
    "g"
   ]
  },
  {
   "cell_type": "code",
   "execution_count": 4,
   "id": "610d8517",
   "metadata": {},
   "outputs": [
    {
     "name": "stdout",
     "output_type": "stream",
     "text": [
      "start grep for python\n"
     ]
    },
    {
     "data": {
      "text/plain": [
       "0"
      ]
     },
     "execution_count": 4,
     "metadata": {},
     "output_type": "execute_result"
    }
   ],
   "source": [
    "next(g)"
   ]
  },
  {
   "cell_type": "code",
   "execution_count": 5,
   "id": "ebf370af",
   "metadata": {},
   "outputs": [
    {
     "name": "stdout",
     "output_type": "stream",
     "text": [
      "no python in abc\n"
     ]
    },
    {
     "data": {
      "text/plain": [
       "1"
      ]
     },
     "execution_count": 5,
     "metadata": {},
     "output_type": "execute_result"
    }
   ],
   "source": [
    "g.send(\"abc\")"
   ]
  },
  {
   "cell_type": "code",
   "execution_count": 6,
   "id": "8c69bf2a",
   "metadata": {},
   "outputs": [
    {
     "name": "stdout",
     "output_type": "stream",
     "text": [
      "found! python3.10\n"
     ]
    },
    {
     "data": {
      "text/plain": [
       "2"
      ]
     },
     "execution_count": 6,
     "metadata": {},
     "output_type": "execute_result"
    }
   ],
   "source": [
    "g.send(\"python3.10\")"
   ]
  },
  {
   "cell_type": "code",
   "execution_count": 7,
   "id": "4e54db70",
   "metadata": {},
   "outputs": [
    {
     "ename": "ValueError",
     "evalue": "5",
     "output_type": "error",
     "traceback": [
      "\u001b[0;31m---------------------------------------------------------------------------\u001b[0m",
      "\u001b[0;31mValueError\u001b[0m                                Traceback (most recent call last)",
      "Input \u001b[0;32mIn [7]\u001b[0m, in \u001b[0;36m<cell line: 1>\u001b[0;34m()\u001b[0m\n\u001b[0;32m----> 1\u001b[0m \u001b[43mg\u001b[49m\u001b[38;5;241;43m.\u001b[39;49m\u001b[43mthrow\u001b[49m\u001b[43m(\u001b[49m\u001b[38;5;167;43;01mValueError\u001b[39;49;00m\u001b[43m(\u001b[49m\u001b[38;5;241;43m5\u001b[39;49m\u001b[43m)\u001b[49m\u001b[43m)\u001b[49m\n",
      "Input \u001b[0;32mIn [1]\u001b[0m, in \u001b[0;36mgrep\u001b[0;34m(pattern)\u001b[0m\n\u001b[1;32m      3\u001b[0m i \u001b[38;5;241m=\u001b[39m \u001b[38;5;241m0\u001b[39m\n\u001b[1;32m      4\u001b[0m \u001b[38;5;28;01mwhile\u001b[39;00m \u001b[38;5;28;01mTrue\u001b[39;00m:\n\u001b[0;32m----> 5\u001b[0m     s \u001b[38;5;241m=\u001b[39m \u001b[38;5;28;01myield\u001b[39;00m i\n\u001b[1;32m      6\u001b[0m     i \u001b[38;5;241m+\u001b[39m\u001b[38;5;241m=\u001b[39m \u001b[38;5;241m1\u001b[39m\n\u001b[1;32m      7\u001b[0m     \u001b[38;5;28;01mif\u001b[39;00m pattern \u001b[38;5;129;01min\u001b[39;00m s:\n",
      "\u001b[0;31mValueError\u001b[0m: 5"
     ]
    }
   ],
   "source": [
    "g.throw(ValueError(5))"
   ]
  },
  {
   "cell_type": "code",
   "execution_count": 8,
   "id": "6cda1bd4",
   "metadata": {},
   "outputs": [
    {
     "ename": "StopIteration",
     "evalue": "",
     "output_type": "error",
     "traceback": [
      "\u001b[0;31m---------------------------------------------------------------------------\u001b[0m",
      "\u001b[0;31mStopIteration\u001b[0m                             Traceback (most recent call last)",
      "Input \u001b[0;32mIn [8]\u001b[0m, in \u001b[0;36m<cell line: 1>\u001b[0;34m()\u001b[0m\n\u001b[0;32m----> 1\u001b[0m \u001b[43mg\u001b[49m\u001b[38;5;241;43m.\u001b[39;49m\u001b[43msend\u001b[49m\u001b[43m(\u001b[49m\u001b[38;5;124;43m\"\u001b[39;49m\u001b[38;5;124;43mdwd\u001b[39;49m\u001b[38;5;124;43m\"\u001b[39;49m\u001b[43m)\u001b[49m\n",
      "\u001b[0;31mStopIteration\u001b[0m: "
     ]
    }
   ],
   "source": [
    "g.send(\"dwd\")"
   ]
  },
  {
   "cell_type": "code",
   "execution_count": 9,
   "id": "ac4be4d5",
   "metadata": {},
   "outputs": [],
   "source": [
    "import asyncio"
   ]
  },
  {
   "cell_type": "code",
   "execution_count": 10,
   "id": "c81a57ec",
   "metadata": {},
   "outputs": [
    {
     "name": "stderr",
     "output_type": "stream",
     "text": [
      "/var/folders/c1/9wdb7dps2x332c6l1y2hrqkh0000gp/T/ipykernel_95399/2581609868.py:2: DeprecationWarning: \"@coroutine\" decorator is deprecated since Python 3.8, use \"async def\" instead\n",
      "  def count():\n"
     ]
    }
   ],
   "source": [
    "\n",
    "\n",
    "@asyncio.coroutine\n",
    "def count():\n",
    "    res = yield from [1,2,3]\n",
    "    for i in [1,2,3]:\n",
    "        yield i\n",
    "    return res"
   ]
  },
  {
   "cell_type": "code",
   "execution_count": 12,
   "id": "8a71b5bb",
   "metadata": {},
   "outputs": [],
   "source": [
    "\n",
    "\n",
    "async def async_count(n):\n",
    "    await "
   ]
  },
  {
   "cell_type": "code",
   "execution_count": 14,
   "id": "fc741def",
   "metadata": {},
   "outputs": [
    {
     "ename": "RuntimeError",
     "evalue": "Task got bad yield: 10",
     "output_type": "error",
     "traceback": [
      "\u001b[0;31m---------------------------------------------------------------------------\u001b[0m",
      "\u001b[0;31mRuntimeError\u001b[0m                              Traceback (most recent call last)",
      "Input \u001b[0;32mIn [14]\u001b[0m, in \u001b[0;36m<cell line: 1>\u001b[0;34m()\u001b[0m\n\u001b[0;32m----> 1\u001b[0m \u001b[38;5;28;01mawait\u001b[39;00m async_count(\u001b[38;5;241m10\u001b[39m)\n",
      "Input \u001b[0;32mIn [12]\u001b[0m, in \u001b[0;36masync_count\u001b[0;34m(n)\u001b[0m\n\u001b[1;32m      1\u001b[0m \u001b[38;5;28;01masync\u001b[39;00m \u001b[38;5;28;01mdef\u001b[39;00m \u001b[38;5;21masync_count\u001b[39m(n):\n\u001b[0;32m----> 2\u001b[0m     \u001b[38;5;28;01mawait\u001b[39;00m count()\n",
      "Input \u001b[0;32mIn [10]\u001b[0m, in \u001b[0;36mcount\u001b[0;34m()\u001b[0m\n\u001b[1;32m      1\u001b[0m \u001b[38;5;129m@asyncio\u001b[39m\u001b[38;5;241m.\u001b[39mcoroutine\n\u001b[1;32m      2\u001b[0m \u001b[38;5;28;01mdef\u001b[39;00m \u001b[38;5;21mcount\u001b[39m():\n\u001b[0;32m----> 3\u001b[0m     res \u001b[38;5;241m=\u001b[39m \u001b[38;5;28;01myield\u001b[39;00m \u001b[38;5;241m10\u001b[39m\n\u001b[1;32m      4\u001b[0m     \u001b[38;5;28;01mreturn\u001b[39;00m res\n",
      "\u001b[0;31mRuntimeError\u001b[0m: Task got bad yield: 10"
     ]
    }
   ],
   "source": [
    "await async_count(10)"
   ]
  },
  {
   "cell_type": "code",
   "execution_count": null,
   "id": "f6faa3e2",
   "metadata": {},
   "outputs": [],
   "source": []
  },
  {
   "cell_type": "code",
   "execution_count": null,
   "id": "83e2ef31",
   "metadata": {},
   "outputs": [],
   "source": []
  },
  {
   "cell_type": "code",
   "execution_count": 19,
   "id": "2fe85452",
   "metadata": {},
   "outputs": [],
   "source": [
    "async def countdown(n):\n",
    "    for i in range(n):\n",
    "        print(\"countdown\", n, i)\n",
    "        await asyncio.sleep(1)"
   ]
  },
  {
   "cell_type": "code",
   "execution_count": 20,
   "id": "140a50da",
   "metadata": {},
   "outputs": [
    {
     "name": "stdout",
     "output_type": "stream",
     "text": [
      "countdown 5 0\n",
      "countdown 5 1\n",
      "countdown 5 2\n",
      "countdown 5 3\n",
      "countdown 5 4\n"
     ]
    }
   ],
   "source": [
    "await countdown(5)"
   ]
  },
  {
   "cell_type": "code",
   "execution_count": 21,
   "id": "24221c51",
   "metadata": {},
   "outputs": [
    {
     "name": "stdout",
     "output_type": "stream",
     "text": [
      "countdown 5 0\n",
      "countdown 5 1\n",
      "countdown 5 2\n",
      "countdown 5 3\n",
      "countdown 5 4\n",
      "countdown 7 0\n",
      "countdown 7 1\n",
      "countdown 7 2\n",
      "countdown 7 3\n",
      "countdown 7 4\n",
      "countdown 7 5\n",
      "countdown 7 6\n"
     ]
    }
   ],
   "source": [
    "await countdown(5)\n",
    "await countdown(7)"
   ]
  },
  {
   "cell_type": "code",
   "execution_count": 23,
   "id": "789a7762",
   "metadata": {},
   "outputs": [],
   "source": [
    "async def fn():\n",
    "    await countdown(5)\n",
    "    await countdown(7)"
   ]
  },
  {
   "cell_type": "code",
   "execution_count": 24,
   "id": "1ff6a94b",
   "metadata": {},
   "outputs": [
    {
     "name": "stdout",
     "output_type": "stream",
     "text": [
      "countdown 5 0\n",
      "countdown 5 1\n",
      "countdown 5 2\n",
      "countdown 5 3\n",
      "countdown 5 4\n",
      "countdown 7 0\n",
      "countdown 7 1\n",
      "countdown 7 2\n",
      "countdown 7 3\n",
      "countdown 7 4\n",
      "countdown 7 5\n",
      "countdown 7 6\n"
     ]
    }
   ],
   "source": [
    "await fn()"
   ]
  },
  {
   "cell_type": "code",
   "execution_count": 41,
   "id": "de1f34dd",
   "metadata": {},
   "outputs": [],
   "source": [
    "async def fib(n):\n",
    "    await asyncio.sleep(0)\n",
    "    return await fib(n - 1) + await fib(n - 2)\n",
    "\n",
    "\n",
    "async def coro():\n",
    "    print(\"coro\")\n",
    "    \n",
    "    import time\n",
    "#     time.sleep(5)\n",
    "\n",
    "    fib(50)\n",
    "\n",
    "    for i in range(100):\n",
    "        time.sleep(5 / 100)\n",
    "        await asyncio.sleep(0)\n",
    "    \n",
    "    return 999\n",
    "\n",
    "\n",
    "async def fn():\n",
    "    task = asyncio.create_task(countdown(3))\n",
    "    task1 = asyncio.create_task(countdown(2))\n",
    "\n",
    "    print(\"task created\")\n",
    "\n",
    "    res = await coro()\n",
    "    print(\"coro res\", res)\n",
    "\n",
    "    await countdown(5)\n",
    "    await countdown(1)\n",
    "\n",
    "    print(\"countdown finished\")\n",
    "#     await task"
   ]
  },
  {
   "cell_type": "code",
   "execution_count": 42,
   "id": "95bf079a",
   "metadata": {},
   "outputs": [
    {
     "name": "stdout",
     "output_type": "stream",
     "text": [
      "task created\n",
      "coro\n",
      "countdown 3 0\n",
      "countdown 2 0\n",
      "countdown 3 1\n",
      "countdown 2 1\n",
      "countdown 3 2\n",
      "coro res 999\n",
      "countdown 5 0\n",
      "countdown 5 1\n",
      "countdown 5 2\n",
      "countdown 5 3\n",
      "countdown 5 4\n",
      "countdown 1 0\n",
      "countdown finished\n"
     ]
    }
   ],
   "source": [
    "await fn()"
   ]
  },
  {
   "cell_type": "code",
   "execution_count": null,
   "id": "9c2321f5",
   "metadata": {},
   "outputs": [],
   "source": []
  },
  {
   "cell_type": "code",
   "execution_count": 46,
   "id": "4365ca18",
   "metadata": {},
   "outputs": [
    {
     "name": "stdout",
     "output_type": "stream",
     "text": [
      "0\n",
      "yield 0\n",
      "1\n",
      "yield 1\n",
      "2\n",
      "yield 2\n",
      "3\n",
      "yield 3\n",
      "4\n",
      "yield 4\n"
     ]
    }
   ],
   "source": [
    "async def countdown(n):\n",
    "    for i in range(n):\n",
    "        yield i\n",
    "        print('yield', i)\n",
    "        await asyncio.sleep(1)\n",
    "\n",
    "async for i in countdown(5):\n",
    "    print(i)"
   ]
  },
  {
   "cell_type": "code",
   "execution_count": null,
   "id": "88437df7",
   "metadata": {},
   "outputs": [],
   "source": []
  },
  {
   "cell_type": "code",
   "execution_count": 52,
   "id": "af3a0169",
   "metadata": {},
   "outputs": [],
   "source": [
    "async def async_sleep(t):\n",
    "    print(\"sleep\", t)\n",
    "    await asyncio.sleep(t)\n",
    "    print(\"end sleep\", t)\n",
    "    return t * 10"
   ]
  },
  {
   "cell_type": "code",
   "execution_count": 53,
   "id": "0fbd9c18",
   "metadata": {},
   "outputs": [],
   "source": [
    "import time"
   ]
  },
  {
   "cell_type": "code",
   "execution_count": 54,
   "id": "2d2f4cb4",
   "metadata": {},
   "outputs": [
    {
     "name": "stdout",
     "output_type": "stream",
     "text": [
      "sleep 1\n",
      "end sleep 1\n",
      "sleep 2\n",
      "end sleep 2\n",
      "sleep 3\n",
      "end sleep 3\n",
      "6.013157175970264\n"
     ]
    }
   ],
   "source": [
    "t1 = time.perf_counter()\n",
    "\n",
    "await async_sleep(1)\n",
    "await async_sleep(2)\n",
    "await async_sleep(3)\n",
    "\n",
    "t2 = time.perf_counter()\n",
    "print(t2 - t1)"
   ]
  },
  {
   "cell_type": "code",
   "execution_count": 55,
   "id": "0e0ea4b2",
   "metadata": {},
   "outputs": [
    {
     "name": "stdout",
     "output_type": "stream",
     "text": [
      "sleep 1\n",
      "sleep 2\n",
      "sleep 3\n",
      "end sleep 1\n",
      "end sleep 2\n",
      "end sleep 3\n",
      "3.0012569049722515\n"
     ]
    }
   ],
   "source": [
    "t1 = time.perf_counter()\n",
    "\n",
    "tasks = [\n",
    "    asyncio.create_task(async_sleep(1)),\n",
    "    asyncio.create_task(async_sleep(2)),\n",
    "    asyncio.create_task(async_sleep(3)),\n",
    "]\n",
    "res = asyncio.gather(*tasks)\n",
    "await res\n",
    "\n",
    "t2 = time.perf_counter()\n",
    "print(t2 - t1)"
   ]
  },
  {
   "cell_type": "code",
   "execution_count": 60,
   "id": "280f3d54",
   "metadata": {},
   "outputs": [
    {
     "name": "stdout",
     "output_type": "stream",
     "text": [
      "sleep 3\n",
      "sleep 2\n",
      "sleep 1\n",
      "end sleep 1\n",
      "10\n",
      "end sleep 2\n",
      "20\n",
      "end sleep 3\n",
      "30\n",
      "3.0042754290043376\n"
     ]
    }
   ],
   "source": [
    "t1 = time.perf_counter()\n",
    "\n",
    "tasks = [\n",
    "    asyncio.create_task(async_sleep(3)),\n",
    "    asyncio.create_task(async_sleep(2)),\n",
    "    asyncio.create_task(async_sleep(1)),\n",
    "]\n",
    "for t in asyncio.as_completed(tasks):\n",
    "    res = await t\n",
    "    print(res)\n",
    "\n",
    "t2 = time.perf_counter()\n",
    "print(t2 - t1)"
   ]
  },
  {
   "cell_type": "code",
   "execution_count": 143,
   "id": "797deff0",
   "metadata": {},
   "outputs": [],
   "source": [
    "!pip install aiohttp"
   ]
  },
  {
   "cell_type": "code",
   "execution_count": 63,
   "id": "e379a527",
   "metadata": {},
   "outputs": [],
   "source": [
    "import aiohttp"
   ]
  },
  {
   "cell_type": "code",
   "execution_count": 64,
   "id": "530ae61c",
   "metadata": {},
   "outputs": [],
   "source": [
    "URL = \"https://docs.python.org/3/library/asyncio-task.html\""
   ]
  },
  {
   "cell_type": "code",
   "execution_count": 98,
   "id": "fa5ffb29",
   "metadata": {},
   "outputs": [],
   "source": [
    "async def fetch(url, session, lock):\n",
    "    async with lock:\n",
    "        async with session.get(url) as resp:\n",
    "            data = await resp.read()\n",
    "\n",
    "\n",
    "async def crawl(urls):\n",
    "    lock = asyncio.Lock()\n",
    "    \n",
    "    async with aiohttp.ClientSession() as session:\n",
    "        tasks = []\n",
    "        for url in urls:\n",
    "            tasks.append(\n",
    "                asyncio.create_task(\n",
    "                    fetch(url, session, lock)\n",
    "                )\n",
    "            )\n",
    "        await asyncio.gather(*tasks)"
   ]
  },
  {
   "cell_type": "code",
   "execution_count": 105,
   "id": "33c67c48",
   "metadata": {},
   "outputs": [
    {
     "name": "stdout",
     "output_type": "stream",
     "text": [
      "1.4196976349921897\n"
     ]
    }
   ],
   "source": [
    "URLS = [URL] * 20\n",
    "\n",
    "t1 = time.perf_counter()\n",
    "\n",
    "await crawl(URLS)\n",
    "\n",
    "t2 = time.perf_counter()\n",
    "print(t2 - t1)"
   ]
  },
  {
   "cell_type": "code",
   "execution_count": null,
   "id": "f14a92fb",
   "metadata": {},
   "outputs": [],
   "source": []
  },
  {
   "cell_type": "code",
   "execution_count": 137,
   "id": "c10ae629",
   "metadata": {},
   "outputs": [],
   "source": [
    "async def fetch(name, session, q):\n",
    "    while True:\n",
    "        url = await q.get()\n",
    "        try:\n",
    "            async with session.get(url) as resp:\n",
    "                data = await resp.read()\n",
    "                print(\"name\", name, len(data))\n",
    "        finally:\n",
    "            q.task_done()\n",
    "\n",
    "\n",
    "async def crawl(urls, threads=5):\n",
    "    q = asyncio.Queue()\n",
    "    for url in urls:\n",
    "        await q.put(url)\n",
    "\n",
    "    async with aiohttp.ClientSession() as session:\n",
    "        tasks = [\n",
    "            asyncio.create_task(fetch(f\"coro_{i}\", session, q))\n",
    "            for i in range(threads)\n",
    "        ]\n",
    "        #await asyncio.gather(*tasks)\n",
    "\n",
    "        await q.join()\n",
    "    \n",
    "    for t in tasks:\n",
    "        t.cancel()"
   ]
  },
  {
   "cell_type": "code",
   "execution_count": 141,
   "id": "f86af94c",
   "metadata": {},
   "outputs": [
    {
     "name": "stdout",
     "output_type": "stream",
     "text": [
      "name coro_0 106122\n",
      "name coro_4 106122\n",
      "name coro_5 106122\n",
      "name coro_7 106122\n",
      "name coro_1 106122\n",
      "name coro_3 106122\n",
      "name coro_2 106122\n",
      "name coro_6 106122\n",
      "name coro_8 106122\n",
      "name coro_9 106122\n",
      "name coro_0 106122\n",
      "name coro_4 106122\n",
      "name coro_5 106122\n",
      "name coro_7 106122\n",
      "name coro_3 106122\n",
      "name coro_2 106122\n",
      "name coro_6 106122\n",
      "name coro_8 106122\n",
      "name coro_1 106122\n",
      "name coro_9 106122\n",
      "0.22238614602247253\n"
     ]
    }
   ],
   "source": [
    "t1 = time.perf_counter()\n",
    "\n",
    "URLS = [URL] * 20\n",
    "\n",
    "await crawl(URLS, 10)\n",
    "\n",
    "t2 = time.perf_counter()\n",
    "print(t2 - t1)"
   ]
  },
  {
   "cell_type": "code",
   "execution_count": null,
   "id": "397b9fcc",
   "metadata": {},
   "outputs": [],
   "source": []
  }
 ],
 "metadata": {
  "kernelspec": {
   "display_name": "Python 3 (ipykernel)",
   "language": "python",
   "name": "python3"
  },
  "language_info": {
   "codemirror_mode": {
    "name": "ipython",
    "version": 3
   },
   "file_extension": ".py",
   "mimetype": "text/x-python",
   "name": "python",
   "nbconvert_exporter": "python",
   "pygments_lexer": "ipython3",
   "version": "3.10.2"
  }
 },
 "nbformat": 4,
 "nbformat_minor": 5
}
