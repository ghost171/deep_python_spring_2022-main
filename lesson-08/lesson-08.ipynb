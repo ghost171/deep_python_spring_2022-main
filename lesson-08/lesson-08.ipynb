{
 "cells": [
  {
   "cell_type": "code",
   "execution_count": 1,
   "id": "4fb8e356",
   "metadata": {},
   "outputs": [],
   "source": [
    "import sys, gc, weakref"
   ]
  },
  {
   "cell_type": "code",
   "execution_count": 6,
   "id": "1ad6325c",
   "metadata": {},
   "outputs": [
    {
     "data": {
      "text/plain": [
       "3"
      ]
     },
     "execution_count": 6,
     "metadata": {},
     "output_type": "execute_result"
    }
   ],
   "source": [
    "sys.getrefcount(\"dwlkdjhwkdhkqgkjdjhwkjddjdhwddwjhjdjwhdhjwjdhwjdqhwkjdhwkqjdh\")"
   ]
  },
  {
   "cell_type": "code",
   "execution_count": 13,
   "id": "66d268cb",
   "metadata": {},
   "outputs": [
    {
     "name": "stdout",
     "output_type": "stream",
     "text": [
      "init 2\n",
      "tuple 3\n",
      "assign 5\n",
      "del 2\n",
      "show_count 4\n",
      "finish 2\n"
     ]
    }
   ],
   "source": [
    "lst = [1, 2, 3]\n",
    "print(\"init\", sys.getrefcount(lst))\n",
    "\n",
    "tp = (lst, 3, 4)\n",
    "print(\"tuple\", sys.getrefcount(lst))\n",
    "\n",
    "lst2 = lst3 = lst\n",
    "print(\"assign\", sys.getrefcount(lst))\n",
    "\n",
    "del tp, lst2, lst3\n",
    "print(\"del\", sys.getrefcount(lst))\n",
    "\n",
    "\n",
    "def show_count(obj):\n",
    "    print(\"show_count\", sys.getrefcount(obj))\n",
    "\n",
    "show_count(lst)\n",
    "print(\"finish\", sys.getrefcount(lst))"
   ]
  },
  {
   "cell_type": "code",
   "execution_count": 17,
   "id": "af407fe4",
   "metadata": {},
   "outputs": [
    {
     "data": {
      "text/plain": [
       "49"
      ]
     },
     "execution_count": 17,
     "metadata": {},
     "output_type": "execute_result"
    }
   ],
   "source": [
    "sys.getsizeof(\"\")"
   ]
  },
  {
   "cell_type": "code",
   "execution_count": 19,
   "id": "94c99f4f",
   "metadata": {},
   "outputs": [
    {
     "data": {
      "text/plain": [
       "(50, 51, 84)"
      ]
     },
     "execution_count": 19,
     "metadata": {},
     "output_type": "execute_result"
    }
   ],
   "source": [
    "sys.getsizeof(\"a\"), sys.getsizeof(\"aa\"), sys.getsizeof(\"питон\")"
   ]
  },
  {
   "cell_type": "code",
   "execution_count": 22,
   "id": "aa239050",
   "metadata": {},
   "outputs": [
    {
     "data": {
      "text/plain": [
       "(232, 216)"
      ]
     },
     "execution_count": 22,
     "metadata": {},
     "output_type": "execute_result"
    }
   ],
   "source": [
    "sys.getsizeof({1: 1}), sys.getsizeof(set())"
   ]
  },
  {
   "cell_type": "code",
   "execution_count": 24,
   "id": "0e61b414",
   "metadata": {},
   "outputs": [
    {
     "data": {
      "text/plain": [
       "(56, 64)"
      ]
     },
     "execution_count": 24,
     "metadata": {},
     "output_type": "execute_result"
    }
   ],
   "source": [
    "sys.getsizeof([]), sys.getsizeof([1])"
   ]
  },
  {
   "cell_type": "code",
   "execution_count": null,
   "id": "ed1d985f",
   "metadata": {},
   "outputs": [],
   "source": []
  },
  {
   "cell_type": "code",
   "execution_count": 41,
   "id": "281df1f6",
   "metadata": {},
   "outputs": [],
   "source": [
    "class PointOrdinal:\n",
    "    def __init__(self, x, y):\n",
    "        self.x = x\n",
    "        self.y = y\n",
    "        self.z = 3\n",
    "        self.s = {i: i for i in range(100_000)}\n",
    "        \n",
    "        \n",
    "class PointSlot:\n",
    "    __slots__ = (\"x\", \"y\", \"z\", \"s\")\n",
    "    \n",
    "    def __init__(self, x, y):\n",
    "        self.x = x\n",
    "        self.y = y\n",
    "        self.z = 3\n",
    "        self.s = {i: i for i in range(100_000)}\n",
    "        \n",
    "\n",
    "po = PointOrdinal(1, 2)\n",
    "ps = PointSlot(1, 2)"
   ]
  },
  {
   "cell_type": "code",
   "execution_count": 28,
   "id": "45e5cb46",
   "metadata": {},
   "outputs": [
    {
     "data": {
      "text/plain": [
       "(48, 48, 1072, 904)"
      ]
     },
     "execution_count": 28,
     "metadata": {},
     "output_type": "execute_result"
    }
   ],
   "source": [
    "sys.getsizeof(po), sys.getsizeof(ps), sys.getsizeof(PointOrdinal), sys.getsizeof(PointSlot)"
   ]
  },
  {
   "cell_type": "code",
   "execution_count": 30,
   "id": "68020dfb",
   "metadata": {},
   "outputs": [
    {
     "data": {
      "text/plain": [
       "(48, 56, 1072, 904)"
      ]
     },
     "execution_count": 30,
     "metadata": {},
     "output_type": "execute_result"
    }
   ],
   "source": [
    "sys.getsizeof(po), sys.getsizeof(ps), sys.getsizeof(PointOrdinal), sys.getsizeof(PointSlot)"
   ]
  },
  {
   "cell_type": "code",
   "execution_count": 37,
   "id": "41a11476",
   "metadata": {},
   "outputs": [
    {
     "data": {
      "text/plain": [
       "(48, 64, 1072, 904)"
      ]
     },
     "execution_count": 37,
     "metadata": {},
     "output_type": "execute_result"
    }
   ],
   "source": [
    "sys.getsizeof(po), sys.getsizeof(ps), sys.getsizeof(PointOrdinal), sys.getsizeof(PointSlot)"
   ]
  },
  {
   "cell_type": "code",
   "execution_count": 40,
   "id": "f33a1638",
   "metadata": {},
   "outputs": [
    {
     "data": {
      "text/plain": [
       "(5242968, 5242968)"
      ]
     },
     "execution_count": 40,
     "metadata": {},
     "output_type": "execute_result"
    }
   ],
   "source": [
    "sys.getsizeof(po.s), sys.getsizeof(ps.s)"
   ]
  },
  {
   "cell_type": "code",
   "execution_count": 42,
   "id": "85b57ba1",
   "metadata": {},
   "outputs": [
    {
     "data": {
      "text/plain": [
       "(104, 64)"
      ]
     },
     "execution_count": 42,
     "metadata": {},
     "output_type": "execute_result"
    }
   ],
   "source": [
    "sys.getsizeof(po.__dict__), sys.getsizeof(ps)"
   ]
  },
  {
   "cell_type": "code",
   "execution_count": 45,
   "id": "17c8b601",
   "metadata": {},
   "outputs": [],
   "source": [
    "po.xxx = 42\n",
    "po.xxx1 = 42"
   ]
  },
  {
   "cell_type": "code",
   "execution_count": 47,
   "id": "fb8b802a",
   "metadata": {},
   "outputs": [
    {
     "data": {
      "text/plain": [
       "(144, 64)"
      ]
     },
     "execution_count": 47,
     "metadata": {},
     "output_type": "execute_result"
    }
   ],
   "source": [
    "sys.getsizeof(po.__dict__), sys.getsizeof(ps)"
   ]
  },
  {
   "cell_type": "code",
   "execution_count": null,
   "id": "828099fa",
   "metadata": {},
   "outputs": [],
   "source": []
  },
  {
   "cell_type": "code",
   "execution_count": null,
   "id": "3372a605",
   "metadata": {},
   "outputs": [],
   "source": []
  },
  {
   "cell_type": "code",
   "execution_count": 48,
   "id": "f4d08be8",
   "metadata": {},
   "outputs": [],
   "source": [
    "import ctypes"
   ]
  },
  {
   "cell_type": "code",
   "execution_count": 54,
   "id": "dc71bbf9",
   "metadata": {},
   "outputs": [
    {
     "name": "stdout",
     "output_type": "stream",
     "text": [
      "[1, 2, 3, [...]]\n"
     ]
    },
    {
     "data": {
      "text/plain": [
       "3"
      ]
     },
     "execution_count": 54,
     "metadata": {},
     "output_type": "execute_result"
    }
   ],
   "source": [
    "lst = [1, 2, 3]\n",
    "lst.append(lst)\n",
    "print(lst)\n",
    "\n",
    "sys.getrefcount(lst)"
   ]
  },
  {
   "cell_type": "code",
   "execution_count": 64,
   "id": "5f90691b",
   "metadata": {},
   "outputs": [
    {
     "name": "stdout",
     "output_type": "stream",
     "text": [
      "[1, 2, 3, [...]]\n",
      "ref init 3\n",
      "final refcnt 1\n"
     ]
    }
   ],
   "source": [
    "class PyObject(ctypes.Structure):\n",
    "    _fields_ = [(\"refcnt\", ctypes.c_long)]\n",
    "\n",
    "\n",
    "gc.disable()\n",
    "\n",
    "\n",
    "lst = [1, 2, 3]\n",
    "lst.append(lst)\n",
    "print(lst)\n",
    "print(\"ref init\", sys.getrefcount(lst))\n",
    "\n",
    "id_lst = id(lst)\n",
    "\n",
    "del lst\n",
    "\n",
    "# gc.collect()\n",
    "\n",
    "print(\"final refcnt\", PyObject.from_address(id_lst).refcnt)\n"
   ]
  },
  {
   "cell_type": "code",
   "execution_count": null,
   "id": "9585c44e",
   "metadata": {},
   "outputs": [],
   "source": []
  },
  {
   "cell_type": "code",
   "execution_count": 71,
   "id": "5a9ca1e8",
   "metadata": {},
   "outputs": [
    {
     "data": {
      "text/plain": [
       "218828"
      ]
     },
     "execution_count": 71,
     "metadata": {},
     "output_type": "execute_result"
    }
   ],
   "source": [
    "len(gc.get_objects())"
   ]
  },
  {
   "cell_type": "code",
   "execution_count": 66,
   "id": "06165f12",
   "metadata": {},
   "outputs": [],
   "source": [
    "del po, ps"
   ]
  },
  {
   "cell_type": "code",
   "execution_count": 82,
   "id": "e617218c",
   "metadata": {},
   "outputs": [],
   "source": [
    "class A:\n",
    "    def __init__(self):\n",
    "        self.x = 10\n",
    "    \n",
    "    def __del__(self):\n",
    "        print(\"delete A\")\n",
    "        # super().__del__()"
   ]
  },
  {
   "cell_type": "code",
   "execution_count": 84,
   "id": "8eb73140",
   "metadata": {},
   "outputs": [
    {
     "name": "stdout",
     "output_type": "stream",
     "text": [
      "4\n"
     ]
    }
   ],
   "source": [
    "a = A()\n",
    "b = c = a\n",
    "\n",
    "print(sys.getrefcount(a))"
   ]
  },
  {
   "cell_type": "code",
   "execution_count": 85,
   "id": "0208cac5",
   "metadata": {},
   "outputs": [],
   "source": [
    "del a"
   ]
  },
  {
   "cell_type": "code",
   "execution_count": 87,
   "id": "44e5024a",
   "metadata": {},
   "outputs": [
    {
     "name": "stdout",
     "output_type": "stream",
     "text": [
      "3\n"
     ]
    }
   ],
   "source": [
    "print(sys.getrefcount(b))\n"
   ]
  },
  {
   "cell_type": "code",
   "execution_count": 88,
   "id": "e0912c45",
   "metadata": {},
   "outputs": [
    {
     "name": "stdout",
     "output_type": "stream",
     "text": [
      "2\n"
     ]
    }
   ],
   "source": [
    "del b\n",
    "print(sys.getrefcount(c))"
   ]
  },
  {
   "cell_type": "code",
   "execution_count": 89,
   "id": "628af94a",
   "metadata": {},
   "outputs": [
    {
     "name": "stdout",
     "output_type": "stream",
     "text": [
      "delete A\n"
     ]
    }
   ],
   "source": [
    "del c"
   ]
  },
  {
   "cell_type": "code",
   "execution_count": 118,
   "id": "89957c38",
   "metadata": {},
   "outputs": [],
   "source": [
    "weakref.getweakrefcount?"
   ]
  },
  {
   "cell_type": "code",
   "execution_count": 120,
   "id": "0143dbe0",
   "metadata": {},
   "outputs": [
    {
     "name": "stdout",
     "output_type": "stream",
     "text": [
      "init 2\n",
      "weakref count 1\n",
      "weak init 2\n",
      "weak call 3\n",
      "is True\n",
      "weak del 2\n",
      "weakref count 1\n",
      "[<weakref at 0x107d344f0; to 'A' at 0x107019c60>]\n",
      "delete A\n",
      "ref after del None\n"
     ]
    }
   ],
   "source": [
    "a = A()\n",
    "print(\"init\", sys.getrefcount(a))\n",
    "\n",
    "ref1 = weakref.ref(a)\n",
    "ref2 = weakref.ref(a)\n",
    "ref3 = weakref.ref(a)\n",
    "\n",
    "print(\"weakref count\", weakref.getweakrefcount(a))\n",
    "print(\"weak init\", sys.getrefcount(a))\n",
    "\n",
    "a_ref = ref1()\n",
    "print(\"weak call\", sys.getrefcount(a))\n",
    "\n",
    "print(\"is\", a is a_ref)\n",
    "\n",
    "del a_ref\n",
    "print(\"weak del\", sys.getrefcount(a))\n",
    "\n",
    "print(\"weakref count\", weakref.getweakrefcount(a))\n",
    "\n",
    "print(weakref.getweakrefs(a))\n",
    "\n",
    "del a\n",
    "\n",
    "print(\"ref after del\", ref())\n"
   ]
  },
  {
   "cell_type": "code",
   "execution_count": 103,
   "id": "33ef678a",
   "metadata": {},
   "outputs": [],
   "source": [
    "a_ref = ref()"
   ]
  },
  {
   "cell_type": "code",
   "execution_count": 108,
   "id": "2a38a750",
   "metadata": {},
   "outputs": [
    {
     "data": {
      "text/plain": [
       "3"
      ]
     },
     "execution_count": 108,
     "metadata": {},
     "output_type": "execute_result"
    }
   ],
   "source": [
    "sys.getrefcount(a)"
   ]
  },
  {
   "cell_type": "code",
   "execution_count": 125,
   "id": "92da1e1e",
   "metadata": {},
   "outputs": [
    {
     "name": "stdout",
     "output_type": "stream",
     "text": [
      "4\n"
     ]
    }
   ],
   "source": [
    "a = A()\n",
    "\n",
    "def print_del():\n",
    "    print(\"final del\")\n",
    "\n",
    "weakref.finalize(a, print_del)\n",
    "\n",
    "b = c = a\n",
    "\n",
    "print(sys.getrefcount(a))"
   ]
  },
  {
   "cell_type": "code",
   "execution_count": 122,
   "id": "16608ef0",
   "metadata": {},
   "outputs": [],
   "source": [
    "del b, c"
   ]
  },
  {
   "cell_type": "code",
   "execution_count": 123,
   "id": "16694f21",
   "metadata": {},
   "outputs": [
    {
     "name": "stdout",
     "output_type": "stream",
     "text": [
      "2\n"
     ]
    }
   ],
   "source": [
    "print(sys.getrefcount(a))"
   ]
  },
  {
   "cell_type": "code",
   "execution_count": 124,
   "id": "b405a37b",
   "metadata": {},
   "outputs": [
    {
     "name": "stdout",
     "output_type": "stream",
     "text": [
      "delete A\n",
      "final del\n"
     ]
    }
   ],
   "source": [
    "del a"
   ]
  },
  {
   "cell_type": "code",
   "execution_count": 126,
   "id": "30a6b1ba",
   "metadata": {},
   "outputs": [
    {
     "name": "stdout",
     "output_type": "stream",
     "text": [
      "delete A\n",
      "final del\n",
      "4\n"
     ]
    }
   ],
   "source": [
    "a = A()\n",
    "\n",
    "def print_del():\n",
    "    print(\"final del\")\n",
    "\n",
    "weakref.finalize(a, print_del)\n",
    "\n",
    "b = c = a\n",
    "\n",
    "print(sys.getrefcount(a))"
   ]
  },
  {
   "cell_type": "code",
   "execution_count": 127,
   "id": "40dff8a6",
   "metadata": {},
   "outputs": [],
   "source": [
    "a.ref = a"
   ]
  },
  {
   "cell_type": "code",
   "execution_count": 128,
   "id": "6b0a7353",
   "metadata": {},
   "outputs": [],
   "source": [
    "del a, b, c"
   ]
  },
  {
   "cell_type": "code",
   "execution_count": 129,
   "id": "7a64f5f9",
   "metadata": {},
   "outputs": [
    {
     "name": "stdout",
     "output_type": "stream",
     "text": [
      "final del\n",
      "delete A\n",
      "delete A\n"
     ]
    },
    {
     "data": {
      "text/plain": [
       "2420"
      ]
     },
     "execution_count": 129,
     "metadata": {},
     "output_type": "execute_result"
    }
   ],
   "source": [
    "gc.collect()"
   ]
  },
  {
   "cell_type": "code",
   "execution_count": null,
   "id": "2f2288d7",
   "metadata": {},
   "outputs": [],
   "source": []
  },
  {
   "cell_type": "code",
   "execution_count": 130,
   "id": "bc5ce770",
   "metadata": {},
   "outputs": [],
   "source": [
    "import cProfile, pstats, io"
   ]
  },
  {
   "cell_type": "code",
   "execution_count": 131,
   "id": "a5298e35",
   "metadata": {},
   "outputs": [
    {
     "name": "stdout",
     "output_type": "stream",
     "text": [
      "         22004 function calls (114 primitive calls) in 0.006 seconds\n",
      "\n",
      "   Random listing order was used\n",
      "\n",
      "   ncalls  tottime  percall  cumtime  percall filename:lineno(function)\n",
      "        4    0.000    0.000    0.000    0.000 {method 'co_lines' of 'code' objects}\n",
      "        4    0.000    0.000    0.000    0.000 {method 'replace' of 'code' objects}\n",
      "        4    0.000    0.000    0.000    0.000 {built-in method builtins.compile}\n",
      "        4    0.000    0.000    0.006    0.002 {built-in method builtins.exec}\n",
      "        8    0.000    0.000    0.000    0.000 {built-in method builtins.getattr}\n",
      "        5    0.000    0.000    0.000    0.000 {built-in method builtins.hasattr}\n",
      "        1    0.000    0.000    0.000    0.000 {built-in method builtins.isinstance}\n",
      "        1    0.000    0.000    0.000    0.000 {built-in method builtins.len}\n",
      "       12    0.000    0.000    0.000    0.000 {built-in method builtins.next}\n",
      "        4    0.000    0.000    0.000    0.000 /Library/Frameworks/Python.framework/Versions/3.10/lib/python3.10/contextlib.py:102(__init__)\n",
      "        4    0.000    0.000    0.000    0.000 /Library/Frameworks/Python.framework/Versions/3.10/lib/python3.10/contextlib.py:130(__enter__)\n",
      "        4    0.000    0.000    0.000    0.000 /Library/Frameworks/Python.framework/Versions/3.10/lib/python3.10/contextlib.py:139(__exit__)\n",
      "        4    0.000    0.000    0.000    0.000 /Library/Frameworks/Python.framework/Versions/3.10/lib/python3.10/contextlib.py:279(helper)\n",
      "        4    0.000    0.000    0.000    0.000 /Users/g.kandaurov/venv_education/vk_edx/lib/python3.10/site-packages/traitlets/traitlets.py:535(get)\n",
      "        4    0.000    0.000    0.000    0.000 /Users/g.kandaurov/venv_education/vk_edx/lib/python3.10/site-packages/traitlets/traitlets.py:566(__get__)\n",
      "        8    0.000    0.000    0.000    0.000 /Library/Frameworks/Python.framework/Versions/3.10/lib/python3.10/dis.py:453(findlinestarts)\n",
      "        4    0.000    0.000    0.000    0.000 /Library/Frameworks/Python.framework/Versions/3.10/lib/python3.10/codeop.py:149(__call__)\n",
      "        8    0.000    0.000    0.000    0.000 /Users/g.kandaurov/venv_education/vk_edx/lib/python3.10/site-packages/IPython/core/compilerop.py:174(extra_flags)\n",
      "        4    0.000    0.000    0.000    0.000 /Users/g.kandaurov/venv_education/vk_edx/lib/python3.10/site-packages/IPython/core/interactiveshell.py:1181(user_global_ns)\n",
      "        4    0.000    0.000    0.000    0.000 /Users/g.kandaurov/venv_education/vk_edx/lib/python3.10/site-packages/IPython/core/interactiveshell.py:3178(_update_code_co_name)\n",
      "        4    0.000    0.000    0.000    0.000 /Users/g.kandaurov/venv_education/vk_edx/lib/python3.10/site-packages/IPython/core/interactiveshell.py:3276(compare)\n",
      "        4    0.000    0.000    0.006    0.002 /Users/g.kandaurov/venv_education/vk_edx/lib/python3.10/site-packages/IPython/core/interactiveshell.py:3325(run_code)\n",
      "        1    0.000    0.000    0.000    0.000 /Library/Frameworks/Python.framework/Versions/3.10/lib/python3.10/cProfile.py:50(create_stats)\n",
      "        1    0.000    0.000    0.000    0.000 /Library/Frameworks/Python.framework/Versions/3.10/lib/python3.10/pstats.py:107(__init__)\n",
      "        1    0.000    0.000    0.000    0.000 /Library/Frameworks/Python.framework/Versions/3.10/lib/python3.10/pstats.py:117(init)\n",
      "        1    0.000    0.000    0.000    0.000 /Library/Frameworks/Python.framework/Versions/3.10/lib/python3.10/pstats.py:136(load_stats)\n",
      "        1    0.000    0.000    0.000    0.000 {method 'enable' of '_lsprof.Profiler' objects}\n",
      "        1    0.000    0.000    0.000    0.000 {method 'disable' of '_lsprof.Profiler' objects}\n",
      "        1    0.000    0.000    0.000    0.000 /var/folders/c1/9wdb7dps2x332c6l1y2hrqkh0000gp/T/ipykernel_79437/40559413.py:1(<cell line: 18>)\n",
      "  21891/1    0.006    0.000    0.006    0.006 /var/folders/c1/9wdb7dps2x332c6l1y2hrqkh0000gp/T/ipykernel_79437/40559413.py:1(fib)\n",
      "        1    0.000    0.000    0.000    0.000 /var/folders/c1/9wdb7dps2x332c6l1y2hrqkh0000gp/T/ipykernel_79437/40559413.py:1(<cell line: 13>)\n",
      "        1    0.000    0.000    0.000    0.000 /var/folders/c1/9wdb7dps2x332c6l1y2hrqkh0000gp/T/ipykernel_79437/40559413.py:1(<cell line: 16>)\n",
      "        1    0.000    0.000    0.006    0.006 /var/folders/c1/9wdb7dps2x332c6l1y2hrqkh0000gp/T/ipykernel_79437/40559413.py:1(<cell line: 11>)\n",
      "\n",
      "\n",
      "\n"
     ]
    }
   ],
   "source": [
    "def fib(n):\n",
    "    if n < 2:\n",
    "        return 1\n",
    "\n",
    "    return fib(n - 1) + fib(n - 2)\n",
    "\n",
    "\n",
    "pr = cProfile.Profile()\n",
    "pr.enable()\n",
    "\n",
    "fib(20)\n",
    "\n",
    "pr.enable()\n",
    "\n",
    "\n",
    "out = io.StringIO()\n",
    "#sortby = \n",
    "ps = pstats.Stats(pr, stream=out)\n",
    "ps.print_stats()\n",
    "\n",
    "print(out.getvalue())"
   ]
  },
  {
   "cell_type": "code",
   "execution_count": null,
   "id": "752742f6",
   "metadata": {},
   "outputs": [],
   "source": []
  },
  {
   "cell_type": "code",
   "execution_count": null,
   "id": "1dfdd3eb",
   "metadata": {},
   "outputs": [],
   "source": []
  },
  {
   "cell_type": "code",
   "execution_count": null,
   "id": "9a581324",
   "metadata": {},
   "outputs": [],
   "source": []
  }
 ],
 "metadata": {
  "kernelspec": {
   "display_name": "Python 3 (ipykernel)",
   "language": "python",
   "name": "python3"
  },
  "language_info": {
   "codemirror_mode": {
    "name": "ipython",
    "version": 3
   },
   "file_extension": ".py",
   "mimetype": "text/x-python",
   "name": "python",
   "nbconvert_exporter": "python",
   "pygments_lexer": "ipython3",
   "version": "3.10.2"
  }
 },
 "nbformat": 4,
 "nbformat_minor": 5
}
